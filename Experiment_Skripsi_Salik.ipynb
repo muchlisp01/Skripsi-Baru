{
  "cells": [
    {
      "cell_type": "markdown",
      "metadata": {
        "id": "CfGX0jJxQXYF"
      },
      "source": [
        "# **Module**"
      ]
    },
    {
      "cell_type": "code",
      "execution_count": null,
      "metadata": {
        "colab": {
          "base_uri": "https://localhost:8080/"
        },
        "id": "81Xt9zMwQdpx",
        "outputId": "8eda5341-6519-43b4-f112-ae9c6d81b549"
      },
      "outputs": [
        {
          "output_type": "stream",
          "name": "stdout",
          "text": [
            "Collecting unidecode\n",
            "  Downloading Unidecode-1.3.8-py3-none-any.whl (235 kB)\n",
            "\u001b[2K     \u001b[90m━━━━━━━━━━━━━━━━━━━━━━━━━━━━━━━━━━━━━━━━\u001b[0m \u001b[32m235.5/235.5 kB\u001b[0m \u001b[31m2.2 MB/s\u001b[0m eta \u001b[36m0:00:00\u001b[0m\n",
            "\u001b[?25hInstalling collected packages: unidecode\n",
            "Successfully installed unidecode-1.3.8\n",
            "Requirement already satisfied: textblob in /usr/local/lib/python3.10/dist-packages (0.17.1)\n",
            "Collecting textblob\n",
            "  Downloading textblob-0.18.0.post0-py3-none-any.whl (626 kB)\n",
            "\u001b[2K     \u001b[90m━━━━━━━━━━━━━━━━━━━━━━━━━━━━━━━━━━━━━━━━\u001b[0m \u001b[32m626.3/626.3 kB\u001b[0m \u001b[31m9.6 MB/s\u001b[0m eta \u001b[36m0:00:00\u001b[0m\n",
            "\u001b[?25hRequirement already satisfied: nltk>=3.8 in /usr/local/lib/python3.10/dist-packages (from textblob) (3.8.1)\n",
            "Requirement already satisfied: click in /usr/local/lib/python3.10/dist-packages (from nltk>=3.8->textblob) (8.1.7)\n",
            "Requirement already satisfied: joblib in /usr/local/lib/python3.10/dist-packages (from nltk>=3.8->textblob) (1.4.2)\n",
            "Requirement already satisfied: regex>=2021.8.3 in /usr/local/lib/python3.10/dist-packages (from nltk>=3.8->textblob) (2024.5.15)\n",
            "Requirement already satisfied: tqdm in /usr/local/lib/python3.10/dist-packages (from nltk>=3.8->textblob) (4.66.4)\n",
            "Installing collected packages: textblob\n",
            "  Attempting uninstall: textblob\n",
            "    Found existing installation: textblob 0.17.1\n",
            "    Uninstalling textblob-0.17.1:\n",
            "      Successfully uninstalled textblob-0.17.1\n",
            "Successfully installed textblob-0.18.0.post0\n",
            "Collecting sastrawi\n",
            "  Downloading Sastrawi-1.0.1-py2.py3-none-any.whl (209 kB)\n",
            "\u001b[2K     \u001b[90m━━━━━━━━━━━━━━━━━━━━━━━━━━━━━━━━━━━━━━━━\u001b[0m \u001b[32m209.7/209.7 kB\u001b[0m \u001b[31m3.8 MB/s\u001b[0m eta \u001b[36m0:00:00\u001b[0m\n",
            "\u001b[?25hInstalling collected packages: sastrawi\n",
            "Successfully installed sastrawi-1.0.1\n",
            "Requirement already satisfied: tqdm in /usr/local/lib/python3.10/dist-packages (4.66.4)\n",
            "Collecting wget\n",
            "  Downloading wget-3.2.zip (10 kB)\n",
            "  Preparing metadata (setup.py) ... \u001b[?25l\u001b[?25hdone\n",
            "Building wheels for collected packages: wget\n",
            "  Building wheel for wget (setup.py) ... \u001b[?25l\u001b[?25hdone\n",
            "  Created wheel for wget: filename=wget-3.2-py3-none-any.whl size=9656 sha256=a9e92029ba43ea326b92958792de6481adf668faed07cef13fcb68e43d0b7947\n",
            "  Stored in directory: /root/.cache/pip/wheels/8b/f1/7f/5c94f0a7a505ca1c81cd1d9208ae2064675d97582078e6c769\n",
            "Successfully built wget\n",
            "Installing collected packages: wget\n",
            "Successfully installed wget-3.2\n",
            "Collecting dash\n",
            "  Downloading dash-2.17.1-py3-none-any.whl (7.5 MB)\n",
            "\u001b[2K     \u001b[90m━━━━━━━━━━━━━━━━━━━━━━━━━━━━━━━━━━━━━━━━\u001b[0m \u001b[32m7.5/7.5 MB\u001b[0m \u001b[31m44.5 MB/s\u001b[0m eta \u001b[36m0:00:00\u001b[0m\n",
            "\u001b[?25hRequirement already satisfied: Flask<3.1,>=1.0.4 in /usr/local/lib/python3.10/dist-packages (from dash) (2.2.5)\n",
            "Requirement already satisfied: Werkzeug<3.1 in /usr/local/lib/python3.10/dist-packages (from dash) (3.0.3)\n",
            "Requirement already satisfied: plotly>=5.0.0 in /usr/local/lib/python3.10/dist-packages (from dash) (5.15.0)\n",
            "Collecting dash-html-components==2.0.0 (from dash)\n",
            "  Downloading dash_html_components-2.0.0-py3-none-any.whl (4.1 kB)\n",
            "Collecting dash-core-components==2.0.0 (from dash)\n",
            "  Downloading dash_core_components-2.0.0-py3-none-any.whl (3.8 kB)\n",
            "Collecting dash-table==5.0.0 (from dash)\n",
            "  Downloading dash_table-5.0.0-py3-none-any.whl (3.9 kB)\n",
            "Requirement already satisfied: importlib-metadata in /usr/local/lib/python3.10/dist-packages (from dash) (8.0.0)\n",
            "Requirement already satisfied: typing-extensions>=4.1.1 in /usr/local/lib/python3.10/dist-packages (from dash) (4.12.2)\n",
            "Requirement already satisfied: requests in /usr/local/lib/python3.10/dist-packages (from dash) (2.31.0)\n",
            "Collecting retrying (from dash)\n",
            "  Downloading retrying-1.3.4-py3-none-any.whl (11 kB)\n",
            "Requirement already satisfied: nest-asyncio in /usr/local/lib/python3.10/dist-packages (from dash) (1.6.0)\n",
            "Requirement already satisfied: setuptools in /usr/local/lib/python3.10/dist-packages (from dash) (67.7.2)\n",
            "Requirement already satisfied: Jinja2>=3.0 in /usr/local/lib/python3.10/dist-packages (from Flask<3.1,>=1.0.4->dash) (3.1.4)\n",
            "Requirement already satisfied: itsdangerous>=2.0 in /usr/local/lib/python3.10/dist-packages (from Flask<3.1,>=1.0.4->dash) (2.2.0)\n",
            "Requirement already satisfied: click>=8.0 in /usr/local/lib/python3.10/dist-packages (from Flask<3.1,>=1.0.4->dash) (8.1.7)\n",
            "Requirement already satisfied: tenacity>=6.2.0 in /usr/local/lib/python3.10/dist-packages (from plotly>=5.0.0->dash) (8.5.0)\n",
            "Requirement already satisfied: packaging in /usr/local/lib/python3.10/dist-packages (from plotly>=5.0.0->dash) (24.1)\n",
            "Requirement already satisfied: MarkupSafe>=2.1.1 in /usr/local/lib/python3.10/dist-packages (from Werkzeug<3.1->dash) (2.1.5)\n",
            "Requirement already satisfied: zipp>=0.5 in /usr/local/lib/python3.10/dist-packages (from importlib-metadata->dash) (3.19.2)\n",
            "Requirement already satisfied: charset-normalizer<4,>=2 in /usr/local/lib/python3.10/dist-packages (from requests->dash) (3.3.2)\n",
            "Requirement already satisfied: idna<4,>=2.5 in /usr/local/lib/python3.10/dist-packages (from requests->dash) (3.7)\n",
            "Requirement already satisfied: urllib3<3,>=1.21.1 in /usr/local/lib/python3.10/dist-packages (from requests->dash) (2.0.7)\n",
            "Requirement already satisfied: certifi>=2017.4.17 in /usr/local/lib/python3.10/dist-packages (from requests->dash) (2024.7.4)\n",
            "Requirement already satisfied: six>=1.7.0 in /usr/local/lib/python3.10/dist-packages (from retrying->dash) (1.16.0)\n",
            "Installing collected packages: dash-table, dash-html-components, dash-core-components, retrying, dash\n",
            "Successfully installed dash-2.17.1 dash-core-components-2.0.0 dash-html-components-2.0.0 dash-table-5.0.0 retrying-1.3.4\n",
            "Collecting igraph\n",
            "  Downloading igraph-0.11.6-cp39-abi3-manylinux_2_17_x86_64.manylinux2014_x86_64.whl (3.1 MB)\n",
            "\u001b[2K     \u001b[90m━━━━━━━━━━━━━━━━━━━━━━━━━━━━━━━━━━━━━━━━\u001b[0m \u001b[32m3.1/3.1 MB\u001b[0m \u001b[31m27.4 MB/s\u001b[0m eta \u001b[36m0:00:00\u001b[0m\n",
            "\u001b[?25hCollecting texttable>=1.6.2 (from igraph)\n",
            "  Downloading texttable-1.7.0-py2.py3-none-any.whl (10 kB)\n",
            "Installing collected packages: texttable, igraph\n",
            "Successfully installed igraph-0.11.6 texttable-1.7.0\n",
            "Collecting leidenalg\n",
            "  Downloading leidenalg-0.10.2-cp38-abi3-manylinux_2_17_x86_64.manylinux2014_x86_64.whl (2.0 MB)\n",
            "\u001b[2K     \u001b[90m━━━━━━━━━━━━━━━━━━━━━━━━━━━━━━━━━━━━━━━━\u001b[0m \u001b[32m2.0/2.0 MB\u001b[0m \u001b[31m7.2 MB/s\u001b[0m eta \u001b[36m0:00:00\u001b[0m\n",
            "\u001b[?25hRequirement already satisfied: igraph<0.12,>=0.10.0 in /usr/local/lib/python3.10/dist-packages (from leidenalg) (0.11.6)\n",
            "Requirement already satisfied: texttable>=1.6.2 in /usr/local/lib/python3.10/dist-packages (from igraph<0.12,>=0.10.0->leidenalg) (1.7.0)\n",
            "Installing collected packages: leidenalg\n",
            "Successfully installed leidenalg-0.10.2\n"
          ]
        }
      ],
      "source": [
        "# download modules\n",
        "#!pip install --upgrade infomap\n",
        "!pip install --upgrade unidecode\n",
        "!pip install --upgrade textblob\n",
        "!pip install --upgrade sastrawi\n",
        "!pip install --upgrade tqdm\n",
        "!pip install --upgrade wget\n",
        "!pip install --upgrade dash\n",
        "!pip install --upgrade igraph\n",
        "!pip install --upgrade leidenalg"
      ]
    },
    {
      "cell_type": "code",
      "execution_count": null,
      "metadata": {
        "colab": {
          "base_uri": "https://localhost:8080/"
        },
        "id": "fyDo-cq2gR71",
        "outputId": "ee76e61c-be10-4ec6-d1ba-c266c435e24a"
      },
      "outputs": [
        {
          "output_type": "stream",
          "name": "stderr",
          "text": [
            "[nltk_data] Downloading package punkt to /root/nltk_data...\n",
            "[nltk_data]   Unzipping tokenizers/punkt.zip.\n"
          ]
        }
      ],
      "source": [
        "# import modules\n",
        "import warnings; warnings.simplefilter('ignore')\n",
        "import pandas as pd\n",
        "import re\n",
        "import string\n",
        "from unidecode import unidecode\n",
        "from html import unescape\n",
        "from tqdm import tqdm\n",
        "import nltk\n",
        "from nltk import word_tokenize\n",
        "nltk.download('punkt')\n",
        "from Sastrawi.Stemmer.StemmerFactory import StemmerFactory\n",
        "from collections import  Counter\n",
        "import plotly.express as px\n",
        "import plotly.graph_objects as go\n",
        "from dash import Dash, html, dcc, Input, Output\n",
        "\n",
        "import wget\n",
        "import urllib.request\n",
        "from wordcloud import WordCloud\n",
        "import matplotlib.pyplot as plt\n",
        "import seaborn as sns\n",
        "\n",
        "import networkx as nx\n",
        "#from infomap import Infomap\n",
        "import igraph as ig\n",
        "import leidenalg as la\n",
        "import nltk\n",
        "import matplotlib.pyplot as plt"
      ]
    },
    {
      "cell_type": "markdown",
      "metadata": {
        "id": "wemoYIqVOWlP"
      },
      "source": [
        "# **Data**\n",
        "Data tweet seputar perbincangan agama islam yang diperoleh melalui proses *crawling* dari Twitter dengan berbagai macam keyword terkait yang dapat diakses pada *spreadsheet* berikut:\n",
        "\n",
        "https://docs.google.com/spreadsheets/d/15lfv2HDYOyns_Z_fZ1QU39wbzxvxMiUT_v_k92UbyfY/edit?usp=sharing"
      ]
    },
    {
      "cell_type": "markdown",
      "metadata": {
        "id": "qx9HaSxjSV82"
      },
      "source": [
        "## Load Data"
      ]
    },
    {
      "cell_type": "code",
      "execution_count": null,
      "metadata": {
        "colab": {
          "base_uri": "https://localhost:8080/"
        },
        "id": "pMaaGX6KhWsY",
        "outputId": "aeeb69c3-644d-437a-aafb-d261a577c5e6"
      },
      "outputs": [
        {
          "output_type": "stream",
          "name": "stdout",
          "text": [
            "Mounted at /content/drive\n"
          ]
        }
      ],
      "source": [
        "# connect to google drive\n",
        "from google.colab import drive\n",
        "drive.mount('/content/drive')"
      ]
    },
    {
      "cell_type": "code",
      "execution_count": null,
      "metadata": {
        "id": "DWUmCvDpl-_7",
        "colab": {
          "base_uri": "https://localhost:8080/"
        },
        "outputId": "b77d09e3-471c-4cfb-f3a7-5bf14d6ba699"
      },
      "outputs": [
        {
          "output_type": "stream",
          "name": "stdout",
          "text": [
            "(506386, 18)\n"
          ]
        }
      ],
      "source": [
        "# load data\n",
        "df = pd.read_csv('/content/drive/MyDrive/Berkas Skripsi/Data/Data_Agama.csv', low_memory=False)\n",
        "print(df.shape)"
      ]
    },
    {
      "cell_type": "markdown",
      "metadata": {
        "id": "DCqzD6YyUUWg"
      },
      "source": [
        "## Basic Preprocessing"
      ]
    },
    {
      "cell_type": "code",
      "execution_count": null,
      "metadata": {
        "id": "SsmKnl9-eySe",
        "colab": {
          "base_uri": "https://localhost:8080/"
        },
        "outputId": "df3dfddc-1903-4377-968f-e92a86707ab5"
      },
      "outputs": [
        {
          "output_type": "execute_result",
          "data": {
            "text/plain": [
              "  screen_name                                              tweet  created_at\n",
              "0       paoir  saya liberal! Meliberalkan diri dari tahayul b...         NaN\n",
              "1   ab_sadewa  Untuk mengurangi kemacetan di jakarta, mari ke...  2010-10-25\n",
              "2   reszzjava  @firahermana nice tweets. Mungkin film itu bis...         NaN\n",
              "3   D_Armalia  RT @luvditz: Liat dude herlino kayanya artis p...         NaN\n",
              "4     Ayesaja  Tolong jelaskan mengapa Al Qur'an tdk bs memaj...  2010-12-07"
            ],
            "text/html": [
              "\n",
              "  <div id=\"df-e9ee3fd5-325d-4e18-b416-8c81d1437f32\" class=\"colab-df-container\">\n",
              "    <div>\n",
              "<style scoped>\n",
              "    .dataframe tbody tr th:only-of-type {\n",
              "        vertical-align: middle;\n",
              "    }\n",
              "\n",
              "    .dataframe tbody tr th {\n",
              "        vertical-align: top;\n",
              "    }\n",
              "\n",
              "    .dataframe thead th {\n",
              "        text-align: right;\n",
              "    }\n",
              "</style>\n",
              "<table border=\"1\" class=\"dataframe\">\n",
              "  <thead>\n",
              "    <tr style=\"text-align: right;\">\n",
              "      <th></th>\n",
              "      <th>screen_name</th>\n",
              "      <th>tweet</th>\n",
              "      <th>created_at</th>\n",
              "    </tr>\n",
              "  </thead>\n",
              "  <tbody>\n",
              "    <tr>\n",
              "      <th>0</th>\n",
              "      <td>paoir</td>\n",
              "      <td>saya liberal! Meliberalkan diri dari tahayul b...</td>\n",
              "      <td>NaN</td>\n",
              "    </tr>\n",
              "    <tr>\n",
              "      <th>1</th>\n",
              "      <td>ab_sadewa</td>\n",
              "      <td>Untuk mengurangi kemacetan di jakarta, mari ke...</td>\n",
              "      <td>2010-10-25</td>\n",
              "    </tr>\n",
              "    <tr>\n",
              "      <th>2</th>\n",
              "      <td>reszzjava</td>\n",
              "      <td>@firahermana nice tweets. Mungkin film itu bis...</td>\n",
              "      <td>NaN</td>\n",
              "    </tr>\n",
              "    <tr>\n",
              "      <th>3</th>\n",
              "      <td>D_Armalia</td>\n",
              "      <td>RT @luvditz: Liat dude herlino kayanya artis p...</td>\n",
              "      <td>NaN</td>\n",
              "    </tr>\n",
              "    <tr>\n",
              "      <th>4</th>\n",
              "      <td>Ayesaja</td>\n",
              "      <td>Tolong jelaskan mengapa Al Qur'an tdk bs memaj...</td>\n",
              "      <td>2010-12-07</td>\n",
              "    </tr>\n",
              "  </tbody>\n",
              "</table>\n",
              "</div>\n",
              "    <div class=\"colab-df-buttons\">\n",
              "\n",
              "  <div class=\"colab-df-container\">\n",
              "    <button class=\"colab-df-convert\" onclick=\"convertToInteractive('df-e9ee3fd5-325d-4e18-b416-8c81d1437f32')\"\n",
              "            title=\"Convert this dataframe to an interactive table.\"\n",
              "            style=\"display:none;\">\n",
              "\n",
              "  <svg xmlns=\"http://www.w3.org/2000/svg\" height=\"24px\" viewBox=\"0 -960 960 960\">\n",
              "    <path d=\"M120-120v-720h720v720H120Zm60-500h600v-160H180v160Zm220 220h160v-160H400v160Zm0 220h160v-160H400v160ZM180-400h160v-160H180v160Zm440 0h160v-160H620v160ZM180-180h160v-160H180v160Zm440 0h160v-160H620v160Z\"/>\n",
              "  </svg>\n",
              "    </button>\n",
              "\n",
              "  <style>\n",
              "    .colab-df-container {\n",
              "      display:flex;\n",
              "      gap: 12px;\n",
              "    }\n",
              "\n",
              "    .colab-df-convert {\n",
              "      background-color: #E8F0FE;\n",
              "      border: none;\n",
              "      border-radius: 50%;\n",
              "      cursor: pointer;\n",
              "      display: none;\n",
              "      fill: #1967D2;\n",
              "      height: 32px;\n",
              "      padding: 0 0 0 0;\n",
              "      width: 32px;\n",
              "    }\n",
              "\n",
              "    .colab-df-convert:hover {\n",
              "      background-color: #E2EBFA;\n",
              "      box-shadow: 0px 1px 2px rgba(60, 64, 67, 0.3), 0px 1px 3px 1px rgba(60, 64, 67, 0.15);\n",
              "      fill: #174EA6;\n",
              "    }\n",
              "\n",
              "    .colab-df-buttons div {\n",
              "      margin-bottom: 4px;\n",
              "    }\n",
              "\n",
              "    [theme=dark] .colab-df-convert {\n",
              "      background-color: #3B4455;\n",
              "      fill: #D2E3FC;\n",
              "    }\n",
              "\n",
              "    [theme=dark] .colab-df-convert:hover {\n",
              "      background-color: #434B5C;\n",
              "      box-shadow: 0px 1px 3px 1px rgba(0, 0, 0, 0.15);\n",
              "      filter: drop-shadow(0px 1px 2px rgba(0, 0, 0, 0.3));\n",
              "      fill: #FFFFFF;\n",
              "    }\n",
              "  </style>\n",
              "\n",
              "    <script>\n",
              "      const buttonEl =\n",
              "        document.querySelector('#df-e9ee3fd5-325d-4e18-b416-8c81d1437f32 button.colab-df-convert');\n",
              "      buttonEl.style.display =\n",
              "        google.colab.kernel.accessAllowed ? 'block' : 'none';\n",
              "\n",
              "      async function convertToInteractive(key) {\n",
              "        const element = document.querySelector('#df-e9ee3fd5-325d-4e18-b416-8c81d1437f32');\n",
              "        const dataTable =\n",
              "          await google.colab.kernel.invokeFunction('convertToInteractive',\n",
              "                                                    [key], {});\n",
              "        if (!dataTable) return;\n",
              "\n",
              "        const docLinkHtml = 'Like what you see? Visit the ' +\n",
              "          '<a target=\"_blank\" href=https://colab.research.google.com/notebooks/data_table.ipynb>data table notebook</a>'\n",
              "          + ' to learn more about interactive tables.';\n",
              "        element.innerHTML = '';\n",
              "        dataTable['output_type'] = 'display_data';\n",
              "        await google.colab.output.renderOutput(dataTable, element);\n",
              "        const docLink = document.createElement('div');\n",
              "        docLink.innerHTML = docLinkHtml;\n",
              "        element.appendChild(docLink);\n",
              "      }\n",
              "    </script>\n",
              "  </div>\n",
              "\n",
              "\n",
              "<div id=\"df-ead22288-0e3c-42fe-97a9-019bf8738044\">\n",
              "  <button class=\"colab-df-quickchart\" onclick=\"quickchart('df-ead22288-0e3c-42fe-97a9-019bf8738044')\"\n",
              "            title=\"Suggest charts\"\n",
              "            style=\"display:none;\">\n",
              "\n",
              "<svg xmlns=\"http://www.w3.org/2000/svg\" height=\"24px\"viewBox=\"0 0 24 24\"\n",
              "     width=\"24px\">\n",
              "    <g>\n",
              "        <path d=\"M19 3H5c-1.1 0-2 .9-2 2v14c0 1.1.9 2 2 2h14c1.1 0 2-.9 2-2V5c0-1.1-.9-2-2-2zM9 17H7v-7h2v7zm4 0h-2V7h2v10zm4 0h-2v-4h2v4z\"/>\n",
              "    </g>\n",
              "</svg>\n",
              "  </button>\n",
              "\n",
              "<style>\n",
              "  .colab-df-quickchart {\n",
              "      --bg-color: #E8F0FE;\n",
              "      --fill-color: #1967D2;\n",
              "      --hover-bg-color: #E2EBFA;\n",
              "      --hover-fill-color: #174EA6;\n",
              "      --disabled-fill-color: #AAA;\n",
              "      --disabled-bg-color: #DDD;\n",
              "  }\n",
              "\n",
              "  [theme=dark] .colab-df-quickchart {\n",
              "      --bg-color: #3B4455;\n",
              "      --fill-color: #D2E3FC;\n",
              "      --hover-bg-color: #434B5C;\n",
              "      --hover-fill-color: #FFFFFF;\n",
              "      --disabled-bg-color: #3B4455;\n",
              "      --disabled-fill-color: #666;\n",
              "  }\n",
              "\n",
              "  .colab-df-quickchart {\n",
              "    background-color: var(--bg-color);\n",
              "    border: none;\n",
              "    border-radius: 50%;\n",
              "    cursor: pointer;\n",
              "    display: none;\n",
              "    fill: var(--fill-color);\n",
              "    height: 32px;\n",
              "    padding: 0;\n",
              "    width: 32px;\n",
              "  }\n",
              "\n",
              "  .colab-df-quickchart:hover {\n",
              "    background-color: var(--hover-bg-color);\n",
              "    box-shadow: 0 1px 2px rgba(60, 64, 67, 0.3), 0 1px 3px 1px rgba(60, 64, 67, 0.15);\n",
              "    fill: var(--button-hover-fill-color);\n",
              "  }\n",
              "\n",
              "  .colab-df-quickchart-complete:disabled,\n",
              "  .colab-df-quickchart-complete:disabled:hover {\n",
              "    background-color: var(--disabled-bg-color);\n",
              "    fill: var(--disabled-fill-color);\n",
              "    box-shadow: none;\n",
              "  }\n",
              "\n",
              "  .colab-df-spinner {\n",
              "    border: 2px solid var(--fill-color);\n",
              "    border-color: transparent;\n",
              "    border-bottom-color: var(--fill-color);\n",
              "    animation:\n",
              "      spin 1s steps(1) infinite;\n",
              "  }\n",
              "\n",
              "  @keyframes spin {\n",
              "    0% {\n",
              "      border-color: transparent;\n",
              "      border-bottom-color: var(--fill-color);\n",
              "      border-left-color: var(--fill-color);\n",
              "    }\n",
              "    20% {\n",
              "      border-color: transparent;\n",
              "      border-left-color: var(--fill-color);\n",
              "      border-top-color: var(--fill-color);\n",
              "    }\n",
              "    30% {\n",
              "      border-color: transparent;\n",
              "      border-left-color: var(--fill-color);\n",
              "      border-top-color: var(--fill-color);\n",
              "      border-right-color: var(--fill-color);\n",
              "    }\n",
              "    40% {\n",
              "      border-color: transparent;\n",
              "      border-right-color: var(--fill-color);\n",
              "      border-top-color: var(--fill-color);\n",
              "    }\n",
              "    60% {\n",
              "      border-color: transparent;\n",
              "      border-right-color: var(--fill-color);\n",
              "    }\n",
              "    80% {\n",
              "      border-color: transparent;\n",
              "      border-right-color: var(--fill-color);\n",
              "      border-bottom-color: var(--fill-color);\n",
              "    }\n",
              "    90% {\n",
              "      border-color: transparent;\n",
              "      border-bottom-color: var(--fill-color);\n",
              "    }\n",
              "  }\n",
              "</style>\n",
              "\n",
              "  <script>\n",
              "    async function quickchart(key) {\n",
              "      const quickchartButtonEl =\n",
              "        document.querySelector('#' + key + ' button');\n",
              "      quickchartButtonEl.disabled = true;  // To prevent multiple clicks.\n",
              "      quickchartButtonEl.classList.add('colab-df-spinner');\n",
              "      try {\n",
              "        const charts = await google.colab.kernel.invokeFunction(\n",
              "            'suggestCharts', [key], {});\n",
              "      } catch (error) {\n",
              "        console.error('Error during call to suggestCharts:', error);\n",
              "      }\n",
              "      quickchartButtonEl.classList.remove('colab-df-spinner');\n",
              "      quickchartButtonEl.classList.add('colab-df-quickchart-complete');\n",
              "    }\n",
              "    (() => {\n",
              "      let quickchartButtonEl =\n",
              "        document.querySelector('#df-ead22288-0e3c-42fe-97a9-019bf8738044 button');\n",
              "      quickchartButtonEl.style.display =\n",
              "        google.colab.kernel.accessAllowed ? 'block' : 'none';\n",
              "    })();\n",
              "  </script>\n",
              "</div>\n",
              "\n",
              "    </div>\n",
              "  </div>\n"
            ],
            "application/vnd.google.colaboratory.intrinsic+json": {
              "type": "dataframe",
              "variable_name": "df_baru"
            }
          },
          "metadata": {},
          "execution_count": 5
        }
      ],
      "source": [
        "# column filtering\n",
        "df_baru = df[['screen_name','tweet','created_at']]\n",
        "df_baru.head()"
      ]
    },
    {
      "cell_type": "code",
      "execution_count": null,
      "metadata": {
        "id": "H3Z2I4QRsSaa",
        "colab": {
          "base_uri": "https://localhost:8080/"
        },
        "outputId": "fa987d27-a802-4ff6-9b3c-23a19595f333"
      },
      "outputs": [
        {
          "output_type": "stream",
          "name": "stdout",
          "text": [
            "screen_name      498\n",
            "tweet            105\n",
            "created_at     56247\n",
            "dtype: int64\n",
            "\n",
            "list index berisi Nan : [0, 2, 3, 5, 6]\n",
            "56247\n"
          ]
        }
      ],
      "source": [
        "# handle missing value (column and row level)\n",
        "kolom_null = df_baru.isna().sum()\n",
        "baris_null = df_baru[df_baru.isna().any(axis=1)]\n",
        "\n",
        "# column level\n",
        "print(kolom_null)\n",
        "\n",
        "print()\n",
        "\n",
        "# row level\n",
        "print('list index berisi Nan :', baris_null.index.tolist()[:5])\n",
        "print(len(baris_null))"
      ]
    },
    {
      "cell_type": "code",
      "execution_count": null,
      "metadata": {
        "id": "Uh6VWrpwvu-V",
        "colab": {
          "base_uri": "https://localhost:8080/"
        },
        "outputId": "2474a35b-1ee6-476a-c518-9114589cdec8"
      },
      "outputs": [
        {
          "output_type": "stream",
          "name": "stdout",
          "text": [
            "(450139, 3)\n"
          ]
        }
      ],
      "source": [
        "# remove missing value\n",
        "df_clean = df_baru.dropna()\n",
        "print(df_clean.shape)"
      ]
    },
    {
      "cell_type": "code",
      "execution_count": null,
      "metadata": {
        "id": "N2QVBdpSiH1c",
        "colab": {
          "base_uri": "https://localhost:8080/"
        },
        "outputId": "f82ac32a-782d-4630-a6f7-396dfe5765ad"
      },
      "outputs": [
        {
          "output_type": "stream",
          "name": "stdout",
          "text": [
            "jumlah data tahun 2008: 3\n"
          ]
        }
      ],
      "source": [
        "# remove data 2008\n",
        "print('jumlah data tahun 2008:',len(df_clean[df_clean['created_at'].str.contains('2008')]))\n",
        "df_clean = df_clean[~df_clean['created_at'].str.contains('2008')]"
      ]
    },
    {
      "cell_type": "markdown",
      "metadata": {
        "id": "lQZ-L5_0TOPu"
      },
      "source": [
        "## Data Based On Year"
      ]
    },
    {
      "cell_type": "code",
      "execution_count": null,
      "metadata": {
        "id": "Wb4IiLBk69Bu",
        "colab": {
          "base_uri": "https://localhost:8080/"
        },
        "outputId": "66f746f1-30b9-40be-b8b7-70e2b8cfe6f2"
      },
      "outputs": [
        {
          "output_type": "stream",
          "name": "stdout",
          "text": [
            "total terdapat 11 tahun\n"
          ]
        }
      ],
      "source": [
        "# equalize the date format\n",
        "df_clean['created_at'] = pd.to_datetime(df_clean['created_at'], infer_datetime_format=True, dayfirst=True)\n",
        "\n",
        "# create new column contain only the year\n",
        "df_clean['year'] = df_clean['created_at'].dt.year\n",
        "\n",
        "unique_year = df_clean['year'].unique()\n",
        "print('total terdapat',len(unique_year),'tahun')"
      ]
    },
    {
      "cell_type": "code",
      "execution_count": null,
      "metadata": {
        "id": "N3F3IG7tvNBQ",
        "colab": {
          "base_uri": "https://localhost:8080/"
        },
        "outputId": "f1567833-710a-4fad-eba4-9a148489c327"
      },
      "outputs": [
        {
          "output_type": "execute_result",
          "data": {
            "text/plain": [
              "    year  count\n",
              "0   2009   4058\n",
              "1   2010  20380\n",
              "2   2011  49107\n",
              "3   2012  73436\n",
              "4   2013  78468\n",
              "5   2014  79930\n",
              "6   2015  55425\n",
              "7   2016  34091\n",
              "8   2017  32450\n",
              "9   2018  18777\n",
              "10  2019   4014"
            ],
            "text/html": [
              "\n",
              "  <div id=\"df-c3f854d1-6354-45af-bc81-da3173fd6b85\" class=\"colab-df-container\">\n",
              "    <div>\n",
              "<style scoped>\n",
              "    .dataframe tbody tr th:only-of-type {\n",
              "        vertical-align: middle;\n",
              "    }\n",
              "\n",
              "    .dataframe tbody tr th {\n",
              "        vertical-align: top;\n",
              "    }\n",
              "\n",
              "    .dataframe thead th {\n",
              "        text-align: right;\n",
              "    }\n",
              "</style>\n",
              "<table border=\"1\" class=\"dataframe\">\n",
              "  <thead>\n",
              "    <tr style=\"text-align: right;\">\n",
              "      <th></th>\n",
              "      <th>year</th>\n",
              "      <th>count</th>\n",
              "    </tr>\n",
              "  </thead>\n",
              "  <tbody>\n",
              "    <tr>\n",
              "      <th>0</th>\n",
              "      <td>2009</td>\n",
              "      <td>4058</td>\n",
              "    </tr>\n",
              "    <tr>\n",
              "      <th>1</th>\n",
              "      <td>2010</td>\n",
              "      <td>20380</td>\n",
              "    </tr>\n",
              "    <tr>\n",
              "      <th>2</th>\n",
              "      <td>2011</td>\n",
              "      <td>49107</td>\n",
              "    </tr>\n",
              "    <tr>\n",
              "      <th>3</th>\n",
              "      <td>2012</td>\n",
              "      <td>73436</td>\n",
              "    </tr>\n",
              "    <tr>\n",
              "      <th>4</th>\n",
              "      <td>2013</td>\n",
              "      <td>78468</td>\n",
              "    </tr>\n",
              "    <tr>\n",
              "      <th>5</th>\n",
              "      <td>2014</td>\n",
              "      <td>79930</td>\n",
              "    </tr>\n",
              "    <tr>\n",
              "      <th>6</th>\n",
              "      <td>2015</td>\n",
              "      <td>55425</td>\n",
              "    </tr>\n",
              "    <tr>\n",
              "      <th>7</th>\n",
              "      <td>2016</td>\n",
              "      <td>34091</td>\n",
              "    </tr>\n",
              "    <tr>\n",
              "      <th>8</th>\n",
              "      <td>2017</td>\n",
              "      <td>32450</td>\n",
              "    </tr>\n",
              "    <tr>\n",
              "      <th>9</th>\n",
              "      <td>2018</td>\n",
              "      <td>18777</td>\n",
              "    </tr>\n",
              "    <tr>\n",
              "      <th>10</th>\n",
              "      <td>2019</td>\n",
              "      <td>4014</td>\n",
              "    </tr>\n",
              "  </tbody>\n",
              "</table>\n",
              "</div>\n",
              "    <div class=\"colab-df-buttons\">\n",
              "\n",
              "  <div class=\"colab-df-container\">\n",
              "    <button class=\"colab-df-convert\" onclick=\"convertToInteractive('df-c3f854d1-6354-45af-bc81-da3173fd6b85')\"\n",
              "            title=\"Convert this dataframe to an interactive table.\"\n",
              "            style=\"display:none;\">\n",
              "\n",
              "  <svg xmlns=\"http://www.w3.org/2000/svg\" height=\"24px\" viewBox=\"0 -960 960 960\">\n",
              "    <path d=\"M120-120v-720h720v720H120Zm60-500h600v-160H180v160Zm220 220h160v-160H400v160Zm0 220h160v-160H400v160ZM180-400h160v-160H180v160Zm440 0h160v-160H620v160ZM180-180h160v-160H180v160Zm440 0h160v-160H620v160Z\"/>\n",
              "  </svg>\n",
              "    </button>\n",
              "\n",
              "  <style>\n",
              "    .colab-df-container {\n",
              "      display:flex;\n",
              "      gap: 12px;\n",
              "    }\n",
              "\n",
              "    .colab-df-convert {\n",
              "      background-color: #E8F0FE;\n",
              "      border: none;\n",
              "      border-radius: 50%;\n",
              "      cursor: pointer;\n",
              "      display: none;\n",
              "      fill: #1967D2;\n",
              "      height: 32px;\n",
              "      padding: 0 0 0 0;\n",
              "      width: 32px;\n",
              "    }\n",
              "\n",
              "    .colab-df-convert:hover {\n",
              "      background-color: #E2EBFA;\n",
              "      box-shadow: 0px 1px 2px rgba(60, 64, 67, 0.3), 0px 1px 3px 1px rgba(60, 64, 67, 0.15);\n",
              "      fill: #174EA6;\n",
              "    }\n",
              "\n",
              "    .colab-df-buttons div {\n",
              "      margin-bottom: 4px;\n",
              "    }\n",
              "\n",
              "    [theme=dark] .colab-df-convert {\n",
              "      background-color: #3B4455;\n",
              "      fill: #D2E3FC;\n",
              "    }\n",
              "\n",
              "    [theme=dark] .colab-df-convert:hover {\n",
              "      background-color: #434B5C;\n",
              "      box-shadow: 0px 1px 3px 1px rgba(0, 0, 0, 0.15);\n",
              "      filter: drop-shadow(0px 1px 2px rgba(0, 0, 0, 0.3));\n",
              "      fill: #FFFFFF;\n",
              "    }\n",
              "  </style>\n",
              "\n",
              "    <script>\n",
              "      const buttonEl =\n",
              "        document.querySelector('#df-c3f854d1-6354-45af-bc81-da3173fd6b85 button.colab-df-convert');\n",
              "      buttonEl.style.display =\n",
              "        google.colab.kernel.accessAllowed ? 'block' : 'none';\n",
              "\n",
              "      async function convertToInteractive(key) {\n",
              "        const element = document.querySelector('#df-c3f854d1-6354-45af-bc81-da3173fd6b85');\n",
              "        const dataTable =\n",
              "          await google.colab.kernel.invokeFunction('convertToInteractive',\n",
              "                                                    [key], {});\n",
              "        if (!dataTable) return;\n",
              "\n",
              "        const docLinkHtml = 'Like what you see? Visit the ' +\n",
              "          '<a target=\"_blank\" href=https://colab.research.google.com/notebooks/data_table.ipynb>data table notebook</a>'\n",
              "          + ' to learn more about interactive tables.';\n",
              "        element.innerHTML = '';\n",
              "        dataTable['output_type'] = 'display_data';\n",
              "        await google.colab.output.renderOutput(dataTable, element);\n",
              "        const docLink = document.createElement('div');\n",
              "        docLink.innerHTML = docLinkHtml;\n",
              "        element.appendChild(docLink);\n",
              "      }\n",
              "    </script>\n",
              "  </div>\n",
              "\n",
              "\n",
              "<div id=\"df-4d224891-767b-4c38-9de6-a9db733f6006\">\n",
              "  <button class=\"colab-df-quickchart\" onclick=\"quickchart('df-4d224891-767b-4c38-9de6-a9db733f6006')\"\n",
              "            title=\"Suggest charts\"\n",
              "            style=\"display:none;\">\n",
              "\n",
              "<svg xmlns=\"http://www.w3.org/2000/svg\" height=\"24px\"viewBox=\"0 0 24 24\"\n",
              "     width=\"24px\">\n",
              "    <g>\n",
              "        <path d=\"M19 3H5c-1.1 0-2 .9-2 2v14c0 1.1.9 2 2 2h14c1.1 0 2-.9 2-2V5c0-1.1-.9-2-2-2zM9 17H7v-7h2v7zm4 0h-2V7h2v10zm4 0h-2v-4h2v4z\"/>\n",
              "    </g>\n",
              "</svg>\n",
              "  </button>\n",
              "\n",
              "<style>\n",
              "  .colab-df-quickchart {\n",
              "      --bg-color: #E8F0FE;\n",
              "      --fill-color: #1967D2;\n",
              "      --hover-bg-color: #E2EBFA;\n",
              "      --hover-fill-color: #174EA6;\n",
              "      --disabled-fill-color: #AAA;\n",
              "      --disabled-bg-color: #DDD;\n",
              "  }\n",
              "\n",
              "  [theme=dark] .colab-df-quickchart {\n",
              "      --bg-color: #3B4455;\n",
              "      --fill-color: #D2E3FC;\n",
              "      --hover-bg-color: #434B5C;\n",
              "      --hover-fill-color: #FFFFFF;\n",
              "      --disabled-bg-color: #3B4455;\n",
              "      --disabled-fill-color: #666;\n",
              "  }\n",
              "\n",
              "  .colab-df-quickchart {\n",
              "    background-color: var(--bg-color);\n",
              "    border: none;\n",
              "    border-radius: 50%;\n",
              "    cursor: pointer;\n",
              "    display: none;\n",
              "    fill: var(--fill-color);\n",
              "    height: 32px;\n",
              "    padding: 0;\n",
              "    width: 32px;\n",
              "  }\n",
              "\n",
              "  .colab-df-quickchart:hover {\n",
              "    background-color: var(--hover-bg-color);\n",
              "    box-shadow: 0 1px 2px rgba(60, 64, 67, 0.3), 0 1px 3px 1px rgba(60, 64, 67, 0.15);\n",
              "    fill: var(--button-hover-fill-color);\n",
              "  }\n",
              "\n",
              "  .colab-df-quickchart-complete:disabled,\n",
              "  .colab-df-quickchart-complete:disabled:hover {\n",
              "    background-color: var(--disabled-bg-color);\n",
              "    fill: var(--disabled-fill-color);\n",
              "    box-shadow: none;\n",
              "  }\n",
              "\n",
              "  .colab-df-spinner {\n",
              "    border: 2px solid var(--fill-color);\n",
              "    border-color: transparent;\n",
              "    border-bottom-color: var(--fill-color);\n",
              "    animation:\n",
              "      spin 1s steps(1) infinite;\n",
              "  }\n",
              "\n",
              "  @keyframes spin {\n",
              "    0% {\n",
              "      border-color: transparent;\n",
              "      border-bottom-color: var(--fill-color);\n",
              "      border-left-color: var(--fill-color);\n",
              "    }\n",
              "    20% {\n",
              "      border-color: transparent;\n",
              "      border-left-color: var(--fill-color);\n",
              "      border-top-color: var(--fill-color);\n",
              "    }\n",
              "    30% {\n",
              "      border-color: transparent;\n",
              "      border-left-color: var(--fill-color);\n",
              "      border-top-color: var(--fill-color);\n",
              "      border-right-color: var(--fill-color);\n",
              "    }\n",
              "    40% {\n",
              "      border-color: transparent;\n",
              "      border-right-color: var(--fill-color);\n",
              "      border-top-color: var(--fill-color);\n",
              "    }\n",
              "    60% {\n",
              "      border-color: transparent;\n",
              "      border-right-color: var(--fill-color);\n",
              "    }\n",
              "    80% {\n",
              "      border-color: transparent;\n",
              "      border-right-color: var(--fill-color);\n",
              "      border-bottom-color: var(--fill-color);\n",
              "    }\n",
              "    90% {\n",
              "      border-color: transparent;\n",
              "      border-bottom-color: var(--fill-color);\n",
              "    }\n",
              "  }\n",
              "</style>\n",
              "\n",
              "  <script>\n",
              "    async function quickchart(key) {\n",
              "      const quickchartButtonEl =\n",
              "        document.querySelector('#' + key + ' button');\n",
              "      quickchartButtonEl.disabled = true;  // To prevent multiple clicks.\n",
              "      quickchartButtonEl.classList.add('colab-df-spinner');\n",
              "      try {\n",
              "        const charts = await google.colab.kernel.invokeFunction(\n",
              "            'suggestCharts', [key], {});\n",
              "      } catch (error) {\n",
              "        console.error('Error during call to suggestCharts:', error);\n",
              "      }\n",
              "      quickchartButtonEl.classList.remove('colab-df-spinner');\n",
              "      quickchartButtonEl.classList.add('colab-df-quickchart-complete');\n",
              "    }\n",
              "    (() => {\n",
              "      let quickchartButtonEl =\n",
              "        document.querySelector('#df-4d224891-767b-4c38-9de6-a9db733f6006 button');\n",
              "      quickchartButtonEl.style.display =\n",
              "        google.colab.kernel.accessAllowed ? 'block' : 'none';\n",
              "    })();\n",
              "  </script>\n",
              "</div>\n",
              "\n",
              "  <div id=\"id_839e7508-1872-4a2a-b555-27583a5a2b47\">\n",
              "    <style>\n",
              "      .colab-df-generate {\n",
              "        background-color: #E8F0FE;\n",
              "        border: none;\n",
              "        border-radius: 50%;\n",
              "        cursor: pointer;\n",
              "        display: none;\n",
              "        fill: #1967D2;\n",
              "        height: 32px;\n",
              "        padding: 0 0 0 0;\n",
              "        width: 32px;\n",
              "      }\n",
              "\n",
              "      .colab-df-generate:hover {\n",
              "        background-color: #E2EBFA;\n",
              "        box-shadow: 0px 1px 2px rgba(60, 64, 67, 0.3), 0px 1px 3px 1px rgba(60, 64, 67, 0.15);\n",
              "        fill: #174EA6;\n",
              "      }\n",
              "\n",
              "      [theme=dark] .colab-df-generate {\n",
              "        background-color: #3B4455;\n",
              "        fill: #D2E3FC;\n",
              "      }\n",
              "\n",
              "      [theme=dark] .colab-df-generate:hover {\n",
              "        background-color: #434B5C;\n",
              "        box-shadow: 0px 1px 3px 1px rgba(0, 0, 0, 0.15);\n",
              "        filter: drop-shadow(0px 1px 2px rgba(0, 0, 0, 0.3));\n",
              "        fill: #FFFFFF;\n",
              "      }\n",
              "    </style>\n",
              "    <button class=\"colab-df-generate\" onclick=\"generateWithVariable('df_count')\"\n",
              "            title=\"Generate code using this dataframe.\"\n",
              "            style=\"display:none;\">\n",
              "\n",
              "  <svg xmlns=\"http://www.w3.org/2000/svg\" height=\"24px\"viewBox=\"0 0 24 24\"\n",
              "       width=\"24px\">\n",
              "    <path d=\"M7,19H8.4L18.45,9,17,7.55,7,17.6ZM5,21V16.75L18.45,3.32a2,2,0,0,1,2.83,0l1.4,1.43a1.91,1.91,0,0,1,.58,1.4,1.91,1.91,0,0,1-.58,1.4L9.25,21ZM18.45,9,17,7.55Zm-12,3A5.31,5.31,0,0,0,4.9,8.1,5.31,5.31,0,0,0,1,6.5,5.31,5.31,0,0,0,4.9,4.9,5.31,5.31,0,0,0,6.5,1,5.31,5.31,0,0,0,8.1,4.9,5.31,5.31,0,0,0,12,6.5,5.46,5.46,0,0,0,6.5,12Z\"/>\n",
              "  </svg>\n",
              "    </button>\n",
              "    <script>\n",
              "      (() => {\n",
              "      const buttonEl =\n",
              "        document.querySelector('#id_839e7508-1872-4a2a-b555-27583a5a2b47 button.colab-df-generate');\n",
              "      buttonEl.style.display =\n",
              "        google.colab.kernel.accessAllowed ? 'block' : 'none';\n",
              "\n",
              "      buttonEl.onclick = () => {\n",
              "        google.colab.notebook.generateWithVariable('df_count');\n",
              "      }\n",
              "      })();\n",
              "    </script>\n",
              "  </div>\n",
              "\n",
              "    </div>\n",
              "  </div>\n"
            ],
            "application/vnd.google.colaboratory.intrinsic+json": {
              "type": "dataframe",
              "variable_name": "df_count",
              "summary": "{\n  \"name\": \"df_count\",\n  \"rows\": 11,\n  \"fields\": [\n    {\n      \"column\": \"year\",\n      \"properties\": {\n        \"dtype\": \"category\",\n        \"num_unique_values\": 11,\n        \"samples\": [\n          2014,\n          2009,\n          2018\n        ],\n        \"semantic_type\": \"\",\n        \"description\": \"\"\n      }\n    },\n    {\n      \"column\": \"count\",\n      \"properties\": {\n        \"dtype\": \"number\",\n        \"std\": 28315,\n        \"min\": 4014,\n        \"max\": 79930,\n        \"num_unique_values\": 11,\n        \"samples\": [\n          79930,\n          4058,\n          18777\n        ],\n        \"semantic_type\": \"\",\n        \"description\": \"\"\n      }\n    }\n  ]\n}"
            }
          },
          "metadata": {},
          "execution_count": 10
        }
      ],
      "source": [
        "# sort by year\n",
        "df_year = df_clean.sort_values(by='year', ascending=True)\n",
        "\n",
        "# total data each year\n",
        "df_count = pd.DataFrame({'year': df_year['year'].value_counts().index,\n",
        "                         'count': df_year['year'].value_counts().values})\n",
        "df_count['year'] = df_count['year'].astype('category')\n",
        "df_count = df_count.sort_values(by='year')\n",
        "df_count = df_count.reset_index(drop=True)\n",
        "df_count"
      ]
    },
    {
      "cell_type": "code",
      "execution_count": null,
      "metadata": {
        "id": "rBoVGy-0lv0s",
        "colab": {
          "base_uri": "https://localhost:8080/"
        },
        "outputId": "0407bc66-c312-49e4-b431-221ea2350706"
      },
      "outputs": [
        {
          "output_type": "execute_result",
          "data": {
            "text/plain": [
              "screen_name    0\n",
              "tweet          0\n",
              "created_at     0\n",
              "year           0\n",
              "dtype: int64"
            ]
          },
          "metadata": {},
          "execution_count": 11
        }
      ],
      "source": [
        "df_year.isnull().sum()"
      ]
    },
    {
      "cell_type": "markdown",
      "metadata": {
        "id": "hmaQgwdYKNQo"
      },
      "source": [
        "### Data Distribution Every Year"
      ]
    },
    {
      "cell_type": "code",
      "execution_count": null,
      "metadata": {
        "id": "6NfwjoqKeyQE",
        "colab": {
          "base_uri": "https://localhost:8080/"
        },
        "outputId": "157bb734-c3f8-40fd-9aaa-e3546ab781e2"
      },
      "outputs": [
        {
          "output_type": "display_data",
          "data": {
            "text/html": [
              "<html>\n",
              "<head><meta charset=\"utf-8\" /></head>\n",
              "<body>\n",
              "    <div>            <script src=\"https://cdnjs.cloudflare.com/ajax/libs/mathjax/2.7.5/MathJax.js?config=TeX-AMS-MML_SVG\"></script><script type=\"text/javascript\">if (window.MathJax && window.MathJax.Hub && window.MathJax.Hub.Config) {window.MathJax.Hub.Config({SVG: {font: \"STIX-Web\"}});}</script>                <script type=\"text/javascript\">window.PlotlyConfig = {MathJaxConfig: 'local'};</script>\n",
              "        <script charset=\"utf-8\" src=\"https://cdn.plot.ly/plotly-2.24.1.min.js\"></script>                <div id=\"fd6b316b-df04-4da7-b728-51c5d57a85ae\" class=\"plotly-graph-div\" style=\"height:600px; width:1000px;\"></div>            <script type=\"text/javascript\">                                    window.PLOTLYENV=window.PLOTLYENV || {};                                    if (document.getElementById(\"fd6b316b-df04-4da7-b728-51c5d57a85ae\")) {                    Plotly.newPlot(                        \"fd6b316b-df04-4da7-b728-51c5d57a85ae\",                        [{\"alignmentgroup\":\"True\",\"hovertemplate\":\"year=%{x}\\u003cbr\\u003ecount=%{text}\\u003cextra\\u003e\\u003c\\u002fextra\\u003e\",\"legendgroup\":\"2009\",\"marker\":{\"color\":\"#636efa\",\"pattern\":{\"shape\":\"\"}},\"name\":\"2009\",\"offsetgroup\":\"2009\",\"orientation\":\"v\",\"showlegend\":true,\"text\":[4058.0],\"textposition\":\"auto\",\"x\":[2009],\"xaxis\":\"x\",\"y\":[4058],\"yaxis\":\"y\",\"type\":\"bar\"},{\"alignmentgroup\":\"True\",\"hovertemplate\":\"year=%{x}\\u003cbr\\u003ecount=%{text}\\u003cextra\\u003e\\u003c\\u002fextra\\u003e\",\"legendgroup\":\"2010\",\"marker\":{\"color\":\"#EF553B\",\"pattern\":{\"shape\":\"\"}},\"name\":\"2010\",\"offsetgroup\":\"2010\",\"orientation\":\"v\",\"showlegend\":true,\"text\":[20380.0],\"textposition\":\"auto\",\"x\":[2010],\"xaxis\":\"x\",\"y\":[20380],\"yaxis\":\"y\",\"type\":\"bar\"},{\"alignmentgroup\":\"True\",\"hovertemplate\":\"year=%{x}\\u003cbr\\u003ecount=%{text}\\u003cextra\\u003e\\u003c\\u002fextra\\u003e\",\"legendgroup\":\"2011\",\"marker\":{\"color\":\"#00cc96\",\"pattern\":{\"shape\":\"\"}},\"name\":\"2011\",\"offsetgroup\":\"2011\",\"orientation\":\"v\",\"showlegend\":true,\"text\":[49107.0],\"textposition\":\"auto\",\"x\":[2011],\"xaxis\":\"x\",\"y\":[49107],\"yaxis\":\"y\",\"type\":\"bar\"},{\"alignmentgroup\":\"True\",\"hovertemplate\":\"year=%{x}\\u003cbr\\u003ecount=%{text}\\u003cextra\\u003e\\u003c\\u002fextra\\u003e\",\"legendgroup\":\"2012\",\"marker\":{\"color\":\"#ab63fa\",\"pattern\":{\"shape\":\"\"}},\"name\":\"2012\",\"offsetgroup\":\"2012\",\"orientation\":\"v\",\"showlegend\":true,\"text\":[73436.0],\"textposition\":\"auto\",\"x\":[2012],\"xaxis\":\"x\",\"y\":[73436],\"yaxis\":\"y\",\"type\":\"bar\"},{\"alignmentgroup\":\"True\",\"hovertemplate\":\"year=%{x}\\u003cbr\\u003ecount=%{text}\\u003cextra\\u003e\\u003c\\u002fextra\\u003e\",\"legendgroup\":\"2013\",\"marker\":{\"color\":\"#FFA15A\",\"pattern\":{\"shape\":\"\"}},\"name\":\"2013\",\"offsetgroup\":\"2013\",\"orientation\":\"v\",\"showlegend\":true,\"text\":[78468.0],\"textposition\":\"auto\",\"x\":[2013],\"xaxis\":\"x\",\"y\":[78468],\"yaxis\":\"y\",\"type\":\"bar\"},{\"alignmentgroup\":\"True\",\"hovertemplate\":\"year=%{x}\\u003cbr\\u003ecount=%{text}\\u003cextra\\u003e\\u003c\\u002fextra\\u003e\",\"legendgroup\":\"2014\",\"marker\":{\"color\":\"#19d3f3\",\"pattern\":{\"shape\":\"\"}},\"name\":\"2014\",\"offsetgroup\":\"2014\",\"orientation\":\"v\",\"showlegend\":true,\"text\":[79930.0],\"textposition\":\"auto\",\"x\":[2014],\"xaxis\":\"x\",\"y\":[79930],\"yaxis\":\"y\",\"type\":\"bar\"},{\"alignmentgroup\":\"True\",\"hovertemplate\":\"year=%{x}\\u003cbr\\u003ecount=%{text}\\u003cextra\\u003e\\u003c\\u002fextra\\u003e\",\"legendgroup\":\"2015\",\"marker\":{\"color\":\"#FF6692\",\"pattern\":{\"shape\":\"\"}},\"name\":\"2015\",\"offsetgroup\":\"2015\",\"orientation\":\"v\",\"showlegend\":true,\"text\":[55425.0],\"textposition\":\"auto\",\"x\":[2015],\"xaxis\":\"x\",\"y\":[55425],\"yaxis\":\"y\",\"type\":\"bar\"},{\"alignmentgroup\":\"True\",\"hovertemplate\":\"year=%{x}\\u003cbr\\u003ecount=%{text}\\u003cextra\\u003e\\u003c\\u002fextra\\u003e\",\"legendgroup\":\"2016\",\"marker\":{\"color\":\"#B6E880\",\"pattern\":{\"shape\":\"\"}},\"name\":\"2016\",\"offsetgroup\":\"2016\",\"orientation\":\"v\",\"showlegend\":true,\"text\":[34091.0],\"textposition\":\"auto\",\"x\":[2016],\"xaxis\":\"x\",\"y\":[34091],\"yaxis\":\"y\",\"type\":\"bar\"},{\"alignmentgroup\":\"True\",\"hovertemplate\":\"year=%{x}\\u003cbr\\u003ecount=%{text}\\u003cextra\\u003e\\u003c\\u002fextra\\u003e\",\"legendgroup\":\"2017\",\"marker\":{\"color\":\"#FF97FF\",\"pattern\":{\"shape\":\"\"}},\"name\":\"2017\",\"offsetgroup\":\"2017\",\"orientation\":\"v\",\"showlegend\":true,\"text\":[32450.0],\"textposition\":\"auto\",\"x\":[2017],\"xaxis\":\"x\",\"y\":[32450],\"yaxis\":\"y\",\"type\":\"bar\"},{\"alignmentgroup\":\"True\",\"hovertemplate\":\"year=%{x}\\u003cbr\\u003ecount=%{text}\\u003cextra\\u003e\\u003c\\u002fextra\\u003e\",\"legendgroup\":\"2018\",\"marker\":{\"color\":\"#FECB52\",\"pattern\":{\"shape\":\"\"}},\"name\":\"2018\",\"offsetgroup\":\"2018\",\"orientation\":\"v\",\"showlegend\":true,\"text\":[18777.0],\"textposition\":\"auto\",\"x\":[2018],\"xaxis\":\"x\",\"y\":[18777],\"yaxis\":\"y\",\"type\":\"bar\"},{\"alignmentgroup\":\"True\",\"hovertemplate\":\"year=%{x}\\u003cbr\\u003ecount=%{text}\\u003cextra\\u003e\\u003c\\u002fextra\\u003e\",\"legendgroup\":\"2019\",\"marker\":{\"color\":\"#636efa\",\"pattern\":{\"shape\":\"\"}},\"name\":\"2019\",\"offsetgroup\":\"2019\",\"orientation\":\"v\",\"showlegend\":true,\"text\":[4014.0],\"textposition\":\"auto\",\"x\":[2019],\"xaxis\":\"x\",\"y\":[4014],\"yaxis\":\"y\",\"type\":\"bar\"}],                        {\"template\":{\"data\":{\"histogram2dcontour\":[{\"type\":\"histogram2dcontour\",\"colorbar\":{\"outlinewidth\":0,\"ticks\":\"\"},\"colorscale\":[[0.0,\"#0d0887\"],[0.1111111111111111,\"#46039f\"],[0.2222222222222222,\"#7201a8\"],[0.3333333333333333,\"#9c179e\"],[0.4444444444444444,\"#bd3786\"],[0.5555555555555556,\"#d8576b\"],[0.6666666666666666,\"#ed7953\"],[0.7777777777777778,\"#fb9f3a\"],[0.8888888888888888,\"#fdca26\"],[1.0,\"#f0f921\"]]}],\"choropleth\":[{\"type\":\"choropleth\",\"colorbar\":{\"outlinewidth\":0,\"ticks\":\"\"}}],\"histogram2d\":[{\"type\":\"histogram2d\",\"colorbar\":{\"outlinewidth\":0,\"ticks\":\"\"},\"colorscale\":[[0.0,\"#0d0887\"],[0.1111111111111111,\"#46039f\"],[0.2222222222222222,\"#7201a8\"],[0.3333333333333333,\"#9c179e\"],[0.4444444444444444,\"#bd3786\"],[0.5555555555555556,\"#d8576b\"],[0.6666666666666666,\"#ed7953\"],[0.7777777777777778,\"#fb9f3a\"],[0.8888888888888888,\"#fdca26\"],[1.0,\"#f0f921\"]]}],\"heatmap\":[{\"type\":\"heatmap\",\"colorbar\":{\"outlinewidth\":0,\"ticks\":\"\"},\"colorscale\":[[0.0,\"#0d0887\"],[0.1111111111111111,\"#46039f\"],[0.2222222222222222,\"#7201a8\"],[0.3333333333333333,\"#9c179e\"],[0.4444444444444444,\"#bd3786\"],[0.5555555555555556,\"#d8576b\"],[0.6666666666666666,\"#ed7953\"],[0.7777777777777778,\"#fb9f3a\"],[0.8888888888888888,\"#fdca26\"],[1.0,\"#f0f921\"]]}],\"heatmapgl\":[{\"type\":\"heatmapgl\",\"colorbar\":{\"outlinewidth\":0,\"ticks\":\"\"},\"colorscale\":[[0.0,\"#0d0887\"],[0.1111111111111111,\"#46039f\"],[0.2222222222222222,\"#7201a8\"],[0.3333333333333333,\"#9c179e\"],[0.4444444444444444,\"#bd3786\"],[0.5555555555555556,\"#d8576b\"],[0.6666666666666666,\"#ed7953\"],[0.7777777777777778,\"#fb9f3a\"],[0.8888888888888888,\"#fdca26\"],[1.0,\"#f0f921\"]]}],\"contourcarpet\":[{\"type\":\"contourcarpet\",\"colorbar\":{\"outlinewidth\":0,\"ticks\":\"\"}}],\"contour\":[{\"type\":\"contour\",\"colorbar\":{\"outlinewidth\":0,\"ticks\":\"\"},\"colorscale\":[[0.0,\"#0d0887\"],[0.1111111111111111,\"#46039f\"],[0.2222222222222222,\"#7201a8\"],[0.3333333333333333,\"#9c179e\"],[0.4444444444444444,\"#bd3786\"],[0.5555555555555556,\"#d8576b\"],[0.6666666666666666,\"#ed7953\"],[0.7777777777777778,\"#fb9f3a\"],[0.8888888888888888,\"#fdca26\"],[1.0,\"#f0f921\"]]}],\"surface\":[{\"type\":\"surface\",\"colorbar\":{\"outlinewidth\":0,\"ticks\":\"\"},\"colorscale\":[[0.0,\"#0d0887\"],[0.1111111111111111,\"#46039f\"],[0.2222222222222222,\"#7201a8\"],[0.3333333333333333,\"#9c179e\"],[0.4444444444444444,\"#bd3786\"],[0.5555555555555556,\"#d8576b\"],[0.6666666666666666,\"#ed7953\"],[0.7777777777777778,\"#fb9f3a\"],[0.8888888888888888,\"#fdca26\"],[1.0,\"#f0f921\"]]}],\"mesh3d\":[{\"type\":\"mesh3d\",\"colorbar\":{\"outlinewidth\":0,\"ticks\":\"\"}}],\"scatter\":[{\"fillpattern\":{\"fillmode\":\"overlay\",\"size\":10,\"solidity\":0.2},\"type\":\"scatter\"}],\"parcoords\":[{\"type\":\"parcoords\",\"line\":{\"colorbar\":{\"outlinewidth\":0,\"ticks\":\"\"}}}],\"scatterpolargl\":[{\"type\":\"scatterpolargl\",\"marker\":{\"colorbar\":{\"outlinewidth\":0,\"ticks\":\"\"}}}],\"bar\":[{\"error_x\":{\"color\":\"#2a3f5f\"},\"error_y\":{\"color\":\"#2a3f5f\"},\"marker\":{\"line\":{\"color\":\"#E5ECF6\",\"width\":0.5},\"pattern\":{\"fillmode\":\"overlay\",\"size\":10,\"solidity\":0.2}},\"type\":\"bar\"}],\"scattergeo\":[{\"type\":\"scattergeo\",\"marker\":{\"colorbar\":{\"outlinewidth\":0,\"ticks\":\"\"}}}],\"scatterpolar\":[{\"type\":\"scatterpolar\",\"marker\":{\"colorbar\":{\"outlinewidth\":0,\"ticks\":\"\"}}}],\"histogram\":[{\"marker\":{\"pattern\":{\"fillmode\":\"overlay\",\"size\":10,\"solidity\":0.2}},\"type\":\"histogram\"}],\"scattergl\":[{\"type\":\"scattergl\",\"marker\":{\"colorbar\":{\"outlinewidth\":0,\"ticks\":\"\"}}}],\"scatter3d\":[{\"type\":\"scatter3d\",\"line\":{\"colorbar\":{\"outlinewidth\":0,\"ticks\":\"\"}},\"marker\":{\"colorbar\":{\"outlinewidth\":0,\"ticks\":\"\"}}}],\"scattermapbox\":[{\"type\":\"scattermapbox\",\"marker\":{\"colorbar\":{\"outlinewidth\":0,\"ticks\":\"\"}}}],\"scatterternary\":[{\"type\":\"scatterternary\",\"marker\":{\"colorbar\":{\"outlinewidth\":0,\"ticks\":\"\"}}}],\"scattercarpet\":[{\"type\":\"scattercarpet\",\"marker\":{\"colorbar\":{\"outlinewidth\":0,\"ticks\":\"\"}}}],\"carpet\":[{\"aaxis\":{\"endlinecolor\":\"#2a3f5f\",\"gridcolor\":\"white\",\"linecolor\":\"white\",\"minorgridcolor\":\"white\",\"startlinecolor\":\"#2a3f5f\"},\"baxis\":{\"endlinecolor\":\"#2a3f5f\",\"gridcolor\":\"white\",\"linecolor\":\"white\",\"minorgridcolor\":\"white\",\"startlinecolor\":\"#2a3f5f\"},\"type\":\"carpet\"}],\"table\":[{\"cells\":{\"fill\":{\"color\":\"#EBF0F8\"},\"line\":{\"color\":\"white\"}},\"header\":{\"fill\":{\"color\":\"#C8D4E3\"},\"line\":{\"color\":\"white\"}},\"type\":\"table\"}],\"barpolar\":[{\"marker\":{\"line\":{\"color\":\"#E5ECF6\",\"width\":0.5},\"pattern\":{\"fillmode\":\"overlay\",\"size\":10,\"solidity\":0.2}},\"type\":\"barpolar\"}],\"pie\":[{\"automargin\":true,\"type\":\"pie\"}]},\"layout\":{\"autotypenumbers\":\"strict\",\"colorway\":[\"#636efa\",\"#EF553B\",\"#00cc96\",\"#ab63fa\",\"#FFA15A\",\"#19d3f3\",\"#FF6692\",\"#B6E880\",\"#FF97FF\",\"#FECB52\"],\"font\":{\"color\":\"#2a3f5f\"},\"hovermode\":\"closest\",\"hoverlabel\":{\"align\":\"left\"},\"paper_bgcolor\":\"white\",\"plot_bgcolor\":\"#E5ECF6\",\"polar\":{\"bgcolor\":\"#E5ECF6\",\"angularaxis\":{\"gridcolor\":\"white\",\"linecolor\":\"white\",\"ticks\":\"\"},\"radialaxis\":{\"gridcolor\":\"white\",\"linecolor\":\"white\",\"ticks\":\"\"}},\"ternary\":{\"bgcolor\":\"#E5ECF6\",\"aaxis\":{\"gridcolor\":\"white\",\"linecolor\":\"white\",\"ticks\":\"\"},\"baxis\":{\"gridcolor\":\"white\",\"linecolor\":\"white\",\"ticks\":\"\"},\"caxis\":{\"gridcolor\":\"white\",\"linecolor\":\"white\",\"ticks\":\"\"}},\"coloraxis\":{\"colorbar\":{\"outlinewidth\":0,\"ticks\":\"\"}},\"colorscale\":{\"sequential\":[[0.0,\"#0d0887\"],[0.1111111111111111,\"#46039f\"],[0.2222222222222222,\"#7201a8\"],[0.3333333333333333,\"#9c179e\"],[0.4444444444444444,\"#bd3786\"],[0.5555555555555556,\"#d8576b\"],[0.6666666666666666,\"#ed7953\"],[0.7777777777777778,\"#fb9f3a\"],[0.8888888888888888,\"#fdca26\"],[1.0,\"#f0f921\"]],\"sequentialminus\":[[0.0,\"#0d0887\"],[0.1111111111111111,\"#46039f\"],[0.2222222222222222,\"#7201a8\"],[0.3333333333333333,\"#9c179e\"],[0.4444444444444444,\"#bd3786\"],[0.5555555555555556,\"#d8576b\"],[0.6666666666666666,\"#ed7953\"],[0.7777777777777778,\"#fb9f3a\"],[0.8888888888888888,\"#fdca26\"],[1.0,\"#f0f921\"]],\"diverging\":[[0,\"#8e0152\"],[0.1,\"#c51b7d\"],[0.2,\"#de77ae\"],[0.3,\"#f1b6da\"],[0.4,\"#fde0ef\"],[0.5,\"#f7f7f7\"],[0.6,\"#e6f5d0\"],[0.7,\"#b8e186\"],[0.8,\"#7fbc41\"],[0.9,\"#4d9221\"],[1,\"#276419\"]]},\"xaxis\":{\"gridcolor\":\"white\",\"linecolor\":\"white\",\"ticks\":\"\",\"title\":{\"standoff\":15},\"zerolinecolor\":\"white\",\"automargin\":true,\"zerolinewidth\":2},\"yaxis\":{\"gridcolor\":\"white\",\"linecolor\":\"white\",\"ticks\":\"\",\"title\":{\"standoff\":15},\"zerolinecolor\":\"white\",\"automargin\":true,\"zerolinewidth\":2},\"scene\":{\"xaxis\":{\"backgroundcolor\":\"#E5ECF6\",\"gridcolor\":\"white\",\"linecolor\":\"white\",\"showbackground\":true,\"ticks\":\"\",\"zerolinecolor\":\"white\",\"gridwidth\":2},\"yaxis\":{\"backgroundcolor\":\"#E5ECF6\",\"gridcolor\":\"white\",\"linecolor\":\"white\",\"showbackground\":true,\"ticks\":\"\",\"zerolinecolor\":\"white\",\"gridwidth\":2},\"zaxis\":{\"backgroundcolor\":\"#E5ECF6\",\"gridcolor\":\"white\",\"linecolor\":\"white\",\"showbackground\":true,\"ticks\":\"\",\"zerolinecolor\":\"white\",\"gridwidth\":2}},\"shapedefaults\":{\"line\":{\"color\":\"#2a3f5f\"}},\"annotationdefaults\":{\"arrowcolor\":\"#2a3f5f\",\"arrowhead\":0,\"arrowwidth\":1},\"geo\":{\"bgcolor\":\"white\",\"landcolor\":\"#E5ECF6\",\"subunitcolor\":\"white\",\"showland\":true,\"showlakes\":true,\"lakecolor\":\"white\"},\"title\":{\"x\":0.05},\"mapbox\":{\"style\":\"light\"}}},\"xaxis\":{\"anchor\":\"y\",\"domain\":[0.0,1.0],\"title\":{\"text\":\"Year\"},\"categoryorder\":\"array\",\"categoryarray\":[2009,2010,2011,2012,2013,2014,2015,2016,2017,2018,2019],\"type\":\"category\"},\"yaxis\":{\"anchor\":\"x\",\"domain\":[0.0,1.0],\"title\":{\"text\":\"Quantity\"}},\"legend\":{\"title\":{\"text\":\"year\"},\"tracegroupgap\":0},\"margin\":{\"t\":50,\"l\":30,\"r\":30,\"b\":50},\"barmode\":\"relative\",\"title\":{\"text\":\"Amount of Data Each Year\"},\"autosize\":false,\"width\":1000,\"height\":600},                        {\"responsive\": true}                    ).then(function(){\n",
              "                            \n",
              "var gd = document.getElementById('fd6b316b-df04-4da7-b728-51c5d57a85ae');\n",
              "var x = new MutationObserver(function (mutations, observer) {{\n",
              "        var display = window.getComputedStyle(gd).display;\n",
              "        if (!display || display === 'none') {{\n",
              "            console.log([gd, 'removed!']);\n",
              "            Plotly.purge(gd);\n",
              "            observer.disconnect();\n",
              "        }}\n",
              "}});\n",
              "\n",
              "// Listen for the removal of the full notebook cells\n",
              "var notebookContainer = gd.closest('#notebook-container');\n",
              "if (notebookContainer) {{\n",
              "    x.observe(notebookContainer, {childList: true});\n",
              "}}\n",
              "\n",
              "// Listen for the clearing of the current output cell\n",
              "var outputEl = gd.closest('.output');\n",
              "if (outputEl) {{\n",
              "    x.observe(outputEl, {childList: true});\n",
              "}}\n",
              "\n",
              "                        })                };                            </script>        </div>\n",
              "</body>\n",
              "</html>"
            ]
          },
          "metadata": {}
        }
      ],
      "source": [
        "# bar plot\n",
        "fig = px.bar(df_count, x='year', y='count', text='count', color='year')\n",
        "\n",
        "# figure layout & size\n",
        "fig.update_layout(\n",
        "    title='Amount of Data Each Year',\n",
        "    xaxis_title='Year',\n",
        "    yaxis_title='Quantity',\n",
        "    autosize=False,\n",
        "    width=1000,\n",
        "    height=600,\n",
        "    margin=dict(l=30, r=30, b=50, t=50))\n",
        "\n",
        "fig.update_xaxes(type='category')\n",
        "fig.show()"
      ]
    },
    {
      "cell_type": "code",
      "execution_count": null,
      "metadata": {
        "id": "ZnfT98BnYJGA"
      },
      "outputs": [],
      "source": [
        "# remove data in 2008\n",
        "df_year = df_year.drop(df_year[df_year['year'] == 2008].index)\n",
        "\n",
        "df_count = df_count.drop(df_count[df_count['year'] == 2008].index)\n",
        "df_count = df_count.reset_index(drop=True)"
      ]
    },
    {
      "cell_type": "code",
      "execution_count": null,
      "metadata": {
        "id": "8UG1Z7maqUZH"
      },
      "outputs": [],
      "source": [
        "# this variable will be used frequently\n",
        "all_year = df_year['year'].unique()"
      ]
    },
    {
      "cell_type": "code",
      "execution_count": null,
      "metadata": {
        "id": "--LwZvIAxlhl",
        "colab": {
          "base_uri": "https://localhost:8080/"
        },
        "outputId": "afee3a89-b933-4181-fc0b-2f86740e0383"
      },
      "outputs": [
        {
          "output_type": "stream",
          "name": "stdout",
          "text": [
            "jumlah data pada tahun 2009: 4058\n",
            "jumlah data pada tahun 2010: 20380\n",
            "jumlah data pada tahun 2011: 49107\n",
            "jumlah data pada tahun 2012: 73436\n",
            "jumlah data pada tahun 2013: 78468\n",
            "jumlah data pada tahun 2014: 79930\n",
            "jumlah data pada tahun 2015: 55425\n",
            "jumlah data pada tahun 2016: 34091\n",
            "jumlah data pada tahun 2017: 32450\n",
            "jumlah data pada tahun 2018: 18777\n",
            "jumlah data pada tahun 2019: 4014\n"
          ]
        }
      ],
      "source": [
        "# data based on year\n",
        "def based_year(dataframe, year):\n",
        "    data = dataframe[dataframe['year'] == year]\n",
        "    return data\n",
        "\n",
        "# call function\n",
        "for year in all_year:\n",
        "  globals()[f\"df_{year}\"] = based_year(df_year, year)\n",
        "\n",
        "# show data for each year\n",
        "for year in all_year:\n",
        "  var_name = f'df_{year}'\n",
        "  total_year = globals()[var_name]\n",
        "  print(f'jumlah data pada tahun {year}: {total_year.shape[0]}')"
      ]
    },
    {
      "cell_type": "markdown",
      "metadata": {
        "id": "wQQ9PK67AmBo"
      },
      "source": [
        "# **Graf**\n",
        "Data setiap tahunnya akan disusun menjadi graf tidak berarah (*undirected*) dengan metrik atau ukuran *degree*-nya yang menyatakan hubungan antara dua pengguna berupa *mention* dan *retweet*."
      ]
    },
    {
      "cell_type": "markdown",
      "metadata": {
        "id": "YBF-rO7BEq48"
      },
      "source": [
        "## Data Transformation\n",
        "Perbedaan utama antara code \"Mention Data\" dengan \"Isolated Edge\" terletak pada jumlah *mention* yang ingin di seleksi."
      ]
    },
    {
      "cell_type": "markdown",
      "metadata": {
        "id": "jcMgPCjCw-er"
      },
      "source": [
        "### Mention Data"
      ]
    },
    {
      "cell_type": "code",
      "execution_count": null,
      "metadata": {
        "id": "dc4ZbmQtB_7h",
        "colab": {
          "base_uri": "https://localhost:8080/"
        },
        "outputId": "38b48569-40ec-4575-8bc5-41f98af5d798"
      },
      "outputs": [
        {
          "output_type": "stream",
          "name": "stdout",
          "text": [
            "data mention dibagi per tahun\n"
          ]
        }
      ],
      "source": [
        "# Function to extract user mentions in a tweet\n",
        "def extract_mentions(text):\n",
        "    mention = re.findall(r'@(\\w{4,15})', text)\n",
        "    return mention\n",
        "\n",
        "# Function to get user mention data based on year\n",
        "def mention_year(dataframe, year):\n",
        "    data = dataframe[dataframe['year'] == year]\n",
        "    # User data that mentions\n",
        "    data_mention = []\n",
        "    for _, row in data.iterrows():\n",
        "        username = row['screen_name']\n",
        "        mentions = extract_mentions(row['tweet'])\n",
        "        for target in mentions:\n",
        "            if username.lower() != target.lower():  # Exclude self-mentions\n",
        "                data_mention.append({'username': username, 'mention': target, 'year': year})\n",
        "    return data_mention\n",
        "\n",
        "# Call function\n",
        "for year in all_year:\n",
        "    globals()[f\"mention_{year}\"] = pd.DataFrame(mention_year(df_year, year))\n",
        "\n",
        "print('data mention dibagi per tahun')"
      ]
    },
    {
      "cell_type": "code",
      "execution_count": null,
      "metadata": {
        "id": "uDhkVH5qpxmi",
        "colab": {
          "base_uri": "https://localhost:8080/"
        },
        "outputId": "83bb5c32-f2af-4acb-e45d-6450ec87e2bb"
      },
      "outputs": [
        {
          "output_type": "stream",
          "name": "stdout",
          "text": [
            "(144640, 3)\n"
          ]
        },
        {
          "output_type": "execute_result",
          "data": {
            "text/plain": [
              "         username          mention  year\n",
              "0     daustralala           sigitt  2009\n",
              "1  bobbywrahardjo  yosephine_ajeng  2009\n",
              "2       raFiiicka        rosyholic  2009\n",
              "3       raFiiicka     namasayayudi  2009\n",
              "4      putifaried          weedhie  2009"
            ],
            "text/html": [
              "\n",
              "  <div id=\"df-bd95a740-6af1-4e35-9541-e3ef0190d7f2\" class=\"colab-df-container\">\n",
              "    <div>\n",
              "<style scoped>\n",
              "    .dataframe tbody tr th:only-of-type {\n",
              "        vertical-align: middle;\n",
              "    }\n",
              "\n",
              "    .dataframe tbody tr th {\n",
              "        vertical-align: top;\n",
              "    }\n",
              "\n",
              "    .dataframe thead th {\n",
              "        text-align: right;\n",
              "    }\n",
              "</style>\n",
              "<table border=\"1\" class=\"dataframe\">\n",
              "  <thead>\n",
              "    <tr style=\"text-align: right;\">\n",
              "      <th></th>\n",
              "      <th>username</th>\n",
              "      <th>mention</th>\n",
              "      <th>year</th>\n",
              "    </tr>\n",
              "  </thead>\n",
              "  <tbody>\n",
              "    <tr>\n",
              "      <th>0</th>\n",
              "      <td>daustralala</td>\n",
              "      <td>sigitt</td>\n",
              "      <td>2009</td>\n",
              "    </tr>\n",
              "    <tr>\n",
              "      <th>1</th>\n",
              "      <td>bobbywrahardjo</td>\n",
              "      <td>yosephine_ajeng</td>\n",
              "      <td>2009</td>\n",
              "    </tr>\n",
              "    <tr>\n",
              "      <th>2</th>\n",
              "      <td>raFiiicka</td>\n",
              "      <td>rosyholic</td>\n",
              "      <td>2009</td>\n",
              "    </tr>\n",
              "    <tr>\n",
              "      <th>3</th>\n",
              "      <td>raFiiicka</td>\n",
              "      <td>namasayayudi</td>\n",
              "      <td>2009</td>\n",
              "    </tr>\n",
              "    <tr>\n",
              "      <th>4</th>\n",
              "      <td>putifaried</td>\n",
              "      <td>weedhie</td>\n",
              "      <td>2009</td>\n",
              "    </tr>\n",
              "  </tbody>\n",
              "</table>\n",
              "</div>\n",
              "    <div class=\"colab-df-buttons\">\n",
              "\n",
              "  <div class=\"colab-df-container\">\n",
              "    <button class=\"colab-df-convert\" onclick=\"convertToInteractive('df-bd95a740-6af1-4e35-9541-e3ef0190d7f2')\"\n",
              "            title=\"Convert this dataframe to an interactive table.\"\n",
              "            style=\"display:none;\">\n",
              "\n",
              "  <svg xmlns=\"http://www.w3.org/2000/svg\" height=\"24px\" viewBox=\"0 -960 960 960\">\n",
              "    <path d=\"M120-120v-720h720v720H120Zm60-500h600v-160H180v160Zm220 220h160v-160H400v160Zm0 220h160v-160H400v160ZM180-400h160v-160H180v160Zm440 0h160v-160H620v160ZM180-180h160v-160H180v160Zm440 0h160v-160H620v160Z\"/>\n",
              "  </svg>\n",
              "    </button>\n",
              "\n",
              "  <style>\n",
              "    .colab-df-container {\n",
              "      display:flex;\n",
              "      gap: 12px;\n",
              "    }\n",
              "\n",
              "    .colab-df-convert {\n",
              "      background-color: #E8F0FE;\n",
              "      border: none;\n",
              "      border-radius: 50%;\n",
              "      cursor: pointer;\n",
              "      display: none;\n",
              "      fill: #1967D2;\n",
              "      height: 32px;\n",
              "      padding: 0 0 0 0;\n",
              "      width: 32px;\n",
              "    }\n",
              "\n",
              "    .colab-df-convert:hover {\n",
              "      background-color: #E2EBFA;\n",
              "      box-shadow: 0px 1px 2px rgba(60, 64, 67, 0.3), 0px 1px 3px 1px rgba(60, 64, 67, 0.15);\n",
              "      fill: #174EA6;\n",
              "    }\n",
              "\n",
              "    .colab-df-buttons div {\n",
              "      margin-bottom: 4px;\n",
              "    }\n",
              "\n",
              "    [theme=dark] .colab-df-convert {\n",
              "      background-color: #3B4455;\n",
              "      fill: #D2E3FC;\n",
              "    }\n",
              "\n",
              "    [theme=dark] .colab-df-convert:hover {\n",
              "      background-color: #434B5C;\n",
              "      box-shadow: 0px 1px 3px 1px rgba(0, 0, 0, 0.15);\n",
              "      filter: drop-shadow(0px 1px 2px rgba(0, 0, 0, 0.3));\n",
              "      fill: #FFFFFF;\n",
              "    }\n",
              "  </style>\n",
              "\n",
              "    <script>\n",
              "      const buttonEl =\n",
              "        document.querySelector('#df-bd95a740-6af1-4e35-9541-e3ef0190d7f2 button.colab-df-convert');\n",
              "      buttonEl.style.display =\n",
              "        google.colab.kernel.accessAllowed ? 'block' : 'none';\n",
              "\n",
              "      async function convertToInteractive(key) {\n",
              "        const element = document.querySelector('#df-bd95a740-6af1-4e35-9541-e3ef0190d7f2');\n",
              "        const dataTable =\n",
              "          await google.colab.kernel.invokeFunction('convertToInteractive',\n",
              "                                                    [key], {});\n",
              "        if (!dataTable) return;\n",
              "\n",
              "        const docLinkHtml = 'Like what you see? Visit the ' +\n",
              "          '<a target=\"_blank\" href=https://colab.research.google.com/notebooks/data_table.ipynb>data table notebook</a>'\n",
              "          + ' to learn more about interactive tables.';\n",
              "        element.innerHTML = '';\n",
              "        dataTable['output_type'] = 'display_data';\n",
              "        await google.colab.output.renderOutput(dataTable, element);\n",
              "        const docLink = document.createElement('div');\n",
              "        docLink.innerHTML = docLinkHtml;\n",
              "        element.appendChild(docLink);\n",
              "      }\n",
              "    </script>\n",
              "  </div>\n",
              "\n",
              "\n",
              "<div id=\"df-6179e9a8-a2cd-4e40-8d11-77429ec43415\">\n",
              "  <button class=\"colab-df-quickchart\" onclick=\"quickchart('df-6179e9a8-a2cd-4e40-8d11-77429ec43415')\"\n",
              "            title=\"Suggest charts\"\n",
              "            style=\"display:none;\">\n",
              "\n",
              "<svg xmlns=\"http://www.w3.org/2000/svg\" height=\"24px\"viewBox=\"0 0 24 24\"\n",
              "     width=\"24px\">\n",
              "    <g>\n",
              "        <path d=\"M19 3H5c-1.1 0-2 .9-2 2v14c0 1.1.9 2 2 2h14c1.1 0 2-.9 2-2V5c0-1.1-.9-2-2-2zM9 17H7v-7h2v7zm4 0h-2V7h2v10zm4 0h-2v-4h2v4z\"/>\n",
              "    </g>\n",
              "</svg>\n",
              "  </button>\n",
              "\n",
              "<style>\n",
              "  .colab-df-quickchart {\n",
              "      --bg-color: #E8F0FE;\n",
              "      --fill-color: #1967D2;\n",
              "      --hover-bg-color: #E2EBFA;\n",
              "      --hover-fill-color: #174EA6;\n",
              "      --disabled-fill-color: #AAA;\n",
              "      --disabled-bg-color: #DDD;\n",
              "  }\n",
              "\n",
              "  [theme=dark] .colab-df-quickchart {\n",
              "      --bg-color: #3B4455;\n",
              "      --fill-color: #D2E3FC;\n",
              "      --hover-bg-color: #434B5C;\n",
              "      --hover-fill-color: #FFFFFF;\n",
              "      --disabled-bg-color: #3B4455;\n",
              "      --disabled-fill-color: #666;\n",
              "  }\n",
              "\n",
              "  .colab-df-quickchart {\n",
              "    background-color: var(--bg-color);\n",
              "    border: none;\n",
              "    border-radius: 50%;\n",
              "    cursor: pointer;\n",
              "    display: none;\n",
              "    fill: var(--fill-color);\n",
              "    height: 32px;\n",
              "    padding: 0;\n",
              "    width: 32px;\n",
              "  }\n",
              "\n",
              "  .colab-df-quickchart:hover {\n",
              "    background-color: var(--hover-bg-color);\n",
              "    box-shadow: 0 1px 2px rgba(60, 64, 67, 0.3), 0 1px 3px 1px rgba(60, 64, 67, 0.15);\n",
              "    fill: var(--button-hover-fill-color);\n",
              "  }\n",
              "\n",
              "  .colab-df-quickchart-complete:disabled,\n",
              "  .colab-df-quickchart-complete:disabled:hover {\n",
              "    background-color: var(--disabled-bg-color);\n",
              "    fill: var(--disabled-fill-color);\n",
              "    box-shadow: none;\n",
              "  }\n",
              "\n",
              "  .colab-df-spinner {\n",
              "    border: 2px solid var(--fill-color);\n",
              "    border-color: transparent;\n",
              "    border-bottom-color: var(--fill-color);\n",
              "    animation:\n",
              "      spin 1s steps(1) infinite;\n",
              "  }\n",
              "\n",
              "  @keyframes spin {\n",
              "    0% {\n",
              "      border-color: transparent;\n",
              "      border-bottom-color: var(--fill-color);\n",
              "      border-left-color: var(--fill-color);\n",
              "    }\n",
              "    20% {\n",
              "      border-color: transparent;\n",
              "      border-left-color: var(--fill-color);\n",
              "      border-top-color: var(--fill-color);\n",
              "    }\n",
              "    30% {\n",
              "      border-color: transparent;\n",
              "      border-left-color: var(--fill-color);\n",
              "      border-top-color: var(--fill-color);\n",
              "      border-right-color: var(--fill-color);\n",
              "    }\n",
              "    40% {\n",
              "      border-color: transparent;\n",
              "      border-right-color: var(--fill-color);\n",
              "      border-top-color: var(--fill-color);\n",
              "    }\n",
              "    60% {\n",
              "      border-color: transparent;\n",
              "      border-right-color: var(--fill-color);\n",
              "    }\n",
              "    80% {\n",
              "      border-color: transparent;\n",
              "      border-right-color: var(--fill-color);\n",
              "      border-bottom-color: var(--fill-color);\n",
              "    }\n",
              "    90% {\n",
              "      border-color: transparent;\n",
              "      border-bottom-color: var(--fill-color);\n",
              "    }\n",
              "  }\n",
              "</style>\n",
              "\n",
              "  <script>\n",
              "    async function quickchart(key) {\n",
              "      const quickchartButtonEl =\n",
              "        document.querySelector('#' + key + ' button');\n",
              "      quickchartButtonEl.disabled = true;  // To prevent multiple clicks.\n",
              "      quickchartButtonEl.classList.add('colab-df-spinner');\n",
              "      try {\n",
              "        const charts = await google.colab.kernel.invokeFunction(\n",
              "            'suggestCharts', [key], {});\n",
              "      } catch (error) {\n",
              "        console.error('Error during call to suggestCharts:', error);\n",
              "      }\n",
              "      quickchartButtonEl.classList.remove('colab-df-spinner');\n",
              "      quickchartButtonEl.classList.add('colab-df-quickchart-complete');\n",
              "    }\n",
              "    (() => {\n",
              "      let quickchartButtonEl =\n",
              "        document.querySelector('#df-6179e9a8-a2cd-4e40-8d11-77429ec43415 button');\n",
              "      quickchartButtonEl.style.display =\n",
              "        google.colab.kernel.accessAllowed ? 'block' : 'none';\n",
              "    })();\n",
              "  </script>\n",
              "</div>\n",
              "\n",
              "    </div>\n",
              "  </div>\n"
            ],
            "application/vnd.google.colaboratory.intrinsic+json": {
              "type": "dataframe",
              "variable_name": "df_mention"
            }
          },
          "metadata": {},
          "execution_count": 17
        }
      ],
      "source": [
        "# list all mention data\n",
        "mention_list = [var for var in globals() if var.startswith('mention_20')]\n",
        "\n",
        "# merge all mention data every year\n",
        "df_mention = pd.concat([globals()[var] for var in mention_list], ignore_index=False)\n",
        "print(df_mention.shape)\n",
        "df_mention.head()"
      ]
    },
    {
      "cell_type": "markdown",
      "metadata": {
        "id": "-JoO0FURxDFr"
      },
      "source": [
        "### Isolated Edge"
      ]
    },
    {
      "cell_type": "code",
      "execution_count": null,
      "metadata": {
        "id": "322Do8BHqgTy",
        "colab": {
          "base_uri": "https://localhost:8080/"
        },
        "outputId": "aec93cb2-0ee1-4019-f507-4316c2ade5fc"
      },
      "outputs": [
        {
          "output_type": "stream",
          "name": "stdout",
          "text": [
            "data mention masing2 tahun berhasil difilter\n"
          ]
        }
      ],
      "source": [
        "# calculate the number of mentions\n",
        "def count_mentions(mentions_list):\n",
        "  return len(mentions_list)\n",
        "\n",
        "# split the users in \"username\" column\n",
        "def expand_mentions(row):\n",
        "  mentioned = row['username']\n",
        "  return [{'username': row['mention'], 'mentioned': mention, 'year': year} for mention in mentioned]\n",
        "\n",
        "# mentioned user data based on year\n",
        "def mentioned_year(dataframe, year):\n",
        "  data = dataframe[dataframe['year'] == year]\n",
        "  # user mentioned count\n",
        "  mentioned = data.groupby('mention')['username'].agg(list).reset_index()\n",
        "  mentioned['number_mentioned'] = mentioned['username'].apply(count_mentions)\n",
        "  # filter the number of mentions\n",
        "  sampel = mentioned[mentioned['number_mentioned'] > 1]\n",
        "  # break the mention list into new rows with one user in each row\n",
        "  expanded_mentions = sampel.apply(expand_mentions, axis=1)\n",
        "  # combine them into a new dataframe\n",
        "  data_mentioned = pd.DataFrame([username for mentions_list in expanded_mentions for username in mentions_list])\n",
        "\n",
        "  return data_mentioned\n",
        "\n",
        "# call function\n",
        "for year in all_year:\n",
        "  globals()[f\"mentioned_{year}\"] = pd.DataFrame(mentioned_year(df_mention, year))\n",
        "\n",
        "print('data mention masing2 tahun berhasil difilter')"
      ]
    },
    {
      "cell_type": "code",
      "execution_count": null,
      "metadata": {
        "id": "L35twETC--R7",
        "colab": {
          "base_uri": "https://localhost:8080/"
        },
        "outputId": "f7bad131-4bb5-4fff-9acf-30df281611f7"
      },
      "outputs": [
        {
          "output_type": "stream",
          "name": "stdout",
          "text": [
            "(71127, 3)\n"
          ]
        },
        {
          "output_type": "execute_result",
          "data": {
            "text/plain": [
              "       username     mentioned  year\n",
              "0      Aldy_SAS  dennyhidayat  2009\n",
              "1      Aldy_SAS  OctaViyanita  2009\n",
              "2      BerryVEE    rais_anwar  2009\n",
              "3      BerryVEE         dapih  2009\n",
              "4  Dennydrastic       mahbols  2009"
            ],
            "text/html": [
              "\n",
              "  <div id=\"df-bd9ff4ab-21da-4a6b-816b-e22c53f13d6c\" class=\"colab-df-container\">\n",
              "    <div>\n",
              "<style scoped>\n",
              "    .dataframe tbody tr th:only-of-type {\n",
              "        vertical-align: middle;\n",
              "    }\n",
              "\n",
              "    .dataframe tbody tr th {\n",
              "        vertical-align: top;\n",
              "    }\n",
              "\n",
              "    .dataframe thead th {\n",
              "        text-align: right;\n",
              "    }\n",
              "</style>\n",
              "<table border=\"1\" class=\"dataframe\">\n",
              "  <thead>\n",
              "    <tr style=\"text-align: right;\">\n",
              "      <th></th>\n",
              "      <th>username</th>\n",
              "      <th>mentioned</th>\n",
              "      <th>year</th>\n",
              "    </tr>\n",
              "  </thead>\n",
              "  <tbody>\n",
              "    <tr>\n",
              "      <th>0</th>\n",
              "      <td>Aldy_SAS</td>\n",
              "      <td>dennyhidayat</td>\n",
              "      <td>2009</td>\n",
              "    </tr>\n",
              "    <tr>\n",
              "      <th>1</th>\n",
              "      <td>Aldy_SAS</td>\n",
              "      <td>OctaViyanita</td>\n",
              "      <td>2009</td>\n",
              "    </tr>\n",
              "    <tr>\n",
              "      <th>2</th>\n",
              "      <td>BerryVEE</td>\n",
              "      <td>rais_anwar</td>\n",
              "      <td>2009</td>\n",
              "    </tr>\n",
              "    <tr>\n",
              "      <th>3</th>\n",
              "      <td>BerryVEE</td>\n",
              "      <td>dapih</td>\n",
              "      <td>2009</td>\n",
              "    </tr>\n",
              "    <tr>\n",
              "      <th>4</th>\n",
              "      <td>Dennydrastic</td>\n",
              "      <td>mahbols</td>\n",
              "      <td>2009</td>\n",
              "    </tr>\n",
              "  </tbody>\n",
              "</table>\n",
              "</div>\n",
              "    <div class=\"colab-df-buttons\">\n",
              "\n",
              "  <div class=\"colab-df-container\">\n",
              "    <button class=\"colab-df-convert\" onclick=\"convertToInteractive('df-bd9ff4ab-21da-4a6b-816b-e22c53f13d6c')\"\n",
              "            title=\"Convert this dataframe to an interactive table.\"\n",
              "            style=\"display:none;\">\n",
              "\n",
              "  <svg xmlns=\"http://www.w3.org/2000/svg\" height=\"24px\" viewBox=\"0 -960 960 960\">\n",
              "    <path d=\"M120-120v-720h720v720H120Zm60-500h600v-160H180v160Zm220 220h160v-160H400v160Zm0 220h160v-160H400v160ZM180-400h160v-160H180v160Zm440 0h160v-160H620v160ZM180-180h160v-160H180v160Zm440 0h160v-160H620v160Z\"/>\n",
              "  </svg>\n",
              "    </button>\n",
              "\n",
              "  <style>\n",
              "    .colab-df-container {\n",
              "      display:flex;\n",
              "      gap: 12px;\n",
              "    }\n",
              "\n",
              "    .colab-df-convert {\n",
              "      background-color: #E8F0FE;\n",
              "      border: none;\n",
              "      border-radius: 50%;\n",
              "      cursor: pointer;\n",
              "      display: none;\n",
              "      fill: #1967D2;\n",
              "      height: 32px;\n",
              "      padding: 0 0 0 0;\n",
              "      width: 32px;\n",
              "    }\n",
              "\n",
              "    .colab-df-convert:hover {\n",
              "      background-color: #E2EBFA;\n",
              "      box-shadow: 0px 1px 2px rgba(60, 64, 67, 0.3), 0px 1px 3px 1px rgba(60, 64, 67, 0.15);\n",
              "      fill: #174EA6;\n",
              "    }\n",
              "\n",
              "    .colab-df-buttons div {\n",
              "      margin-bottom: 4px;\n",
              "    }\n",
              "\n",
              "    [theme=dark] .colab-df-convert {\n",
              "      background-color: #3B4455;\n",
              "      fill: #D2E3FC;\n",
              "    }\n",
              "\n",
              "    [theme=dark] .colab-df-convert:hover {\n",
              "      background-color: #434B5C;\n",
              "      box-shadow: 0px 1px 3px 1px rgba(0, 0, 0, 0.15);\n",
              "      filter: drop-shadow(0px 1px 2px rgba(0, 0, 0, 0.3));\n",
              "      fill: #FFFFFF;\n",
              "    }\n",
              "  </style>\n",
              "\n",
              "    <script>\n",
              "      const buttonEl =\n",
              "        document.querySelector('#df-bd9ff4ab-21da-4a6b-816b-e22c53f13d6c button.colab-df-convert');\n",
              "      buttonEl.style.display =\n",
              "        google.colab.kernel.accessAllowed ? 'block' : 'none';\n",
              "\n",
              "      async function convertToInteractive(key) {\n",
              "        const element = document.querySelector('#df-bd9ff4ab-21da-4a6b-816b-e22c53f13d6c');\n",
              "        const dataTable =\n",
              "          await google.colab.kernel.invokeFunction('convertToInteractive',\n",
              "                                                    [key], {});\n",
              "        if (!dataTable) return;\n",
              "\n",
              "        const docLinkHtml = 'Like what you see? Visit the ' +\n",
              "          '<a target=\"_blank\" href=https://colab.research.google.com/notebooks/data_table.ipynb>data table notebook</a>'\n",
              "          + ' to learn more about interactive tables.';\n",
              "        element.innerHTML = '';\n",
              "        dataTable['output_type'] = 'display_data';\n",
              "        await google.colab.output.renderOutput(dataTable, element);\n",
              "        const docLink = document.createElement('div');\n",
              "        docLink.innerHTML = docLinkHtml;\n",
              "        element.appendChild(docLink);\n",
              "      }\n",
              "    </script>\n",
              "  </div>\n",
              "\n",
              "\n",
              "<div id=\"df-25339bfe-59b2-4310-912c-0de495ed6527\">\n",
              "  <button class=\"colab-df-quickchart\" onclick=\"quickchart('df-25339bfe-59b2-4310-912c-0de495ed6527')\"\n",
              "            title=\"Suggest charts\"\n",
              "            style=\"display:none;\">\n",
              "\n",
              "<svg xmlns=\"http://www.w3.org/2000/svg\" height=\"24px\"viewBox=\"0 0 24 24\"\n",
              "     width=\"24px\">\n",
              "    <g>\n",
              "        <path d=\"M19 3H5c-1.1 0-2 .9-2 2v14c0 1.1.9 2 2 2h14c1.1 0 2-.9 2-2V5c0-1.1-.9-2-2-2zM9 17H7v-7h2v7zm4 0h-2V7h2v10zm4 0h-2v-4h2v4z\"/>\n",
              "    </g>\n",
              "</svg>\n",
              "  </button>\n",
              "\n",
              "<style>\n",
              "  .colab-df-quickchart {\n",
              "      --bg-color: #E8F0FE;\n",
              "      --fill-color: #1967D2;\n",
              "      --hover-bg-color: #E2EBFA;\n",
              "      --hover-fill-color: #174EA6;\n",
              "      --disabled-fill-color: #AAA;\n",
              "      --disabled-bg-color: #DDD;\n",
              "  }\n",
              "\n",
              "  [theme=dark] .colab-df-quickchart {\n",
              "      --bg-color: #3B4455;\n",
              "      --fill-color: #D2E3FC;\n",
              "      --hover-bg-color: #434B5C;\n",
              "      --hover-fill-color: #FFFFFF;\n",
              "      --disabled-bg-color: #3B4455;\n",
              "      --disabled-fill-color: #666;\n",
              "  }\n",
              "\n",
              "  .colab-df-quickchart {\n",
              "    background-color: var(--bg-color);\n",
              "    border: none;\n",
              "    border-radius: 50%;\n",
              "    cursor: pointer;\n",
              "    display: none;\n",
              "    fill: var(--fill-color);\n",
              "    height: 32px;\n",
              "    padding: 0;\n",
              "    width: 32px;\n",
              "  }\n",
              "\n",
              "  .colab-df-quickchart:hover {\n",
              "    background-color: var(--hover-bg-color);\n",
              "    box-shadow: 0 1px 2px rgba(60, 64, 67, 0.3), 0 1px 3px 1px rgba(60, 64, 67, 0.15);\n",
              "    fill: var(--button-hover-fill-color);\n",
              "  }\n",
              "\n",
              "  .colab-df-quickchart-complete:disabled,\n",
              "  .colab-df-quickchart-complete:disabled:hover {\n",
              "    background-color: var(--disabled-bg-color);\n",
              "    fill: var(--disabled-fill-color);\n",
              "    box-shadow: none;\n",
              "  }\n",
              "\n",
              "  .colab-df-spinner {\n",
              "    border: 2px solid var(--fill-color);\n",
              "    border-color: transparent;\n",
              "    border-bottom-color: var(--fill-color);\n",
              "    animation:\n",
              "      spin 1s steps(1) infinite;\n",
              "  }\n",
              "\n",
              "  @keyframes spin {\n",
              "    0% {\n",
              "      border-color: transparent;\n",
              "      border-bottom-color: var(--fill-color);\n",
              "      border-left-color: var(--fill-color);\n",
              "    }\n",
              "    20% {\n",
              "      border-color: transparent;\n",
              "      border-left-color: var(--fill-color);\n",
              "      border-top-color: var(--fill-color);\n",
              "    }\n",
              "    30% {\n",
              "      border-color: transparent;\n",
              "      border-left-color: var(--fill-color);\n",
              "      border-top-color: var(--fill-color);\n",
              "      border-right-color: var(--fill-color);\n",
              "    }\n",
              "    40% {\n",
              "      border-color: transparent;\n",
              "      border-right-color: var(--fill-color);\n",
              "      border-top-color: var(--fill-color);\n",
              "    }\n",
              "    60% {\n",
              "      border-color: transparent;\n",
              "      border-right-color: var(--fill-color);\n",
              "    }\n",
              "    80% {\n",
              "      border-color: transparent;\n",
              "      border-right-color: var(--fill-color);\n",
              "      border-bottom-color: var(--fill-color);\n",
              "    }\n",
              "    90% {\n",
              "      border-color: transparent;\n",
              "      border-bottom-color: var(--fill-color);\n",
              "    }\n",
              "  }\n",
              "</style>\n",
              "\n",
              "  <script>\n",
              "    async function quickchart(key) {\n",
              "      const quickchartButtonEl =\n",
              "        document.querySelector('#' + key + ' button');\n",
              "      quickchartButtonEl.disabled = true;  // To prevent multiple clicks.\n",
              "      quickchartButtonEl.classList.add('colab-df-spinner');\n",
              "      try {\n",
              "        const charts = await google.colab.kernel.invokeFunction(\n",
              "            'suggestCharts', [key], {});\n",
              "      } catch (error) {\n",
              "        console.error('Error during call to suggestCharts:', error);\n",
              "      }\n",
              "      quickchartButtonEl.classList.remove('colab-df-spinner');\n",
              "      quickchartButtonEl.classList.add('colab-df-quickchart-complete');\n",
              "    }\n",
              "    (() => {\n",
              "      let quickchartButtonEl =\n",
              "        document.querySelector('#df-25339bfe-59b2-4310-912c-0de495ed6527 button');\n",
              "      quickchartButtonEl.style.display =\n",
              "        google.colab.kernel.accessAllowed ? 'block' : 'none';\n",
              "    })();\n",
              "  </script>\n",
              "</div>\n",
              "\n",
              "    </div>\n",
              "  </div>\n"
            ],
            "application/vnd.google.colaboratory.intrinsic+json": {
              "type": "dataframe",
              "variable_name": "df_mentioned",
              "summary": "{\n  \"name\": \"df_mentioned\",\n  \"rows\": 71127,\n  \"fields\": [\n    {\n      \"column\": \"username\",\n      \"properties\": {\n        \"dtype\": \"category\",\n        \"num_unique_values\": 12018,\n        \"samples\": [\n          \"well_wellaa\",\n          \"Robba_Edogawa\",\n          \"irisLoco\"\n        ],\n        \"semantic_type\": \"\",\n        \"description\": \"\"\n      }\n    },\n    {\n      \"column\": \"mentioned\",\n      \"properties\": {\n        \"dtype\": \"category\",\n        \"num_unique_values\": 28208,\n        \"samples\": [\n          \"yusejahtera\",\n          \"aswadsyam\",\n          \"BuatSeseorang\"\n        ],\n        \"semantic_type\": \"\",\n        \"description\": \"\"\n      }\n    },\n    {\n      \"column\": \"year\",\n      \"properties\": {\n        \"dtype\": \"int32\",\n        \"num_unique_values\": 11,\n        \"samples\": [\n          2014,\n          2009,\n          2018\n        ],\n        \"semantic_type\": \"\",\n        \"description\": \"\"\n      }\n    }\n  ]\n}"
            }
          },
          "metadata": {},
          "execution_count": 19
        }
      ],
      "source": [
        "# list all mentioned data\n",
        "mentioned_list = [var for var in globals() if var.startswith('mentioned_20')]\n",
        "\n",
        "# merge all mention data every year\n",
        "df_mentioned = pd.concat([globals()[var] for var in mentioned_list], ignore_index=False)\n",
        "print(df_mentioned.shape)\n",
        "df_mentioned.head()"
      ]
    },
    {
      "cell_type": "markdown",
      "metadata": {
        "id": "NrdO14s0FCtx"
      },
      "source": [
        "### Top Mentioned Users"
      ]
    },
    {
      "cell_type": "code",
      "execution_count": null,
      "metadata": {
        "id": "t7VETKOBfJdI",
        "colab": {
          "base_uri": "https://localhost:8080/"
        },
        "outputId": "99672a68-fa1b-4bfa-cc08-47a293d49bcc"
      },
      "outputs": [
        {
          "output_type": "display_data",
          "data": {
            "text/html": [
              "<html>\n",
              "<head><meta charset=\"utf-8\" /></head>\n",
              "<body>\n",
              "    <div>            <script src=\"https://cdnjs.cloudflare.com/ajax/libs/mathjax/2.7.5/MathJax.js?config=TeX-AMS-MML_SVG\"></script><script type=\"text/javascript\">if (window.MathJax && window.MathJax.Hub && window.MathJax.Hub.Config) {window.MathJax.Hub.Config({SVG: {font: \"STIX-Web\"}});}</script>                <script type=\"text/javascript\">window.PlotlyConfig = {MathJaxConfig: 'local'};</script>\n",
              "        <script charset=\"utf-8\" src=\"https://cdn.plot.ly/plotly-2.24.1.min.js\"></script>                <div id=\"1b65b5e7-4942-49c0-a7c2-b709479c657a\" class=\"plotly-graph-div\" style=\"height:600px; width:1200px;\"></div>            <script type=\"text/javascript\">                                    window.PLOTLYENV=window.PLOTLYENV || {};                                    if (document.getElementById(\"1b65b5e7-4942-49c0-a7c2-b709479c657a\")) {                    Plotly.newPlot(                        \"1b65b5e7-4942-49c0-a7c2-b709479c657a\",                        [{\"alignmentgroup\":\"True\",\"hovertemplate\":\"x=%{x}\\u003cbr\\u003ey=%{y}\\u003cextra\\u003e\\u003c\\u002fextra\\u003e\",\"legendgroup\":\"\",\"marker\":{\"color\":\"#636efa\",\"pattern\":{\"shape\":\"\"}},\"name\":\"\",\"offsetgroup\":\"\",\"orientation\":\"h\",\"showlegend\":false,\"textposition\":\"outside\",\"x\":[2709,786,614,520,518,504,417,399,321,317,274,254,248,234,234],\"xaxis\":\"x\",\"y\":[\"YouTube\",\"jokowi\",\"ScholarshipsUK\",\"hafidz_ary\",\"detikcom\",\"TrioMacan2000\",\"KPK_RI\",\"ulil\",\"Metro_TV\",\"SBYudhoyono\",\"sahaL_AS\",\"basuki_btp\",\"Yusrilihza_Mhd\",\"kompascom\",\"felixsiauw\"],\"yaxis\":\"y\",\"type\":\"bar\"}],                        {\"template\":{\"data\":{\"histogram2dcontour\":[{\"type\":\"histogram2dcontour\",\"colorbar\":{\"outlinewidth\":0,\"ticks\":\"\"},\"colorscale\":[[0.0,\"#0d0887\"],[0.1111111111111111,\"#46039f\"],[0.2222222222222222,\"#7201a8\"],[0.3333333333333333,\"#9c179e\"],[0.4444444444444444,\"#bd3786\"],[0.5555555555555556,\"#d8576b\"],[0.6666666666666666,\"#ed7953\"],[0.7777777777777778,\"#fb9f3a\"],[0.8888888888888888,\"#fdca26\"],[1.0,\"#f0f921\"]]}],\"choropleth\":[{\"type\":\"choropleth\",\"colorbar\":{\"outlinewidth\":0,\"ticks\":\"\"}}],\"histogram2d\":[{\"type\":\"histogram2d\",\"colorbar\":{\"outlinewidth\":0,\"ticks\":\"\"},\"colorscale\":[[0.0,\"#0d0887\"],[0.1111111111111111,\"#46039f\"],[0.2222222222222222,\"#7201a8\"],[0.3333333333333333,\"#9c179e\"],[0.4444444444444444,\"#bd3786\"],[0.5555555555555556,\"#d8576b\"],[0.6666666666666666,\"#ed7953\"],[0.7777777777777778,\"#fb9f3a\"],[0.8888888888888888,\"#fdca26\"],[1.0,\"#f0f921\"]]}],\"heatmap\":[{\"type\":\"heatmap\",\"colorbar\":{\"outlinewidth\":0,\"ticks\":\"\"},\"colorscale\":[[0.0,\"#0d0887\"],[0.1111111111111111,\"#46039f\"],[0.2222222222222222,\"#7201a8\"],[0.3333333333333333,\"#9c179e\"],[0.4444444444444444,\"#bd3786\"],[0.5555555555555556,\"#d8576b\"],[0.6666666666666666,\"#ed7953\"],[0.7777777777777778,\"#fb9f3a\"],[0.8888888888888888,\"#fdca26\"],[1.0,\"#f0f921\"]]}],\"heatmapgl\":[{\"type\":\"heatmapgl\",\"colorbar\":{\"outlinewidth\":0,\"ticks\":\"\"},\"colorscale\":[[0.0,\"#0d0887\"],[0.1111111111111111,\"#46039f\"],[0.2222222222222222,\"#7201a8\"],[0.3333333333333333,\"#9c179e\"],[0.4444444444444444,\"#bd3786\"],[0.5555555555555556,\"#d8576b\"],[0.6666666666666666,\"#ed7953\"],[0.7777777777777778,\"#fb9f3a\"],[0.8888888888888888,\"#fdca26\"],[1.0,\"#f0f921\"]]}],\"contourcarpet\":[{\"type\":\"contourcarpet\",\"colorbar\":{\"outlinewidth\":0,\"ticks\":\"\"}}],\"contour\":[{\"type\":\"contour\",\"colorbar\":{\"outlinewidth\":0,\"ticks\":\"\"},\"colorscale\":[[0.0,\"#0d0887\"],[0.1111111111111111,\"#46039f\"],[0.2222222222222222,\"#7201a8\"],[0.3333333333333333,\"#9c179e\"],[0.4444444444444444,\"#bd3786\"],[0.5555555555555556,\"#d8576b\"],[0.6666666666666666,\"#ed7953\"],[0.7777777777777778,\"#fb9f3a\"],[0.8888888888888888,\"#fdca26\"],[1.0,\"#f0f921\"]]}],\"surface\":[{\"type\":\"surface\",\"colorbar\":{\"outlinewidth\":0,\"ticks\":\"\"},\"colorscale\":[[0.0,\"#0d0887\"],[0.1111111111111111,\"#46039f\"],[0.2222222222222222,\"#7201a8\"],[0.3333333333333333,\"#9c179e\"],[0.4444444444444444,\"#bd3786\"],[0.5555555555555556,\"#d8576b\"],[0.6666666666666666,\"#ed7953\"],[0.7777777777777778,\"#fb9f3a\"],[0.8888888888888888,\"#fdca26\"],[1.0,\"#f0f921\"]]}],\"mesh3d\":[{\"type\":\"mesh3d\",\"colorbar\":{\"outlinewidth\":0,\"ticks\":\"\"}}],\"scatter\":[{\"fillpattern\":{\"fillmode\":\"overlay\",\"size\":10,\"solidity\":0.2},\"type\":\"scatter\"}],\"parcoords\":[{\"type\":\"parcoords\",\"line\":{\"colorbar\":{\"outlinewidth\":0,\"ticks\":\"\"}}}],\"scatterpolargl\":[{\"type\":\"scatterpolargl\",\"marker\":{\"colorbar\":{\"outlinewidth\":0,\"ticks\":\"\"}}}],\"bar\":[{\"error_x\":{\"color\":\"#2a3f5f\"},\"error_y\":{\"color\":\"#2a3f5f\"},\"marker\":{\"line\":{\"color\":\"#E5ECF6\",\"width\":0.5},\"pattern\":{\"fillmode\":\"overlay\",\"size\":10,\"solidity\":0.2}},\"type\":\"bar\"}],\"scattergeo\":[{\"type\":\"scattergeo\",\"marker\":{\"colorbar\":{\"outlinewidth\":0,\"ticks\":\"\"}}}],\"scatterpolar\":[{\"type\":\"scatterpolar\",\"marker\":{\"colorbar\":{\"outlinewidth\":0,\"ticks\":\"\"}}}],\"histogram\":[{\"marker\":{\"pattern\":{\"fillmode\":\"overlay\",\"size\":10,\"solidity\":0.2}},\"type\":\"histogram\"}],\"scattergl\":[{\"type\":\"scattergl\",\"marker\":{\"colorbar\":{\"outlinewidth\":0,\"ticks\":\"\"}}}],\"scatter3d\":[{\"type\":\"scatter3d\",\"line\":{\"colorbar\":{\"outlinewidth\":0,\"ticks\":\"\"}},\"marker\":{\"colorbar\":{\"outlinewidth\":0,\"ticks\":\"\"}}}],\"scattermapbox\":[{\"type\":\"scattermapbox\",\"marker\":{\"colorbar\":{\"outlinewidth\":0,\"ticks\":\"\"}}}],\"scatterternary\":[{\"type\":\"scatterternary\",\"marker\":{\"colorbar\":{\"outlinewidth\":0,\"ticks\":\"\"}}}],\"scattercarpet\":[{\"type\":\"scattercarpet\",\"marker\":{\"colorbar\":{\"outlinewidth\":0,\"ticks\":\"\"}}}],\"carpet\":[{\"aaxis\":{\"endlinecolor\":\"#2a3f5f\",\"gridcolor\":\"white\",\"linecolor\":\"white\",\"minorgridcolor\":\"white\",\"startlinecolor\":\"#2a3f5f\"},\"baxis\":{\"endlinecolor\":\"#2a3f5f\",\"gridcolor\":\"white\",\"linecolor\":\"white\",\"minorgridcolor\":\"white\",\"startlinecolor\":\"#2a3f5f\"},\"type\":\"carpet\"}],\"table\":[{\"cells\":{\"fill\":{\"color\":\"#EBF0F8\"},\"line\":{\"color\":\"white\"}},\"header\":{\"fill\":{\"color\":\"#C8D4E3\"},\"line\":{\"color\":\"white\"}},\"type\":\"table\"}],\"barpolar\":[{\"marker\":{\"line\":{\"color\":\"#E5ECF6\",\"width\":0.5},\"pattern\":{\"fillmode\":\"overlay\",\"size\":10,\"solidity\":0.2}},\"type\":\"barpolar\"}],\"pie\":[{\"automargin\":true,\"type\":\"pie\"}]},\"layout\":{\"autotypenumbers\":\"strict\",\"colorway\":[\"#636efa\",\"#EF553B\",\"#00cc96\",\"#ab63fa\",\"#FFA15A\",\"#19d3f3\",\"#FF6692\",\"#B6E880\",\"#FF97FF\",\"#FECB52\"],\"font\":{\"color\":\"#2a3f5f\"},\"hovermode\":\"closest\",\"hoverlabel\":{\"align\":\"left\"},\"paper_bgcolor\":\"white\",\"plot_bgcolor\":\"#E5ECF6\",\"polar\":{\"bgcolor\":\"#E5ECF6\",\"angularaxis\":{\"gridcolor\":\"white\",\"linecolor\":\"white\",\"ticks\":\"\"},\"radialaxis\":{\"gridcolor\":\"white\",\"linecolor\":\"white\",\"ticks\":\"\"}},\"ternary\":{\"bgcolor\":\"#E5ECF6\",\"aaxis\":{\"gridcolor\":\"white\",\"linecolor\":\"white\",\"ticks\":\"\"},\"baxis\":{\"gridcolor\":\"white\",\"linecolor\":\"white\",\"ticks\":\"\"},\"caxis\":{\"gridcolor\":\"white\",\"linecolor\":\"white\",\"ticks\":\"\"}},\"coloraxis\":{\"colorbar\":{\"outlinewidth\":0,\"ticks\":\"\"}},\"colorscale\":{\"sequential\":[[0.0,\"#0d0887\"],[0.1111111111111111,\"#46039f\"],[0.2222222222222222,\"#7201a8\"],[0.3333333333333333,\"#9c179e\"],[0.4444444444444444,\"#bd3786\"],[0.5555555555555556,\"#d8576b\"],[0.6666666666666666,\"#ed7953\"],[0.7777777777777778,\"#fb9f3a\"],[0.8888888888888888,\"#fdca26\"],[1.0,\"#f0f921\"]],\"sequentialminus\":[[0.0,\"#0d0887\"],[0.1111111111111111,\"#46039f\"],[0.2222222222222222,\"#7201a8\"],[0.3333333333333333,\"#9c179e\"],[0.4444444444444444,\"#bd3786\"],[0.5555555555555556,\"#d8576b\"],[0.6666666666666666,\"#ed7953\"],[0.7777777777777778,\"#fb9f3a\"],[0.8888888888888888,\"#fdca26\"],[1.0,\"#f0f921\"]],\"diverging\":[[0,\"#8e0152\"],[0.1,\"#c51b7d\"],[0.2,\"#de77ae\"],[0.3,\"#f1b6da\"],[0.4,\"#fde0ef\"],[0.5,\"#f7f7f7\"],[0.6,\"#e6f5d0\"],[0.7,\"#b8e186\"],[0.8,\"#7fbc41\"],[0.9,\"#4d9221\"],[1,\"#276419\"]]},\"xaxis\":{\"gridcolor\":\"white\",\"linecolor\":\"white\",\"ticks\":\"\",\"title\":{\"standoff\":15},\"zerolinecolor\":\"white\",\"automargin\":true,\"zerolinewidth\":2},\"yaxis\":{\"gridcolor\":\"white\",\"linecolor\":\"white\",\"ticks\":\"\",\"title\":{\"standoff\":15},\"zerolinecolor\":\"white\",\"automargin\":true,\"zerolinewidth\":2},\"scene\":{\"xaxis\":{\"backgroundcolor\":\"#E5ECF6\",\"gridcolor\":\"white\",\"linecolor\":\"white\",\"showbackground\":true,\"ticks\":\"\",\"zerolinecolor\":\"white\",\"gridwidth\":2},\"yaxis\":{\"backgroundcolor\":\"#E5ECF6\",\"gridcolor\":\"white\",\"linecolor\":\"white\",\"showbackground\":true,\"ticks\":\"\",\"zerolinecolor\":\"white\",\"gridwidth\":2},\"zaxis\":{\"backgroundcolor\":\"#E5ECF6\",\"gridcolor\":\"white\",\"linecolor\":\"white\",\"showbackground\":true,\"ticks\":\"\",\"zerolinecolor\":\"white\",\"gridwidth\":2}},\"shapedefaults\":{\"line\":{\"color\":\"#2a3f5f\"}},\"annotationdefaults\":{\"arrowcolor\":\"#2a3f5f\",\"arrowhead\":0,\"arrowwidth\":1},\"geo\":{\"bgcolor\":\"white\",\"landcolor\":\"#E5ECF6\",\"subunitcolor\":\"white\",\"showland\":true,\"showlakes\":true,\"lakecolor\":\"white\"},\"title\":{\"x\":0.05},\"mapbox\":{\"style\":\"light\"}}},\"xaxis\":{\"anchor\":\"y\",\"domain\":[0.0,1.0],\"title\":{\"text\":\"Number of Mentions\"}},\"yaxis\":{\"anchor\":\"x\",\"domain\":[0.0,1.0],\"title\":{\"text\":\"User Mentioned\"}},\"legend\":{\"tracegroupgap\":0},\"margin\":{\"t\":50,\"l\":30,\"r\":30,\"b\":50},\"barmode\":\"relative\",\"title\":{\"text\":\"Top 15 Users Mentioned\"},\"autosize\":false,\"width\":1200,\"height\":600,\"bargap\":0.5},                        {\"responsive\": true}                    ).then(function(){\n",
              "                            \n",
              "var gd = document.getElementById('1b65b5e7-4942-49c0-a7c2-b709479c657a');\n",
              "var x = new MutationObserver(function (mutations, observer) {{\n",
              "        var display = window.getComputedStyle(gd).display;\n",
              "        if (!display || display === 'none') {{\n",
              "            console.log([gd, 'removed!']);\n",
              "            Plotly.purge(gd);\n",
              "            observer.disconnect();\n",
              "        }}\n",
              "}});\n",
              "\n",
              "// Listen for the removal of the full notebook cells\n",
              "var notebookContainer = gd.closest('#notebook-container');\n",
              "if (notebookContainer) {{\n",
              "    x.observe(notebookContainer, {childList: true});\n",
              "}}\n",
              "\n",
              "// Listen for the clearing of the current output cell\n",
              "var outputEl = gd.closest('.output');\n",
              "if (outputEl) {{\n",
              "    x.observe(outputEl, {childList: true});\n",
              "}}\n",
              "\n",
              "                        })                };                            </script>        </div>\n",
              "</body>\n",
              "</html>"
            ]
          },
          "metadata": {}
        }
      ],
      "source": [
        "# select the number of users mentioned\n",
        "N = 15\n",
        "mention_counts = df_mentioned['username'].value_counts().iloc[:N]\n",
        "\n",
        "# horizontal bar plot\n",
        "fig = px.bar(df_mentioned, x=mention_counts.values, y=mention_counts.index)\n",
        "\n",
        "# figure layout & size\n",
        "fig.update_layout(\n",
        "    title='Top {} Users Mentioned'.format(N),\n",
        "    xaxis_title='Number of Mentions',\n",
        "    yaxis_title='User Mentioned',\n",
        "    autosize=False,\n",
        "    width=1200,\n",
        "    height=600,\n",
        "    margin=dict(l=30, r=30, b=50, t=50),\n",
        "    bargap=0.5)\n",
        "\n",
        "fig.update_traces(textposition='outside')\n",
        "fig.show()"
      ]
    },
    {
      "cell_type": "markdown",
      "metadata": {
        "id": "q6ktlHWyFgl_"
      },
      "source": [
        "## Graph Building"
      ]
    },
    {
      "cell_type": "code",
      "execution_count": null,
      "metadata": {
        "id": "o5aWZajGfsDp",
        "colab": {
          "base_uri": "https://localhost:8080/"
        },
        "outputId": "ff46765a-d7c6-4d84-9a83-3642357b9b1d"
      },
      "outputs": [
        {
          "output_type": "stream",
          "name": "stdout",
          "text": [
            "graf berarah dibagi per tahun\n"
          ]
        }
      ],
      "source": [
        "def graph_year(dataframe, year):\n",
        "  data = dataframe[dataframe['year'] == year]\n",
        "  # new directed graph variable\n",
        "  G = nx.Graph()\n",
        "  # add nodes and edges with direction\n",
        "  for _, row in data.iterrows():\n",
        "    G.add_node(row[\"username\"])\n",
        "    G.add_node(row[\"mentioned\"])\n",
        "    G.add_edge(row[\"username\"], row[\"mentioned\"])\n",
        "\n",
        "  return G\n",
        "\n",
        "# call the function\n",
        "for year in all_year:\n",
        "  globals()[f\"graph_{year}\"] = graph_year(df_mentioned, year)\n",
        "\n",
        "print('graf berarah dibagi per tahun')"
      ]
    },
    {
      "cell_type": "code",
      "source": [
        "sub_nodes = list(graph_2009.nodes)[:10]\n",
        "sub_G = graph_2009.subgraph(sub_nodes)\n",
        "\n",
        "plt.figure(figsize=(4, 4))\n",
        "pos = nx.spring_layout(sub_G)\n",
        "nx.draw(sub_G, pos, with_labels=True, node_size=250, node_color=\"lightgreen\", font_size=8, edge_color=\"green\")\n",
        "plt.title(\"Tampilan Graf\")\n",
        "plt.show()"
      ],
      "metadata": {
        "colab": {
          "base_uri": "https://localhost:8080/"
        },
        "id": "va6QWlTyvzce",
        "outputId": "82f317f4-8d93-4e64-ab80-35d60ead39ff"
      },
      "execution_count": null,
      "outputs": [
        {
          "output_type": "display_data",
          "data": {
            "text/plain": [
              "<Figure size 400x400 with 1 Axes>"
            ],
            "image/png": "[encoded data removed]"
          },
          "metadata": {}
        }
      ]
    },
    {
      "cell_type": "code",
      "source": [
        "def graph_distribution(graphs):\n",
        "  data = []\n",
        "  allyear = range(2009,2020)\n",
        "  for graph, year in zip(graphs, allyear):\n",
        "    data.append({\n",
        "        'Tahun': year,\n",
        "        'Simpul': graph.number_of_nodes(),\n",
        "        'Sisi': graph.number_of_edges()\n",
        "        })\n",
        "  return pd.DataFrame(data)\n",
        "\n",
        "graph_list = [globals()[var] for var in globals() if var.startswith('graph_20')]\n",
        "df_graf = graph_distribution(graph_list)\n",
        "\n",
        "x = ['2009','2010','2011','2012','2013','2014','2015','2016','2017','2018','2019']\n",
        "\n",
        "fig = go.Figure(data=[\n",
        "    go.Bar(name='Simpul', x=x, y=df_graf['Simpul'], text=df_graf['Simpul'], textposition='auto'),\n",
        "    go.Bar(name='Sisi', x=x, y=df_graf['Sisi'], text=df_graf['Sisi'], textposition='auto')\n",
        "])\n",
        "fig.update_layout(barmode='group', width= 1000, height=600)\n",
        "fig.show()"
      ],
      "metadata": {
        "colab": {
          "base_uri": "https://localhost:8080/"
        },
        "id": "-EGVxtD-EX5s",
        "outputId": "e7c62a20-ccf7-4da8-bbcd-31f6241cf537"
      },
      "execution_count": null,
      "outputs": [
        {
          "output_type": "display_data",
          "data": {
            "text/html": [
              "<html>\n",
              "<head><meta charset=\"utf-8\" /></head>\n",
              "<body>\n",
              "    <div>            <script src=\"https://cdnjs.cloudflare.com/ajax/libs/mathjax/2.7.5/MathJax.js?config=TeX-AMS-MML_SVG\"></script><script type=\"text/javascript\">if (window.MathJax && window.MathJax.Hub && window.MathJax.Hub.Config) {window.MathJax.Hub.Config({SVG: {font: \"STIX-Web\"}});}</script>                <script type=\"text/javascript\">window.PlotlyConfig = {MathJaxConfig: 'local'};</script>\n",
              "        <script charset=\"utf-8\" src=\"https://cdn.plot.ly/plotly-2.24.1.min.js\"></script>                <div id=\"0c3008dd-7388-415b-8abd-9bfbbac5b8e9\" class=\"plotly-graph-div\" style=\"height:600px; width:1000px;\"></div>            <script type=\"text/javascript\">                                    window.PLOTLYENV=window.PLOTLYENV || {};                                    if (document.getElementById(\"0c3008dd-7388-415b-8abd-9bfbbac5b8e9\")) {                    Plotly.newPlot(                        \"0c3008dd-7388-415b-8abd-9bfbbac5b8e9\",                        [{\"name\":\"Simpul\",\"text\":[415.0,3635.0,7355.0,7648.0,7267.0,6839.0,5100.0,2847.0,2558.0,2123.0,470.0],\"textposition\":\"auto\",\"x\":[\"2009\",\"2010\",\"2011\",\"2012\",\"2013\",\"2014\",\"2015\",\"2016\",\"2017\",\"2018\",\"2019\"],\"y\":[415,3635,7355,7648,7267,6839,5100,2847,2558,2123,470],\"type\":\"bar\"},{\"name\":\"Sisi\",\"text\":[315.0,3402.0,7262.0,7681.0,7906.0,8024.0,6541.0,3797.0,3945.0,3764.0,648.0],\"textposition\":\"auto\",\"x\":[\"2009\",\"2010\",\"2011\",\"2012\",\"2013\",\"2014\",\"2015\",\"2016\",\"2017\",\"2018\",\"2019\"],\"y\":[315,3402,7262,7681,7906,8024,6541,3797,3945,3764,648],\"type\":\"bar\"}],                        {\"template\":{\"data\":{\"histogram2dcontour\":[{\"type\":\"histogram2dcontour\",\"colorbar\":{\"outlinewidth\":0,\"ticks\":\"\"},\"colorscale\":[[0.0,\"#0d0887\"],[0.1111111111111111,\"#46039f\"],[0.2222222222222222,\"#7201a8\"],[0.3333333333333333,\"#9c179e\"],[0.4444444444444444,\"#bd3786\"],[0.5555555555555556,\"#d8576b\"],[0.6666666666666666,\"#ed7953\"],[0.7777777777777778,\"#fb9f3a\"],[0.8888888888888888,\"#fdca26\"],[1.0,\"#f0f921\"]]}],\"choropleth\":[{\"type\":\"choropleth\",\"colorbar\":{\"outlinewidth\":0,\"ticks\":\"\"}}],\"histogram2d\":[{\"type\":\"histogram2d\",\"colorbar\":{\"outlinewidth\":0,\"ticks\":\"\"},\"colorscale\":[[0.0,\"#0d0887\"],[0.1111111111111111,\"#46039f\"],[0.2222222222222222,\"#7201a8\"],[0.3333333333333333,\"#9c179e\"],[0.4444444444444444,\"#bd3786\"],[0.5555555555555556,\"#d8576b\"],[0.6666666666666666,\"#ed7953\"],[0.7777777777777778,\"#fb9f3a\"],[0.8888888888888888,\"#fdca26\"],[1.0,\"#f0f921\"]]}],\"heatmap\":[{\"type\":\"heatmap\",\"colorbar\":{\"outlinewidth\":0,\"ticks\":\"\"},\"colorscale\":[[0.0,\"#0d0887\"],[0.1111111111111111,\"#46039f\"],[0.2222222222222222,\"#7201a8\"],[0.3333333333333333,\"#9c179e\"],[0.4444444444444444,\"#bd3786\"],[0.5555555555555556,\"#d8576b\"],[0.6666666666666666,\"#ed7953\"],[0.7777777777777778,\"#fb9f3a\"],[0.8888888888888888,\"#fdca26\"],[1.0,\"#f0f921\"]]}],\"heatmapgl\":[{\"type\":\"heatmapgl\",\"colorbar\":{\"outlinewidth\":0,\"ticks\":\"\"},\"colorscale\":[[0.0,\"#0d0887\"],[0.1111111111111111,\"#46039f\"],[0.2222222222222222,\"#7201a8\"],[0.3333333333333333,\"#9c179e\"],[0.4444444444444444,\"#bd3786\"],[0.5555555555555556,\"#d8576b\"],[0.6666666666666666,\"#ed7953\"],[0.7777777777777778,\"#fb9f3a\"],[0.8888888888888888,\"#fdca26\"],[1.0,\"#f0f921\"]]}],\"contourcarpet\":[{\"type\":\"contourcarpet\",\"colorbar\":{\"outlinewidth\":0,\"ticks\":\"\"}}],\"contour\":[{\"type\":\"contour\",\"colorbar\":{\"outlinewidth\":0,\"ticks\":\"\"},\"colorscale\":[[0.0,\"#0d0887\"],[0.1111111111111111,\"#46039f\"],[0.2222222222222222,\"#7201a8\"],[0.3333333333333333,\"#9c179e\"],[0.4444444444444444,\"#bd3786\"],[0.5555555555555556,\"#d8576b\"],[0.6666666666666666,\"#ed7953\"],[0.7777777777777778,\"#fb9f3a\"],[0.8888888888888888,\"#fdca26\"],[1.0,\"#f0f921\"]]}],\"surface\":[{\"type\":\"surface\",\"colorbar\":{\"outlinewidth\":0,\"ticks\":\"\"},\"colorscale\":[[0.0,\"#0d0887\"],[0.1111111111111111,\"#46039f\"],[0.2222222222222222,\"#7201a8\"],[0.3333333333333333,\"#9c179e\"],[0.4444444444444444,\"#bd3786\"],[0.5555555555555556,\"#d8576b\"],[0.6666666666666666,\"#ed7953\"],[0.7777777777777778,\"#fb9f3a\"],[0.8888888888888888,\"#fdca26\"],[1.0,\"#f0f921\"]]}],\"mesh3d\":[{\"type\":\"mesh3d\",\"colorbar\":{\"outlinewidth\":0,\"ticks\":\"\"}}],\"scatter\":[{\"fillpattern\":{\"fillmode\":\"overlay\",\"size\":10,\"solidity\":0.2},\"type\":\"scatter\"}],\"parcoords\":[{\"type\":\"parcoords\",\"line\":{\"colorbar\":{\"outlinewidth\":0,\"ticks\":\"\"}}}],\"scatterpolargl\":[{\"type\":\"scatterpolargl\",\"marker\":{\"colorbar\":{\"outlinewidth\":0,\"ticks\":\"\"}}}],\"bar\":[{\"error_x\":{\"color\":\"#2a3f5f\"},\"error_y\":{\"color\":\"#2a3f5f\"},\"marker\":{\"line\":{\"color\":\"#E5ECF6\",\"width\":0.5},\"pattern\":{\"fillmode\":\"overlay\",\"size\":10,\"solidity\":0.2}},\"type\":\"bar\"}],\"scattergeo\":[{\"type\":\"scattergeo\",\"marker\":{\"colorbar\":{\"outlinewidth\":0,\"ticks\":\"\"}}}],\"scatterpolar\":[{\"type\":\"scatterpolar\",\"marker\":{\"colorbar\":{\"outlinewidth\":0,\"ticks\":\"\"}}}],\"histogram\":[{\"marker\":{\"pattern\":{\"fillmode\":\"overlay\",\"size\":10,\"solidity\":0.2}},\"type\":\"histogram\"}],\"scattergl\":[{\"type\":\"scattergl\",\"marker\":{\"colorbar\":{\"outlinewidth\":0,\"ticks\":\"\"}}}],\"scatter3d\":[{\"type\":\"scatter3d\",\"line\":{\"colorbar\":{\"outlinewidth\":0,\"ticks\":\"\"}},\"marker\":{\"colorbar\":{\"outlinewidth\":0,\"ticks\":\"\"}}}],\"scattermapbox\":[{\"type\":\"scattermapbox\",\"marker\":{\"colorbar\":{\"outlinewidth\":0,\"ticks\":\"\"}}}],\"scatterternary\":[{\"type\":\"scatterternary\",\"marker\":{\"colorbar\":{\"outlinewidth\":0,\"ticks\":\"\"}}}],\"scattercarpet\":[{\"type\":\"scattercarpet\",\"marker\":{\"colorbar\":{\"outlinewidth\":0,\"ticks\":\"\"}}}],\"carpet\":[{\"aaxis\":{\"endlinecolor\":\"#2a3f5f\",\"gridcolor\":\"white\",\"linecolor\":\"white\",\"minorgridcolor\":\"white\",\"startlinecolor\":\"#2a3f5f\"},\"baxis\":{\"endlinecolor\":\"#2a3f5f\",\"gridcolor\":\"white\",\"linecolor\":\"white\",\"minorgridcolor\":\"white\",\"startlinecolor\":\"#2a3f5f\"},\"type\":\"carpet\"}],\"table\":[{\"cells\":{\"fill\":{\"color\":\"#EBF0F8\"},\"line\":{\"color\":\"white\"}},\"header\":{\"fill\":{\"color\":\"#C8D4E3\"},\"line\":{\"color\":\"white\"}},\"type\":\"table\"}],\"barpolar\":[{\"marker\":{\"line\":{\"color\":\"#E5ECF6\",\"width\":0.5},\"pattern\":{\"fillmode\":\"overlay\",\"size\":10,\"solidity\":0.2}},\"type\":\"barpolar\"}],\"pie\":[{\"automargin\":true,\"type\":\"pie\"}]},\"layout\":{\"autotypenumbers\":\"strict\",\"colorway\":[\"#636efa\",\"#EF553B\",\"#00cc96\",\"#ab63fa\",\"#FFA15A\",\"#19d3f3\",\"#FF6692\",\"#B6E880\",\"#FF97FF\",\"#FECB52\"],\"font\":{\"color\":\"#2a3f5f\"},\"hovermode\":\"closest\",\"hoverlabel\":{\"align\":\"left\"},\"paper_bgcolor\":\"white\",\"plot_bgcolor\":\"#E5ECF6\",\"polar\":{\"bgcolor\":\"#E5ECF6\",\"angularaxis\":{\"gridcolor\":\"white\",\"linecolor\":\"white\",\"ticks\":\"\"},\"radialaxis\":{\"gridcolor\":\"white\",\"linecolor\":\"white\",\"ticks\":\"\"}},\"ternary\":{\"bgcolor\":\"#E5ECF6\",\"aaxis\":{\"gridcolor\":\"white\",\"linecolor\":\"white\",\"ticks\":\"\"},\"baxis\":{\"gridcolor\":\"white\",\"linecolor\":\"white\",\"ticks\":\"\"},\"caxis\":{\"gridcolor\":\"white\",\"linecolor\":\"white\",\"ticks\":\"\"}},\"coloraxis\":{\"colorbar\":{\"outlinewidth\":0,\"ticks\":\"\"}},\"colorscale\":{\"sequential\":[[0.0,\"#0d0887\"],[0.1111111111111111,\"#46039f\"],[0.2222222222222222,\"#7201a8\"],[0.3333333333333333,\"#9c179e\"],[0.4444444444444444,\"#bd3786\"],[0.5555555555555556,\"#d8576b\"],[0.6666666666666666,\"#ed7953\"],[0.7777777777777778,\"#fb9f3a\"],[0.8888888888888888,\"#fdca26\"],[1.0,\"#f0f921\"]],\"sequentialminus\":[[0.0,\"#0d0887\"],[0.1111111111111111,\"#46039f\"],[0.2222222222222222,\"#7201a8\"],[0.3333333333333333,\"#9c179e\"],[0.4444444444444444,\"#bd3786\"],[0.5555555555555556,\"#d8576b\"],[0.6666666666666666,\"#ed7953\"],[0.7777777777777778,\"#fb9f3a\"],[0.8888888888888888,\"#fdca26\"],[1.0,\"#f0f921\"]],\"diverging\":[[0,\"#8e0152\"],[0.1,\"#c51b7d\"],[0.2,\"#de77ae\"],[0.3,\"#f1b6da\"],[0.4,\"#fde0ef\"],[0.5,\"#f7f7f7\"],[0.6,\"#e6f5d0\"],[0.7,\"#b8e186\"],[0.8,\"#7fbc41\"],[0.9,\"#4d9221\"],[1,\"#276419\"]]},\"xaxis\":{\"gridcolor\":\"white\",\"linecolor\":\"white\",\"ticks\":\"\",\"title\":{\"standoff\":15},\"zerolinecolor\":\"white\",\"automargin\":true,\"zerolinewidth\":2},\"yaxis\":{\"gridcolor\":\"white\",\"linecolor\":\"white\",\"ticks\":\"\",\"title\":{\"standoff\":15},\"zerolinecolor\":\"white\",\"automargin\":true,\"zerolinewidth\":2},\"scene\":{\"xaxis\":{\"backgroundcolor\":\"#E5ECF6\",\"gridcolor\":\"white\",\"linecolor\":\"white\",\"showbackground\":true,\"ticks\":\"\",\"zerolinecolor\":\"white\",\"gridwidth\":2},\"yaxis\":{\"backgroundcolor\":\"#E5ECF6\",\"gridcolor\":\"white\",\"linecolor\":\"white\",\"showbackground\":true,\"ticks\":\"\",\"zerolinecolor\":\"white\",\"gridwidth\":2},\"zaxis\":{\"backgroundcolor\":\"#E5ECF6\",\"gridcolor\":\"white\",\"linecolor\":\"white\",\"showbackground\":true,\"ticks\":\"\",\"zerolinecolor\":\"white\",\"gridwidth\":2}},\"shapedefaults\":{\"line\":{\"color\":\"#2a3f5f\"}},\"annotationdefaults\":{\"arrowcolor\":\"#2a3f5f\",\"arrowhead\":0,\"arrowwidth\":1},\"geo\":{\"bgcolor\":\"white\",\"landcolor\":\"#E5ECF6\",\"subunitcolor\":\"white\",\"showland\":true,\"showlakes\":true,\"lakecolor\":\"white\"},\"title\":{\"x\":0.05},\"mapbox\":{\"style\":\"light\"}}},\"barmode\":\"group\",\"width\":1000,\"height\":600},                        {\"responsive\": true}                    ).then(function(){\n",
              "                            \n",
              "var gd = document.getElementById('0c3008dd-7388-415b-8abd-9bfbbac5b8e9');\n",
              "var x = new MutationObserver(function (mutations, observer) {{\n",
              "        var display = window.getComputedStyle(gd).display;\n",
              "        if (!display || display === 'none') {{\n",
              "            console.log([gd, 'removed!']);\n",
              "            Plotly.purge(gd);\n",
              "            observer.disconnect();\n",
              "        }}\n",
              "}});\n",
              "\n",
              "// Listen for the removal of the full notebook cells\n",
              "var notebookContainer = gd.closest('#notebook-container');\n",
              "if (notebookContainer) {{\n",
              "    x.observe(notebookContainer, {childList: true});\n",
              "}}\n",
              "\n",
              "// Listen for the clearing of the current output cell\n",
              "var outputEl = gd.closest('.output');\n",
              "if (outputEl) {{\n",
              "    x.observe(outputEl, {childList: true});\n",
              "}}\n",
              "\n",
              "                        })                };                            </script>        </div>\n",
              "</body>\n",
              "</html>"
            ]
          },
          "metadata": {}
        }
      ]
    },
    {
      "cell_type": "code",
      "source": [
        "!pip install -U kaleido"
      ],
      "metadata": {
        "colab": {
          "base_uri": "https://localhost:8080/"
        },
        "id": "nWqcQdtDGzm_",
        "outputId": "30a9cda7-5a97-40cc-fc74-018b31b2b102"
      },
      "execution_count": null,
      "outputs": [
        {
          "output_type": "stream",
          "name": "stdout",
          "text": [
            "Collecting kaleido\n",
            "  Downloading kaleido-0.2.1-py2.py3-none-manylinux1_x86_64.whl (79.9 MB)\n",
            "\u001b[2K     \u001b[90m━━━━━━━━━━━━━━━━━━━━━━━━━━━━━━━━━━━━━━━━\u001b[0m \u001b[32m79.9/79.9 MB\u001b[0m \u001b[31m7.9 MB/s\u001b[0m eta \u001b[36m0:00:00\u001b[0m\n",
            "\u001b[?25hInstalling collected packages: kaleido\n",
            "Successfully installed kaleido-0.2.1\n"
          ]
        }
      ]
    },
    {
      "cell_type": "markdown",
      "metadata": {
        "id": "u7UZQJhCGJVk"
      },
      "source": [
        "# **Community Detection**\n",
        "source :\n",
        "1. https://networkx.org/documentation/stable/reference/algorithms/community.html\n",
        "2. https://pypi.org/project/infomap/"
      ]
    },
    {
      "cell_type": "markdown",
      "metadata": {
        "id": "4H-LJJg-Uy9I"
      },
      "source": [
        "## Louvain\n",
        "Metode Louvain menggunakan pendekatan **modularity** untuk mendeteksi komunitas dalam jaringan. Modularity yang tinggi memiliki *edge* yang padat di dalam komunitas dan memiliki lebih sedikit *edge* yang menghubungkan komunitas-komunitas tersebut."
      ]
    },
    {
      "cell_type": "code",
      "execution_count": null,
      "metadata": {
        "id": "mB_H8hXAjwGT",
        "colab": {
          "base_uri": "https://localhost:8080/",
          "height": 87
        },
        "outputId": "5b43ca45-291f-449e-83ee-26fcc703f67b"
      },
      "outputs": [
        {
          "output_type": "execute_result",
          "data": {
            "text/plain": [
              "'\\n# community detection using the louvain method\\ndef louvain_communities(graph):\\n  communities = nx.community.louvain_communities(graph, weight=\\'None\\', seed=42)\\n  df_louvain = pd.DataFrame({\\'Id\\': [i+1 for i, _ in enumerate(communities)], \\'Anggota\\': communities})\\n  df_louvain[\\'Jumlah\\'] = df_louvain[\\'Anggota\\'].apply(len)\\n  df_louvain = df_louvain.sort_values(by=\\'Jumlah\\', ascending=False)\\n  return df_louvain\\n\\n# apply louvain method to all graph data based on year\\nfor year, graph in zip(all_year, graph_list):\\n  communities = louvain_communities(graph)\\n  globals()[f\"louvain_{year}\"] = communities\\n\\n# show community detection results for each year\\nfor year in all_year:\\n  var_name = f\\'louvain_{year}\\'\\n  total_louvain = globals()[var_name]\\n  print(f\\'jumlah komunitas pada tahun {year}: {total_louvain.shape[0]}\\')\\n'"
            ],
            "application/vnd.google.colaboratory.intrinsic+json": {
              "type": "string"
            }
          },
          "metadata": {},
          "execution_count": 25
        }
      ],
      "source": [
        "'''\n",
        "# community detection using the louvain method\n",
        "def louvain_communities(graph):\n",
        "  communities = nx.community.louvain_communities(graph, weight='None', seed=42)\n",
        "  df_louvain = pd.DataFrame({'Id': [i+1 for i, _ in enumerate(communities)], 'Anggota': communities})\n",
        "  df_louvain['Jumlah'] = df_louvain['Anggota'].apply(len)\n",
        "  df_louvain = df_louvain.sort_values(by='Jumlah', ascending=False)\n",
        "  return df_louvain\n",
        "\n",
        "# apply louvain method to all graph data based on year\n",
        "for year, graph in zip(all_year, graph_list):\n",
        "  communities = louvain_communities(graph)\n",
        "  globals()[f\"louvain_{year}\"] = communities\n",
        "\n",
        "# show community detection results for each year\n",
        "for year in all_year:\n",
        "  var_name = f'louvain_{year}'\n",
        "  total_louvain = globals()[var_name]\n",
        "  print(f'jumlah komunitas pada tahun {year}: {total_louvain.shape[0]}')\n",
        "'''"
      ]
    },
    {
      "cell_type": "code",
      "source": [
        "# modularity method from gephi\n",
        "lv_2009 = pd.read_csv('lou_2009.csv', delimiter=';')\n",
        "lv_2010 = pd.read_csv('lou_2010.csv', delimiter=';')\n",
        "lv_2011 = pd.read_csv('lou_2011.csv', delimiter=';')\n",
        "lv_2012 = pd.read_csv('lou_2012.csv', delimiter=';')\n",
        "lv_2013 = pd.read_csv('lou_2013.csv', delimiter=';')\n",
        "lv_2014 = pd.read_csv('lou_2014.csv', delimiter=';')\n",
        "lv_2015 = pd.read_csv('lou_2015.csv', delimiter=';')\n",
        "lv_2016 = pd.read_csv('lou_2016.csv', delimiter=';')\n",
        "lv_2017 = pd.read_csv('lou_2017.csv', delimiter=';')\n",
        "lv_2018 = pd.read_csv('lou_2018 (no YouTube).csv', delimiter=';')\n",
        "lv_2019 = pd.read_csv('lou_2019.csv', delimiter=';')"
      ],
      "metadata": {
        "id": "02L_HBimVFj9",
        "colab": {
          "base_uri": "https://localhost:8080/",
          "height": 356
        },
        "outputId": "a8a4e852-0d2e-4a11-95f1-c418641d8c6c"
      },
      "execution_count": null,
      "outputs": [
        {
          "output_type": "error",
          "ename": "FileNotFoundError",
          "evalue": "[Errno 2] No such file or directory: 'lou_2009.csv'",
          "traceback": [
            "\u001b[0;31m---------------------------------------------------------------------------\u001b[0m",
            "\u001b[0;31mFileNotFoundError\u001b[0m                         Traceback (most recent call last)",
            "\u001b[0;32m<ipython-input-26-8d28033190bb>\u001b[0m in \u001b[0;36m<cell line: 2>\u001b[0;34m()\u001b[0m\n\u001b[1;32m      1\u001b[0m \u001b[0;31m# modularity method from gephi\u001b[0m\u001b[0;34m\u001b[0m\u001b[0;34m\u001b[0m\u001b[0m\n\u001b[0;32m----> 2\u001b[0;31m \u001b[0mlv_2009\u001b[0m \u001b[0;34m=\u001b[0m \u001b[0mpd\u001b[0m\u001b[0;34m.\u001b[0m\u001b[0mread_csv\u001b[0m\u001b[0;34m(\u001b[0m\u001b[0;34m'lou_2009.csv'\u001b[0m\u001b[0;34m,\u001b[0m \u001b[0mdelimiter\u001b[0m\u001b[0;34m=\u001b[0m\u001b[0;34m';'\u001b[0m\u001b[0;34m)\u001b[0m\u001b[0;34m\u001b[0m\u001b[0;34m\u001b[0m\u001b[0m\n\u001b[0m\u001b[1;32m      3\u001b[0m \u001b[0mlv_2010\u001b[0m \u001b[0;34m=\u001b[0m \u001b[0mpd\u001b[0m\u001b[0;34m.\u001b[0m\u001b[0mread_csv\u001b[0m\u001b[0;34m(\u001b[0m\u001b[0;34m'lou_2010.csv'\u001b[0m\u001b[0;34m,\u001b[0m \u001b[0mdelimiter\u001b[0m\u001b[0;34m=\u001b[0m\u001b[0;34m';'\u001b[0m\u001b[0;34m)\u001b[0m\u001b[0;34m\u001b[0m\u001b[0;34m\u001b[0m\u001b[0m\n\u001b[1;32m      4\u001b[0m \u001b[0mlv_2011\u001b[0m \u001b[0;34m=\u001b[0m \u001b[0mpd\u001b[0m\u001b[0;34m.\u001b[0m\u001b[0mread_csv\u001b[0m\u001b[0;34m(\u001b[0m\u001b[0;34m'lou_2011.csv'\u001b[0m\u001b[0;34m,\u001b[0m \u001b[0mdelimiter\u001b[0m\u001b[0;34m=\u001b[0m\u001b[0;34m';'\u001b[0m\u001b[0;34m)\u001b[0m\u001b[0;34m\u001b[0m\u001b[0;34m\u001b[0m\u001b[0m\n\u001b[1;32m      5\u001b[0m \u001b[0mlv_2012\u001b[0m \u001b[0;34m=\u001b[0m \u001b[0mpd\u001b[0m\u001b[0;34m.\u001b[0m\u001b[0mread_csv\u001b[0m\u001b[0;34m(\u001b[0m\u001b[0;34m'lou_2012.csv'\u001b[0m\u001b[0;34m,\u001b[0m \u001b[0mdelimiter\u001b[0m\u001b[0;34m=\u001b[0m\u001b[0;34m';'\u001b[0m\u001b[0;34m)\u001b[0m\u001b[0;34m\u001b[0m\u001b[0;34m\u001b[0m\u001b[0m\n",
            "\u001b[0;32m/usr/local/lib/python3.10/dist-packages/pandas/io/parsers/readers.py\u001b[0m in \u001b[0;36mread_csv\u001b[0;34m(filepath_or_buffer, sep, delimiter, header, names, index_col, usecols, dtype, engine, converters, true_values, false_values, skipinitialspace, skiprows, skipfooter, nrows, na_values, keep_default_na, na_filter, verbose, skip_blank_lines, parse_dates, infer_datetime_format, keep_date_col, date_parser, date_format, dayfirst, cache_dates, iterator, chunksize, compression, thousands, decimal, lineterminator, quotechar, quoting, doublequote, escapechar, comment, encoding, encoding_errors, dialect, on_bad_lines, delim_whitespace, low_memory, memory_map, float_precision, storage_options, dtype_backend)\u001b[0m\n\u001b[1;32m    910\u001b[0m     \u001b[0mkwds\u001b[0m\u001b[0;34m.\u001b[0m\u001b[0mupdate\u001b[0m\u001b[0;34m(\u001b[0m\u001b[0mkwds_defaults\u001b[0m\u001b[0;34m)\u001b[0m\u001b[0;34m\u001b[0m\u001b[0;34m\u001b[0m\u001b[0m\n\u001b[1;32m    911\u001b[0m \u001b[0;34m\u001b[0m\u001b[0m\n\u001b[0;32m--> 912\u001b[0;31m     \u001b[0;32mreturn\u001b[0m \u001b[0m_read\u001b[0m\u001b[0;34m(\u001b[0m\u001b[0mfilepath_or_buffer\u001b[0m\u001b[0;34m,\u001b[0m \u001b[0mkwds\u001b[0m\u001b[0;34m)\u001b[0m\u001b[0;34m\u001b[0m\u001b[0;34m\u001b[0m\u001b[0m\n\u001b[0m\u001b[1;32m    913\u001b[0m \u001b[0;34m\u001b[0m\u001b[0m\n\u001b[1;32m    914\u001b[0m \u001b[0;34m\u001b[0m\u001b[0m\n",
            "\u001b[0;32m/usr/local/lib/python3.10/dist-packages/pandas/io/parsers/readers.py\u001b[0m in \u001b[0;36m_read\u001b[0;34m(filepath_or_buffer, kwds)\u001b[0m\n\u001b[1;32m    575\u001b[0m \u001b[0;34m\u001b[0m\u001b[0m\n\u001b[1;32m    576\u001b[0m     \u001b[0;31m# Create the parser.\u001b[0m\u001b[0;34m\u001b[0m\u001b[0;34m\u001b[0m\u001b[0m\n\u001b[0;32m--> 577\u001b[0;31m     \u001b[0mparser\u001b[0m \u001b[0;34m=\u001b[0m \u001b[0mTextFileReader\u001b[0m\u001b[0;34m(\u001b[0m\u001b[0mfilepath_or_buffer\u001b[0m\u001b[0;34m,\u001b[0m \u001b[0;34m**\u001b[0m\u001b[0mkwds\u001b[0m\u001b[0;34m)\u001b[0m\u001b[0;34m\u001b[0m\u001b[0;34m\u001b[0m\u001b[0m\n\u001b[0m\u001b[1;32m    578\u001b[0m \u001b[0;34m\u001b[0m\u001b[0m\n\u001b[1;32m    579\u001b[0m     \u001b[0;32mif\u001b[0m \u001b[0mchunksize\u001b[0m \u001b[0;32mor\u001b[0m \u001b[0miterator\u001b[0m\u001b[0;34m:\u001b[0m\u001b[0;34m\u001b[0m\u001b[0;34m\u001b[0m\u001b[0m\n",
            "\u001b[0;32m/usr/local/lib/python3.10/dist-packages/pandas/io/parsers/readers.py\u001b[0m in \u001b[0;36m__init__\u001b[0;34m(self, f, engine, **kwds)\u001b[0m\n\u001b[1;32m   1405\u001b[0m \u001b[0;34m\u001b[0m\u001b[0m\n\u001b[1;32m   1406\u001b[0m         \u001b[0mself\u001b[0m\u001b[0;34m.\u001b[0m\u001b[0mhandles\u001b[0m\u001b[0;34m:\u001b[0m \u001b[0mIOHandles\u001b[0m \u001b[0;34m|\u001b[0m \u001b[0;32mNone\u001b[0m \u001b[0;34m=\u001b[0m \u001b[0;32mNone\u001b[0m\u001b[0;34m\u001b[0m\u001b[0;34m\u001b[0m\u001b[0m\n\u001b[0;32m-> 1407\u001b[0;31m         \u001b[0mself\u001b[0m\u001b[0;34m.\u001b[0m\u001b[0m_engine\u001b[0m \u001b[0;34m=\u001b[0m \u001b[0mself\u001b[0m\u001b[0;34m.\u001b[0m\u001b[0m_make_engine\u001b[0m\u001b[0;34m(\u001b[0m\u001b[0mf\u001b[0m\u001b[0;34m,\u001b[0m \u001b[0mself\u001b[0m\u001b[0;34m.\u001b[0m\u001b[0mengine\u001b[0m\u001b[0;34m)\u001b[0m\u001b[0;34m\u001b[0m\u001b[0;34m\u001b[0m\u001b[0m\n\u001b[0m\u001b[1;32m   1408\u001b[0m \u001b[0;34m\u001b[0m\u001b[0m\n\u001b[1;32m   1409\u001b[0m     \u001b[0;32mdef\u001b[0m \u001b[0mclose\u001b[0m\u001b[0;34m(\u001b[0m\u001b[0mself\u001b[0m\u001b[0;34m)\u001b[0m \u001b[0;34m->\u001b[0m \u001b[0;32mNone\u001b[0m\u001b[0;34m:\u001b[0m\u001b[0;34m\u001b[0m\u001b[0;34m\u001b[0m\u001b[0m\n",
            "\u001b[0;32m/usr/local/lib/python3.10/dist-packages/pandas/io/parsers/readers.py\u001b[0m in \u001b[0;36m_make_engine\u001b[0;34m(self, f, engine)\u001b[0m\n\u001b[1;32m   1659\u001b[0m                 \u001b[0;32mif\u001b[0m \u001b[0;34m\"b\"\u001b[0m \u001b[0;32mnot\u001b[0m \u001b[0;32min\u001b[0m \u001b[0mmode\u001b[0m\u001b[0;34m:\u001b[0m\u001b[0;34m\u001b[0m\u001b[0;34m\u001b[0m\u001b[0m\n\u001b[1;32m   1660\u001b[0m                     \u001b[0mmode\u001b[0m \u001b[0;34m+=\u001b[0m \u001b[0;34m\"b\"\u001b[0m\u001b[0;34m\u001b[0m\u001b[0;34m\u001b[0m\u001b[0m\n\u001b[0;32m-> 1661\u001b[0;31m             self.handles = get_handle(\n\u001b[0m\u001b[1;32m   1662\u001b[0m                 \u001b[0mf\u001b[0m\u001b[0;34m,\u001b[0m\u001b[0;34m\u001b[0m\u001b[0;34m\u001b[0m\u001b[0m\n\u001b[1;32m   1663\u001b[0m                 \u001b[0mmode\u001b[0m\u001b[0;34m,\u001b[0m\u001b[0;34m\u001b[0m\u001b[0;34m\u001b[0m\u001b[0m\n",
            "\u001b[0;32m/usr/local/lib/python3.10/dist-packages/pandas/io/common.py\u001b[0m in \u001b[0;36mget_handle\u001b[0;34m(path_or_buf, mode, encoding, compression, memory_map, is_text, errors, storage_options)\u001b[0m\n\u001b[1;32m    857\u001b[0m         \u001b[0;32mif\u001b[0m \u001b[0mioargs\u001b[0m\u001b[0;34m.\u001b[0m\u001b[0mencoding\u001b[0m \u001b[0;32mand\u001b[0m \u001b[0;34m\"b\"\u001b[0m \u001b[0;32mnot\u001b[0m \u001b[0;32min\u001b[0m \u001b[0mioargs\u001b[0m\u001b[0;34m.\u001b[0m\u001b[0mmode\u001b[0m\u001b[0;34m:\u001b[0m\u001b[0;34m\u001b[0m\u001b[0;34m\u001b[0m\u001b[0m\n\u001b[1;32m    858\u001b[0m             \u001b[0;31m# Encoding\u001b[0m\u001b[0;34m\u001b[0m\u001b[0;34m\u001b[0m\u001b[0m\n\u001b[0;32m--> 859\u001b[0;31m             handle = open(\n\u001b[0m\u001b[1;32m    860\u001b[0m                 \u001b[0mhandle\u001b[0m\u001b[0;34m,\u001b[0m\u001b[0;34m\u001b[0m\u001b[0;34m\u001b[0m\u001b[0m\n\u001b[1;32m    861\u001b[0m                 \u001b[0mioargs\u001b[0m\u001b[0;34m.\u001b[0m\u001b[0mmode\u001b[0m\u001b[0;34m,\u001b[0m\u001b[0;34m\u001b[0m\u001b[0;34m\u001b[0m\u001b[0m\n",
            "\u001b[0;31mFileNotFoundError\u001b[0m: [Errno 2] No such file or directory: 'lou_2009.csv'"
          ]
        }
      ]
    },
    {
      "cell_type": "code",
      "source": [
        "lv_list = [globals()[var] for var in globals() if var.startswith('lv_20')]\n",
        "\n",
        "def gephi_louvain(table):\n",
        "  data = table.groupby('Class')['Id'].apply(set).reset_index()\n",
        "  data.columns = ['Id', 'Anggota']\n",
        "  data['Jumlah'] = data['Anggota'].apply(len)\n",
        "  data = data.sort_values(by='Jumlah', ascending=False)\n",
        "  return data\n",
        "\n",
        "for year, lv in zip(all_year, lv_list):\n",
        "  communities = gephi_louvain(lv)\n",
        "  globals()[f\"louvain_{year}\"] = communities"
      ],
      "metadata": {
        "id": "sm2BDeL9NAv8"
      },
      "execution_count": null,
      "outputs": []
    },
    {
      "cell_type": "code",
      "execution_count": null,
      "metadata": {
        "id": "2nxQVi8RcZSQ"
      },
      "outputs": [],
      "source": [
        "louvain_list = [globals()[var] for var in globals() if var.startswith('louvain_20')]"
      ]
    },
    {
      "cell_type": "code",
      "execution_count": null,
      "metadata": {
        "id": "iM-97QM92Frq"
      },
      "outputs": [],
      "source": [
        "def top3_communities(data):\n",
        "    louvain_com1 = generate_louvain_com(data, 1, year)\n",
        "    louvain_com2 = generate_louvain_com(data, 2, year)\n",
        "    louvain_com3 = generate_louvain_com(data, 3, year)\n",
        "\n",
        "    return louvain_com1, louvain_com2, louvain_com3\n",
        "\n",
        "def generate_louvain_com(data, i, year):\n",
        "    louvain_topic = data[:3].reset_index(drop=True)\n",
        "    community_keywords = {}\n",
        "    for idx, row in louvain_topic.iterrows():\n",
        "      community = row['Anggota']\n",
        "      keywords = '|'.join(community)\n",
        "      community_keywords[idx] = keywords\n",
        "\n",
        "    # adjust the year\n",
        "    df_new = df_year[df_year['year']== year]\n",
        "    # community keyword search in \"screen_name\" column\n",
        "    filter_screen = df_new[df_new['screen_name'].str.contains(community_keywords[i-1])]\n",
        "    # community keyword search in \"tweet\" column\n",
        "    filter_tweet = df_new[df_new['tweet'].str.contains(community_keywords[i-1])]\n",
        "    louvain_com = pd.concat([filter_screen, filter_tweet], ignore_index=True)\n",
        "    louvain_com['year'] = year\n",
        "    louvain_com['id'] = i\n",
        "\n",
        "    return louvain_com\n",
        "\n",
        "for year, com in zip(all_year, louvain_list):\n",
        "  communities = top3_communities(com)\n",
        "\n",
        "  globals()[f\"louvain_{year}_com1\"] = communities[0]\n",
        "  globals()[f\"louvain_{year}_com2\"] = communities[1]\n",
        "  globals()[f\"louvain_{year}_com3\"] = communities[2]"
      ]
    },
    {
      "cell_type": "markdown",
      "source": [
        "## Leiden"
      ],
      "metadata": {
        "id": "hBNfo1eVFV0-"
      }
    },
    {
      "cell_type": "code",
      "source": [
        "'''\n",
        "data_ig = df_mentioned[df_mentioned['year']==2009]\n",
        "\n",
        "edges = list(zip(data_ig['username'], data_ig['mentioned']))\n",
        "g_09 = ig.Graph.TupleList(edges, directed=False)\n",
        "\n",
        "ldc = la.find_partition(g_09, la.ModularityVertexPartition, seed=)\n",
        "\n",
        "for i, community in enumerate(ldc):\n",
        "  print(f\"Komunitas {i + 1}: {', '.join(g_09.vs[community]['name'])}\")"
      ],
      "metadata": {
        "id": "tR45i93VLlZ1"
      },
      "execution_count": null,
      "outputs": []
    },
    {
      "cell_type": "code",
      "source": [
        "# modularity method from gephi\n",
        "ld_2009 = pd.read_csv('lei_2009.csv', delimiter=';')\n",
        "ld_2010 = pd.read_csv('lei_2010.csv', delimiter=';')\n",
        "ld_2011 = pd.read_csv('lei_2011.csv', delimiter=';')\n",
        "ld_2012 = pd.read_csv('lei_2012.csv', delimiter=';')\n",
        "ld_2013 = pd.read_csv('lei_2013.csv', delimiter=';')\n",
        "ld_2014 = pd.read_csv('lei_2014.csv', delimiter=';')\n",
        "ld_2015 = pd.read_csv('lei_2015.csv', delimiter=';')\n",
        "ld_2016 = pd.read_csv('lei_2016.csv', delimiter=';')\n",
        "ld_2017 = pd.read_csv('lei_2017.csv', delimiter=';')\n",
        "ld_2018 = pd.read_csv('lei_2018.csv', delimiter=';')\n",
        "ld_2019 = pd.read_csv('lei_2019.csv', delimiter=';')"
      ],
      "metadata": {
        "id": "ckFEVoGjJOUg"
      },
      "execution_count": null,
      "outputs": []
    },
    {
      "cell_type": "code",
      "source": [
        "ld_list = [globals()[var] for var in globals() if var.startswith('ld_20')]\n",
        "\n",
        "def gephi_leiden(table):\n",
        "  data = table.groupby('Cluster')['Id'].apply(set).reset_index()\n",
        "  data.columns = ['Id', 'Anggota']\n",
        "  data['Jumlah'] = data['Anggota'].apply(len)\n",
        "  data = data.sort_values(by='Jumlah', ascending=False)\n",
        "  return data\n",
        "\n",
        "for year, lv in zip(all_year, ld_list):\n",
        "  communities = gephi_leiden(lv)\n",
        "  globals()[f\"leiden_{year}\"] = communities"
      ],
      "metadata": {
        "id": "H0t-AQeNR2oL"
      },
      "execution_count": null,
      "outputs": []
    },
    {
      "cell_type": "code",
      "source": [
        "leiden_list = [globals()[var] for var in globals() if var.startswith('leiden_20')]"
      ],
      "metadata": {
        "id": "AvYEVNJlTGTn"
      },
      "execution_count": null,
      "outputs": []
    },
    {
      "cell_type": "code",
      "source": [
        "def top3_communities(data):\n",
        "    leiden_com1 = generate_leiden_com(data, 1, year)\n",
        "    leiden_com2 = generate_leiden_com(data, 2, year)\n",
        "    leiden_com3 = generate_leiden_com(data, 3, year)\n",
        "\n",
        "    return leiden_com1, leiden_com2, leiden_com3\n",
        "\n",
        "def generate_leiden_com(data, i, year):\n",
        "    leiden_topic = data[:3].reset_index(drop=True)\n",
        "    community_keywords = {}\n",
        "    for idx, row in leiden_topic.iterrows():\n",
        "      community = row['Anggota']\n",
        "      keywords = '|'.join(community)\n",
        "      community_keywords[idx] = keywords\n",
        "\n",
        "    # adjust the year\n",
        "    df_new = df_year[df_year['year']== year]\n",
        "    # community keyword search in \"screen_name\" column\n",
        "    filter_screen = df_new[df_new['screen_name'].str.contains(community_keywords[i-1])]\n",
        "    # community keyword search in \"tweet\" column\n",
        "    filter_tweet = df_new[df_new['tweet'].str.contains(community_keywords[i-1])]\n",
        "    leiden_com = pd.concat([filter_screen, filter_tweet], ignore_index=True)\n",
        "    leiden_com['year'] = year\n",
        "    leiden_com['id'] = i\n",
        "\n",
        "    return leiden_com\n",
        "\n",
        "for year, com in zip(all_year, leiden_list):\n",
        "  communities = top3_communities(com)\n",
        "\n",
        "  globals()[f\"leiden_{year}_com1\"] = communities[0]\n",
        "  globals()[f\"leiden_{year}_com2\"] = communities[1]\n",
        "  globals()[f\"leiden_{year}_com3\"] = communities[2]"
      ],
      "metadata": {
        "id": "ZnWqRwReTOYM"
      },
      "execution_count": null,
      "outputs": []
    },
    {
      "cell_type": "markdown",
      "metadata": {
        "id": "B3xkKE8iGMya"
      },
      "source": [
        "## Label Propagation\n",
        "Metode Label Propagation bekerja dengan cara memperbarui atau mengupdate **label** dari setiap simpul secara iteratif menjadi label yang paling umum di antara tetangganya, dimulai dengan memberikan label unik pada setiap simpul, kemudian mengupdate label-label tersebut secara berulang hingga label-label tersebut konvergen (tidak ada perubahan)."
      ]
    },
    {
      "cell_type": "code",
      "execution_count": null,
      "metadata": {
        "id": "0aI2spm_KGvG"
      },
      "outputs": [],
      "source": [
        "# community detection using the label propagation method\n",
        "def labelpro_communities(graph):\n",
        "  communities = nx.community.label_propagation_communities(graph)\n",
        "  df_labelpro = pd.DataFrame({'Id': [i+1 for i, _ in enumerate(communities)], 'Anggota': communities})\n",
        "  df_labelpro['Jumlah'] = df_labelpro['Anggota'].apply(len)\n",
        "  df_labelpro = df_labelpro.sort_values(by='Jumlah', ascending=False)\n",
        "  return df_labelpro\n",
        "\n",
        "# apply label propagation method to all graph data based on year\n",
        "for year, graph in zip(all_year, graph_list):\n",
        "  communities = labelpro_communities(graph)\n",
        "  globals()[f\"labelpro_{year}\"] = communities\n",
        "\n",
        "# show community detection results for each year\n",
        "for year in all_year:\n",
        "  var_name = f'labelpro_{year}'\n",
        "  total_labelpro = globals()[var_name]\n",
        "  print(f'jumlah komunitas pada tahun {year}: {total_labelpro.shape[0]}')"
      ]
    },
    {
      "cell_type": "code",
      "execution_count": null,
      "metadata": {
        "id": "eqOTZu_qiDdK"
      },
      "outputs": [],
      "source": [
        "labelpro_list = [globals()[var] for var in globals() if var.startswith('labelpro_20')]"
      ]
    },
    {
      "cell_type": "code",
      "execution_count": null,
      "metadata": {
        "id": "B1S5uG0iiKLh"
      },
      "outputs": [],
      "source": [
        "def top3_communities(data):\n",
        "    labelpro_com1 = generate_labelpro_com(data, 1)\n",
        "    labelpro_com2 = generate_labelpro_com(data, 2)\n",
        "    labelpro_com3 = generate_labelpro_com(data, 3)\n",
        "\n",
        "    return labelpro_com1, labelpro_com2, labelpro_com3\n",
        "\n",
        "def generate_labelpro_com(data, i):\n",
        "    labelpro_topic = data[:3].reset_index(drop=True)\n",
        "    community_keywords = {}\n",
        "    for idx, row in labelpro_topic.iterrows():\n",
        "      community = row['Anggota']\n",
        "      keywords = '|'.join(community)\n",
        "      community_keywords[idx] = keywords\n",
        "\n",
        "    # adjust the year\n",
        "    df_new = df_year[df_year['year']== year]\n",
        "    # community keyword search in \"screen_name\" column\n",
        "    filter_screen = df_clean[df_clean['screen_name'].str.contains(community_keywords[i-1])]\n",
        "    # community keyword search in \"tweet\" column\n",
        "    filter_tweet = df_clean[df_clean['tweet'].str.contains(community_keywords[i-1])]\n",
        "    labelpro_com = pd.concat([filter_screen, filter_tweet], ignore_index=True)\n",
        "    labelpro_com['year'] = year\n",
        "    labelpro_com['id'] = i\n",
        "\n",
        "    return labelpro_com\n",
        "\n",
        "for year, com in zip(all_year, labelpro_list):\n",
        "  communities = top3_communities(com)\n",
        "\n",
        "  globals()[f\"labelpro_{year}_com1\"] = communities[0]\n",
        "  globals()[f\"labelpro_{year}_com2\"] = communities[1]\n",
        "  globals()[f\"labelpro_{year}_com3\"] = communities[2]"
      ]
    },
    {
      "cell_type": "markdown",
      "metadata": {
        "id": "dfdufa_GU5ns"
      },
      "source": [
        "## Infomap\n",
        "Metode Infomap adalah metode berbasis **informasi** yang menekankan aliran dalam jaringan. Informasi yang dimaksud dapat mengacu pada bagaimana elemen-elemen dalam jaringan berinteraksi atau berhubungan satu sama lain."
      ]
    },
    {
      "cell_type": "code",
      "execution_count": null,
      "metadata": {
        "id": "aCPKjnd-stYk"
      },
      "outputs": [],
      "source": [
        "# community detection using the infomap method\n",
        "def im_communities(graph):\n",
        "  mapping = im.add_networkx_graph(graph)\n",
        "  im.run()\n",
        "  # create user id data\n",
        "  user = dict(mapping)\n",
        "  df_user = pd.DataFrame(list(user.items()), columns=['Id', 'Username'])\n",
        "  # create community id data\n",
        "  communities = []\n",
        "  for node in im.nodes:\n",
        "    communities.append((node.node_id, node.module_id))\n",
        "  df_communities = pd.DataFrame(communities, columns=['node_id', 'module_id'])\n",
        "  # create community data and users in it according to their own id\n",
        "  df_merge = df_communities.merge(df_user, left_on='node_id', right_on='Id')\n",
        "  df_grouped = df_merge.groupby('module_id')['Username'].apply(set).reset_index()\n",
        "  df_grouped = df_grouped.rename(columns={'module_id': 'Id', 'Username': 'Anggota'})\n",
        "  df_grouped['Jumlah'] = df_grouped['Anggota'].apply(len)\n",
        "  df_grouped = df_grouped.sort_values(by='Jumlah', ascending=False)\n",
        "\n",
        "  return df_grouped, im\n",
        "\n",
        "# apply infomap method to all graph data based on year\n",
        "for year, graph in zip(all_year, graph_list):\n",
        "  # create an Infomap class object to jump into community detection\n",
        "  im = Infomap(silent=True)\n",
        "  communities, im = im_communities(graph)\n",
        "  globals()[f\"infomap_{year}\"] = communities\n",
        "\n",
        "# show community detection results for each year\n",
        "for year in all_year:\n",
        "  var_name = f'infomap_{year}'\n",
        "  total_infomap = globals()[var_name]\n",
        "  print(f'jumlah komunitas pada tahun {year}: {total_infomap.shape[0]}')"
      ]
    },
    {
      "cell_type": "code",
      "execution_count": null,
      "metadata": {
        "id": "4evmnmThj5qN"
      },
      "outputs": [],
      "source": [
        "infomap_list = [globals()[var] for var in globals() if var.startswith('infomap_20')]"
      ]
    },
    {
      "cell_type": "code",
      "execution_count": null,
      "metadata": {
        "id": "DYVbWzG8j9a_"
      },
      "outputs": [],
      "source": [
        "def top3_communities(data):\n",
        "    infomap_com1 = generate_infomap_com(data, 1)\n",
        "    infomap_com2 = generate_infomap_com(data, 2)\n",
        "    infomap_com3 = generate_infomap_com(data, 3)\n",
        "\n",
        "    return infomap_com1, infomap_com2, infomap_com3\n",
        "\n",
        "def generate_infomap_com(data, i):\n",
        "    infomap_topic = data[:3].reset_index(drop=True)\n",
        "    community_keywords = {}\n",
        "    for idx, row in infomap_topic.iterrows():\n",
        "        community = row['Anggota']\n",
        "        keywords = '|'.join(community)\n",
        "        community_keywords[idx] = keywords\n",
        "\n",
        "    # adjust the year\n",
        "    df_new = df_year[df_year['year']== year]\n",
        "    # community keyword search in \"screen_name\" column\n",
        "    filter_screen = df_clean[df_clean['screen_name'].str.contains(community_keywords[i-1])]\n",
        "    # community keyword search in \"tweet\" column\n",
        "    filter_tweet = df_clean[df_clean['tweet'].str.contains(community_keywords[i-1])]\n",
        "    infomap_com = pd.concat([filter_screen, filter_tweet], ignore_index=True)\n",
        "    infomap_com['year'] = year\n",
        "    infomap_com['id'] = i\n",
        "\n",
        "    return infomap_com\n",
        "\n",
        "for year, com in zip(all_year, infomap_list):\n",
        "  communities = top3_communities(com)\n",
        "\n",
        "  globals()[f\"infomap_{year}_com1\"] = communities[0]\n",
        "  globals()[f\"infomap_{year}_com2\"] = communities[1]\n",
        "  globals()[f\"infomap_{year}_com3\"] = communities[2]"
      ]
    },
    {
      "cell_type": "markdown",
      "metadata": {
        "id": "o1WlWtFyVXWQ"
      },
      "source": [
        "# **Content Analysis**"
      ]
    },
    {
      "cell_type": "markdown",
      "metadata": {
        "id": "kDWOj0X-sHd7"
      },
      "source": [
        "## Cleansing Tweet\n",
        "membersihkan data teks awal untuk mempermudah penentuan topik yang dibahas pada seluruh komunitas yang ada.\n",
        "- Menyingkirkan simbol-simbol dan karakter\n",
        "- Menyingkirkan *slang* atau singkatan\n",
        "- Menyingkirkan *stopword*\n",
        "- *Stemming* (jika perlu)\n",
        "\n",
        "source : https://github.com/taudataid/eLearning/tree/master/data"
      ]
    },
    {
      "cell_type": "code",
      "execution_count": null,
      "metadata": {
        "colab": {
          "base_uri": "https://localhost:8080/"
        },
        "id": "UrflnGXtVbUU",
        "outputId": "73c07c81-6b07-4675-d4f4-e16fdc9ff084"
      },
      "outputs": [
        {
          "output_type": "stream",
          "name": "stdout",
          "text": [
            "jumlah slang:  1629\n"
          ]
        }
      ],
      "source": [
        "# load slang\n",
        "url = 'https://raw.githubusercontent.com/taudataanalytics/taudata-Academy/main/data/slang.dic'\n",
        "response = urllib.request.urlopen(url)\n",
        "slang_id = eval(response.read())\n",
        "\n",
        "print(\"jumlah slang: \", len(slang_id))"
      ]
    },
    {
      "cell_type": "code",
      "execution_count": null,
      "metadata": {
        "colab": {
          "base_uri": "https://localhost:8080/"
        },
        "id": "hzynN0hAs_C_",
        "outputId": "2a4f0e6a-bbe8-46a4-da75-a679ef336ab7"
      },
      "outputs": [
        {
          "output_type": "stream",
          "name": "stdout",
          "text": [
            "jumlah slang :  1692\n"
          ]
        }
      ],
      "source": [
        "slang_tambahan = {'kh': 'kah', 'kapir': 'kafir', 'ummat': 'umat', 'alloh': 'allah', 'orangorang': 'orang', 'orang2': 'orang', 'sekuler': 'sekular', 'yaa': 'ya',\n",
        "                  'sirik': 'syirik', 'musrik': 'musyrik', 'prcya': 'percaya', 'percya': 'percaya', 'pcya': 'percaya', 'kmu': 'kamu', 'isteri': 'istri', 'tertawa': 'tawa',\n",
        "                  'menikah': 'nikah', 'perbuatanperbuatan': 'perbuatan', 'aqidah': 'akidah', 'barangsiapa': 'barang siapa', 'sorga': 'surga', 'syurga': 'surga',\n",
        "                  'sama2': 'sama-sama', 'syaitan': 'setan', 'msuk': 'masuk', 'mendegardengar': 'mendengar', 'sebaik2':'sebaik-baik', 'pdmu': 'padamu', 'mrka': 'mereka',\n",
        "                  'nerakasiksa': 'siksa neraka', 'pintu2': 'pintu-pintu', 'ustaz': 'ustadz', 'ustad': 'ustadz', 'brg': 'barang', 'menjwb' : 'menjawab', 'apa2': 'apa-apa',\n",
        "                  'qs': 'quran surat', 'dgn': 'dengan', 'dg': 'dengan', 'praktik': 'praktek', 'shalat': 'sholat', 'solat': 'sholat', 'bapa': 'bapak', 'bsok': 'besok',\n",
        "                  'bagamana': 'bagaimana', 'ahlusunah': 'ahlussunnah', 'ahlus' : 'ahlussunnah', 'ahlul': 'ahlussunnah', 'salehah': 'solehah', 'solihah': 'solehah',\n",
        "                  'salihah': 'solehah', 'hr': 'hadist riwayat', 'redho': 'ridho', 'rido': 'ridho', 'ridha': 'ridho', 'waljamaah': 'wal jamaah', 'uud': 'undang-undang dasar',\n",
        "                  'polri': 'polisi', 'kepolisian': 'polisi', 'silakan': 'silahkan', 'rosul': 'rasul', 'naamaa': 'nama', 'prof': 'professor', 'ri': 'republik indonesia',\n",
        "                  'qur': 'quran', 'ruf': 'maruf', 'brang': 'barang'}\n",
        "slang_id.update(slang_tambahan)\n",
        "\n",
        "print(\"jumlah slang : \", len(slang_id))"
      ]
    },
    {
      "cell_type": "code",
      "execution_count": null,
      "metadata": {
        "colab": {
          "base_uri": "https://localhost:8080/"
        },
        "id": "Bwo_luXqthby",
        "outputId": "ce560e60-d06f-4d55-d93c-5aac12f2ad42"
      },
      "outputs": [
        {
          "output_type": "stream",
          "name": "stdout",
          "text": [
            "jumlah stopword:  758\n"
          ]
        }
      ],
      "source": [
        "# load stopword\n",
        "url = 'https://raw.githubusercontent.com/taudataanalytics/taudata-Academy/main/data/stopwords_id.txt'\n",
        "response = urllib.request.urlopen(url)\n",
        "stopword_id = response.read().decode('utf-8').split('\\n')\n",
        "\n",
        "print(\"jumlah stopword: \", len(stopword_id))"
      ]
    },
    {
      "cell_type": "code",
      "execution_count": null,
      "metadata": {
        "colab": {
          "base_uri": "https://localhost:8080/"
        },
        "id": "yXFexJgMtnHG",
        "outputId": "a0cd8399-40e7-4c28-c95c-2b160ac2b544"
      },
      "outputs": [
        {
          "output_type": "stream",
          "name": "stdout",
          "text": [
            "jumlah stopword:  1073\n"
          ]
        }
      ],
      "source": [
        "stopword_tambahan = set(['a', 'at', 'al', 'ah', 'an', 'aa', 'ala', 'ayo', 'ae', 'atm', 'aje', 'ati', 'and', 'aduh', 'alaihi', 'aamiin', 'anggap', 'apapun', 'added', 'ambil', 'anjing', 'alhamdulillah',\n",
        "                         'b', 'be', 'bi', 'by', 'bu', 'bb', 'bae', 'bin', 'brt', 'bit', 'been', 'bawa', 'banget', 'bikin', 'bareng', 'besok', 'backsound', 'biologi', 'bilang', 'biar', 'bicara', 'busana', 'bukalapak',\n",
        "                         'c', 'cont', 'ci', 'co', 'cc', 'cus', 'com', 'cek', 'cnn', 'caya', 'club', 'care', 'cari', 'carbon', 'copy', 'cium', 'cinematic', 'chirpstorycomli', 'chirpstory', 'chirpified',\n",
        "                         'd', 'depok', 'da', 'do', 'deh', 'dih', 'dar', 'dear', 'dlvr',\n",
        "                         'e', 'eh', 'ente', 'erti', 'enak', 'engkau',\n",
        "                         'f', 'for', 'facebook', 'follow', 'fisika',\n",
        "                         'g', 'ga', 'gs', 'gl', 'go', 'gym', 'gamis', 'gera', 'goo', 'gitu',\n",
        "                         'h', 'hahaha', 'haha', 'ha', 'has', 'hai', 'he', 'hot', 'hell', 'huku', 'hahart', 'harap', 'halobca', 'hadiah',\n",
        "                         'i', 'iya', 'iyaa', 'im', 'ih', 'is', 'iku', 'ipa', 'in', 'id', 'it', 'ing', 'ihiks', 'instagram',\n",
        "                         'j', 'jam',\n",
        "                         'k', 'kah', 'khe', 'ko', 'koe', 'kom', 'kak', 'ki', 'ku', 'kela', 'kayak', 'kasih', 'kecuali', 'kadang', 'kompas', 'kemarin', 'kimia',\n",
        "                         'l', 'li', 'ln', 'ly', 'lil', 'live', 'liked', 'lihat', 'loh', 'lho', 'langsung', 'lupa',\n",
        "                         'm', 'mi', 'min', 'moga', 'mn', 'mah', 'mas', 'mbak', 'my', 'mu', 'muh', 'mh', 'md','mk', 'm17', 'mtw', 'me', 'mari', 'milik', 'melulu', 'maksud', 'metrotvn',\n",
        "                         'n', 'neh', 'nya', 'neng', 'news', 'nnu', 'n1', 'n2', 'n7', 'nn', 'ng', 'now', 'not',\n",
        "                         'o', 'others', 'orang', 'om', 'oh', 'on', 'out', 'of', 'ow', 'or', 'opo', 'okz',\n",
        "                         'p', 'ps', 'pt', 'pic', 'pas', 'play', 'path', 'post', 'pakai', 'proses', 'pulsa', 'playlist',\n",
        "                         'q', 'qs',\n",
        "                         'r', 'rp', 'rt', 'ra', 'ri', 'rs', 'ruf', 'rol', 'read', 'rabb', 'rabbku', 'retweeted', 'rejoice', 'retweet', 'retweets',\n",
        "                         's', 'si', 'so', 'sh', 'st', 'saw', 'sih', 'sok', 'sta', 'stat', 'statu', 'situ', 'syar', 'sesuai', 'syahlaa', 'setyarini', 'seperti', 'sama', 'sing', 'shampoo', 'sungguh', 'semoga', 'silahkan', 'sebentar', 'sesungguhnya', 'shallallahu',\n",
        "                         't', 'ta', 'tmi', 'tik', 'titit', 'to', 'tol', 'teen', 'toll', 'the', 'tuk', 'tah', 'this', 'tega', 'tiada', 'terima', 'terlibat', 'tuju', 'tinyurl', 'tweet', 'twitter', 'terkadang', 'timeline', 'tinggal', 'tribunnews',\n",
        "                         'u', 'uas', 'uts', 'un', 'us', 'udah',\n",
        "                         'v', 'via', 'video', 'vs', 'voucher',\n",
        "                         'w', 'wl', 'ws', 'wae', 'wa', 'wal', 'wib', 'with', 'wkwkwk',\n",
        "                         'x', 'xp',\n",
        "                         'y', 'ya', 'ye', 'yee', 'yah', 'yanti', 'youtu', 'youtube', 'youtube9tkqntw3wla',\n",
        "                         'z',\n",
        "                         '9a', '5a', '8a', '1700an', 'c95cw_ndtfg'])\n",
        "stopword_id = set(stopword_id).union(stopword_tambahan)\n",
        "\n",
        "print(\"jumlah stopword: \", len(stopword_id))"
      ]
    },
    {
      "cell_type": "code",
      "execution_count": null,
      "metadata": {
        "id": "1g2xiGewt3OC"
      },
      "outputs": [],
      "source": [
        "def cleaning_text(text):\n",
        "  # menghapus url\n",
        "  url_pattern = re.compile(r'(\\w+:\\/\\/\\S+)')\n",
        "  text = url_pattern.sub(' ', text)\n",
        "  # menghapus hashtag\n",
        "  hashtag_pattern = re.compile(r'#\\w+\\b')\n",
        "  text = hashtag_pattern.sub(' ', text)\n",
        "  # menghapus nama pengguna twitter (memuat \"@\")\n",
        "  username_pattern = re.compile(r'@\\w+\\b\\s*')\n",
        "  text = username_pattern.sub(' ', text)\n",
        "  # menghapus angka\n",
        "  text = re.sub(r'\\b\\d+\\b|[^\\w\\s]', ' ', text)\n",
        "  # menghapus simbol\n",
        "  symbol_pattern = re.compile(r'[^\\w\\s]+')\n",
        "  text = symbol_pattern.sub(' ', text)\n",
        "  # menghapus karakter yang tidak diperlukan (tergantung media sosial)\n",
        "  text = re.sub(r'\\n', ' ', text)\n",
        "  text = re.sub(r'\\r', ' ', text)\n",
        "  text = re.sub(r'&\\w+', ' ', text)\n",
        "  text = re.sub(r'\\s+', ' ', text).strip()\n",
        "  # menangani huruf kapital dan spasi\n",
        "  text = unidecode(unescape(text.lower()))\n",
        "  return text\n",
        "\n",
        "def remove_stopword(text):\n",
        "  word_tokens = word_tokenize(text)\n",
        "  filtered_sentence = [w for w in word_tokens if not w in stopword_id]\n",
        "  return ' '.join(filtered_sentence)\n",
        "\n",
        "# this process is very time-consuming, so we will skip it\n",
        "def stemming(text):\n",
        "  factory = StemmerFactory()\n",
        "  stemmer = factory.create_stemmer()\n",
        "  return stemmer.stem(text)\n",
        "\n",
        "def remove_slang(text):\n",
        "  text = ''.join(slang_id[p] if p in slang_id else p for p in re.split(r'(\\W+)', text))\n",
        "  return text\n",
        "\n",
        "def preprocess(text):\n",
        "  # cleaning text and lowercase\n",
        "  output = cleaning_text(text)\n",
        "  # remove slang\n",
        "  output = remove_slang(output)\n",
        "  # stemming and lemmatization\n",
        "  #output = stemming(output)\n",
        "  # remove stopwords\n",
        "  output = remove_stopword(output)\n",
        "\n",
        "  return output"
      ]
    },
    {
      "cell_type": "markdown",
      "metadata": {
        "id": "nBQsj58Fvtfz"
      },
      "source": [
        "## N-Gram"
      ]
    },
    {
      "cell_type": "code",
      "execution_count": null,
      "metadata": {
        "id": "Pzs3LVHSMF1w"
      },
      "outputs": [],
      "source": [
        "def tokenization(dataframe):\n",
        "  texts = dataframe['clean_tweet']\n",
        "  tokens = [token for text in texts for token in text.split()]\n",
        "  return tokens"
      ]
    },
    {
      "cell_type": "code",
      "execution_count": null,
      "metadata": {
        "id": "3HL-3e8nufsW"
      },
      "outputs": [],
      "source": [
        "def top3_bigram_communities(dataframe):\n",
        "  louvain_bigram1 = bigram_communities(dataframe, 1, year)\n",
        "  louvain_bigram2 = bigram_communities(dataframe, 2, year)\n",
        "  louvain_bigram3 = bigram_communities(dataframe, 3, year)\n",
        "\n",
        "  return louvain_bigram1, louvain_bigram2, louvain_bigram3\n",
        "\n",
        "def bigram_communities(dataframe, i, year):\n",
        "  data = dataframe[dataframe['id']== i]\n",
        "  data = data[data['year']== year]\n",
        "  ngram = tokenization(data)\n",
        "  bigram = (pd.Series(nltk.ngrams(ngram, 2)).value_counts())[:20]\n",
        "\n",
        "  data_bigram = []\n",
        "\n",
        "  for pair, count in bigram.items():\n",
        "    data_bigram.append({'bigram': pair, 'count': count})\n",
        "\n",
        "  df_bigram = pd.DataFrame(data_bigram)\n",
        "  df_bigram['year'] = year\n",
        "  df_bigram['id'] = i\n",
        "\n",
        "  return df_bigram"
      ]
    },
    {
      "cell_type": "code",
      "execution_count": null,
      "metadata": {
        "id": "lhn3tup-9TJO"
      },
      "outputs": [],
      "source": [
        "def top3_trigram_communities(dataframe):\n",
        "  louvain_trigram1 = trigram_communities(dataframe, 1, year)\n",
        "  louvain_trigram2 = trigram_communities(dataframe, 2, year)\n",
        "  louvain_trigram3 = trigram_communities(dataframe, 3, year)\n",
        "\n",
        "  return louvain_trigram1, louvain_trigram2, louvain_trigram3\n",
        "\n",
        "def trigram_communities(dataframe, i, year):\n",
        "  data = dataframe[dataframe['id']== i]\n",
        "  data = data[data['year']== year]\n",
        "  ngram = tokenization(data)\n",
        "  trigram = (pd.Series(nltk.ngrams(ngram, 3)).value_counts())[:10]\n",
        "\n",
        "  data_trigram = []\n",
        "\n",
        "  for pairs, counts in trigram.items():\n",
        "    data_trigram.append({'trigram': pairs, 'count': counts})\n",
        "\n",
        "  df_trigram = pd.DataFrame(data_trigram)\n",
        "  df_trigram['year'] = year\n",
        "  df_trigram['id'] = i\n",
        "\n",
        "  return df_trigram"
      ]
    },
    {
      "cell_type": "markdown",
      "metadata": {
        "id": "ZpWLYmnwv06g"
      },
      "source": [
        "### Top 3 Communities"
      ]
    },
    {
      "cell_type": "code",
      "execution_count": null,
      "metadata": {
        "id": "Uw_o0oHVuQFD"
      },
      "outputs": [],
      "source": [
        "# merge each of the three community data years into one dataset\n",
        "def combine_communities(com_id):\n",
        "    com_variables = [f\"louvain_{year}_{com_id}\" for year in all_year]\n",
        "    com_dataframes = [globals()[var] for var in com_variables]\n",
        "\n",
        "    # merge all dataframes in the list vertically\n",
        "    louvain_allyear_com = pd.concat(com_dataframes, ignore_index=True)\n",
        "\n",
        "    # cleansing tweet for the specified louvain community\n",
        "    louvain_allyear_com['clean_tweet'] = louvain_allyear_com['tweet'].apply(preprocess)\n",
        "\n",
        "    return louvain_allyear_com\n",
        "\n",
        "def top3_combine_communities(com1, com2, com3):\n",
        "    louvain_combined1 = combine_communities(com1)\n",
        "    louvain_combined2 = combine_communities(com2)\n",
        "    louvain_combined3 = combine_communities(com3)\n",
        "\n",
        "    return louvain_combined1, louvain_combined2, louvain_combined3\n",
        "\n",
        "# call the function\n",
        "louvain_allyear_com1, louvain_allyear_com2, louvain_allyear_com3 = top3_combine_communities('com1', 'com2', 'com3')\n",
        "\n",
        "# concat all years of community data into one dataframe\n",
        "all_louvain = pd.concat([louvain_allyear_com1, louvain_allyear_com2, louvain_allyear_com3], ignore_index=True)"
      ]
    },
    {
      "cell_type": "code",
      "source": [
        "# call the bigram function\n",
        "for year in all_year:\n",
        "  ngrams = top3_bigram_communities(all_louvain)\n",
        "\n",
        "  globals()[f\"louvain1_bigram_{year}\"] = ngrams[0]\n",
        "  globals()[f\"louvain2_bigram_{year}\"] = ngrams[1]\n",
        "  globals()[f\"louvain3_bigram_{year}\"] = ngrams[2]\n",
        "\n",
        "# call the trigram function\n",
        "for year in all_year:\n",
        "  ngrams = top3_trigram_communities(all_louvain)\n",
        "\n",
        "  globals()[f\"louvain1_trigram_{year}\"] = ngrams[0]\n",
        "  globals()[f\"louvain2_trigram_{year}\"] = ngrams[1]\n",
        "  globals()[f\"louvain3_trigram_{year}\"] = ngrams[2]"
      ],
      "metadata": {
        "id": "Av16f92sTe2u"
      },
      "execution_count": null,
      "outputs": []
    },
    {
      "cell_type": "code",
      "execution_count": null,
      "metadata": {
        "id": "gBS5PSDMAVGv",
        "colab": {
          "base_uri": "https://localhost:8080/",
          "height": 72
        },
        "outputId": "f2976480-746f-4e2e-d374-71c88e0d6f25"
      },
      "outputs": [
        {
          "output_type": "execute_result",
          "data": {
            "text/plain": [
              "'\\ndef combine_ngram(n_gram):\\n  data_list = []\\n  for id in range(1, 4):\\n    for year in all_year:\\n      data_variable_name = f\\'louvain{id}_{n_gram}_{year}\\'\\n      data = globals()[data_variable_name]\\n      data_list.append(data)\\n\\n  return pd.concat(data_list, ignore_index=True)\\n\\n# bigram\\nall_louvain_bigram = combine_ngram(\"bigram\")\\n# trigram\\nall_louvain_trigram = combine_ngram(\"trigram\")\\n'"
            ],
            "application/vnd.google.colaboratory.intrinsic+json": {
              "type": "string"
            }
          },
          "metadata": {},
          "execution_count": 46
        }
      ],
      "source": [
        "'''\n",
        "def combine_ngram(n_gram):\n",
        "  data_list = []\n",
        "  for id in range(1, 4):\n",
        "    for year in all_year:\n",
        "      data_variable_name = f'louvain{id}_{n_gram}_{year}'\n",
        "      data = globals()[data_variable_name]\n",
        "      data_list.append(data)\n",
        "\n",
        "  return pd.concat(data_list, ignore_index=True)\n",
        "\n",
        "# bigram\n",
        "all_louvain_bigram = combine_ngram(\"bigram\")\n",
        "# trigram\n",
        "all_louvain_trigram = combine_ngram(\"trigram\")\n",
        "'''"
      ]
    },
    {
      "cell_type": "markdown",
      "metadata": {
        "id": "8ABHnb6CZtaf"
      },
      "source": [
        "### Bigram & Trigram"
      ]
    },
    {
      "cell_type": "code",
      "execution_count": null,
      "metadata": {
        "id": "he8H9AXBTbkp"
      },
      "outputs": [],
      "source": [
        "'''\n",
        "app = Dash(__name__)\n",
        "\n",
        "app.layout = html.Div([\n",
        "    dcc.Dropdown(\n",
        "        id='community-id',\n",
        "        options=[{'label': i, \"value\": i} for i in all_louvain_bigram.id.unique()],\n",
        "        value=all_louvain_bigram.id.unique()[0],\n",
        "        placeholder='Pilih Id Komunitas'\n",
        "    ),\n",
        "    dcc.Dropdown(\n",
        "        id='community-year',\n",
        "        options=[{'label': i, \"value\": i} for i in all_louvain_bigram.year.unique()],\n",
        "        value=all_louvain_bigram.year.unique()[0],\n",
        "        placeholder='Pilih Tahun'\n",
        "    ),\n",
        "    dcc.Graph(id='bigram')\n",
        "])\n",
        "\n",
        "@app.callback(\n",
        "    Output('bigram', 'figure'),\n",
        "    [Input('community-id', 'value'),\n",
        "     Input('community-year', 'value')]\n",
        ")\n",
        "def bigram_output(id, year):\n",
        "    # filter data based on selected id and year\n",
        "    df_bigram = all_louvain_bigram[(all_louvain_bigram['id'] == id) & (all_louvain_bigram['year'] == year)]\n",
        "    df_bigram['bigram'] = df_bigram['bigram'].apply(lambda x: \"('{}', '{}')\".format(x[0], x[1]))\n",
        "\n",
        "    # Horizontal bar plot\n",
        "    fig = px.bar(df_bigram, x='count', y='bigram')\n",
        "\n",
        "    # Figure layout & size\n",
        "    fig.update_layout(\n",
        "        title='20 Frequently Occurring Bigrams',\n",
        "        xaxis_title='Number of Bigram Occurred',\n",
        "        yaxis_title='Bigram',\n",
        "        autosize=False,\n",
        "        width=1400,\n",
        "        height=800,\n",
        "        margin=dict(l=30, r=30, b=50, t=50),\n",
        "        bargap=0.5\n",
        "    )\n",
        "    fig.update_traces(textposition='outside')\n",
        "    return fig\n",
        "\n",
        "if __name__ == '__main__':\n",
        "    app.run_server(debug=True)\n",
        "'''"
      ]
    },
    {
      "cell_type": "code",
      "execution_count": null,
      "metadata": {
        "id": "WZx60IkkUnyD"
      },
      "outputs": [],
      "source": [
        "'''\n",
        "app = Dash(__name__)\n",
        "\n",
        "app.layout = html.Div([\n",
        "    dcc.Dropdown(\n",
        "        id='community-id',\n",
        "        options=[{'label': i, \"value\": i} for i in all_louvain_bigram.id.unique()],\n",
        "        value=all_louvain_bigram.id.unique()[0],\n",
        "        placeholder='Pilih Id Komunitas'\n",
        "    ),\n",
        "    dcc.Dropdown(\n",
        "        id='community-year',\n",
        "        options=[{'label': i, \"value\": i} for i in all_louvain_bigram.year.unique()],\n",
        "        value=all_louvain_bigram.year.unique()[0],\n",
        "        placeholder='Pilih Tahun'\n",
        "    ),\n",
        "    dcc.Graph(id='trigram')\n",
        "])\n",
        "\n",
        "@app.callback(\n",
        "    Output('trigram', 'figure'),\n",
        "    [Input('community-id', 'value'),\n",
        "     Input('community-year', 'value')]\n",
        ")\n",
        "def bigram_output(id, year):\n",
        "    # filter data based on selected id and year\n",
        "    df_trigram = all_louvain_trigram[(all_louvain_trigram['id'] == id) & (all_louvain_trigram['year'] == year)]\n",
        "    df_trigram['trigram'] = df_trigram['trigram'].apply(lambda x: \"('{}', '{}', '{}')\".format(x[0], x[1], x[2]))\n",
        "\n",
        "    # Horizontal bar plot\n",
        "    fig = px.bar(df_trigram, x='count', y='trigram')\n",
        "\n",
        "    # figure layout & size\n",
        "    fig.update_layout(\n",
        "        title='10 Frequently Occuring Trigrams',\n",
        "      xaxis_title='Number of Trigram Occured',\n",
        "      yaxis_title='Trigram',\n",
        "      autosize=False,\n",
        "      width=1400,\n",
        "      height=800,\n",
        "      margin=dict(l=30, r=30, b=50, t=50),\n",
        "      bargap=0.5\n",
        "      )\n",
        "    fig.update_traces(textposition='outside')\n",
        "    return fig\n",
        "\n",
        "if __name__ == '__main__':\n",
        "    app.run_server(debug=True)\n",
        "'''"
      ]
    },
    {
      "cell_type": "markdown",
      "metadata": {
        "id": "4JBRIcZZGIQi"
      },
      "source": [
        "## Hashtag"
      ]
    },
    {
      "cell_type": "code",
      "source": [
        "final_data = louvain_allyear_com3[louvain_allyear_com3['year']==2018]"
      ],
      "metadata": {
        "id": "KX1T0TwX3Ugr"
      },
      "execution_count": null,
      "outputs": []
    },
    {
      "cell_type": "code",
      "execution_count": null,
      "metadata": {
        "id": "HKxsTCasPFV3",
        "colab": {
          "base_uri": "https://localhost:8080/"
        },
        "outputId": "a6ea55cf-fff5-49f7-e96e-10e2fcfc0738"
      },
      "outputs": [
        {
          "output_type": "stream",
          "name": "stdout",
          "text": [
            "ditemukan 219 hashtag berbeda\n"
          ]
        }
      ],
      "source": [
        "# dictionary to store hashtags\n",
        "HT = {'hashtags': []}\n",
        "count = 0\n",
        "getHashTags = re.compile(r\"#(\\w+)\")\n",
        "\n",
        "# find hashtags\n",
        "for i, d in enumerate(final_data['tweet']):\n",
        "  hashtags = re.findall(getHashTags, d)\n",
        "  TG = ['#' + tag.strip().lower().replace('[^a-z\\s#]', '') for tag in hashtags if len(tag.strip()) > 2]\n",
        "  HT['hashtags'].append(TG)\n",
        "  count += len(TG)\n",
        "\n",
        "# hashtag count\n",
        "hashtag_unique = set()\n",
        "for tags in HT['hashtags']:\n",
        "  hashtag_unique.update(tags)\n",
        "\n",
        "print('ditemukan {} hashtag berbeda'.format(len(hashtag_unique)))"
      ]
    },
    {
      "cell_type": "code",
      "execution_count": null,
      "metadata": {
        "id": "jEHkcINkPrQB",
        "colab": {
          "base_uri": "https://localhost:8080/",
          "height": 676
        },
        "outputId": "5379455e-282c-49dd-c175-215a2ca2f40d"
      },
      "outputs": [
        {
          "output_type": "execute_result",
          "data": {
            "text/plain": [
              "                 hashtag  count\n",
              "0   #hijrahbersamajokowi     18\n",
              "1     #2019gantipresiden     13\n",
              "2       #manfaatdanadesa     12\n",
              "3          #saveibunuril     12\n",
              "4            #jokowilagi     11\n",
              "5       #2019tetapjokowi     10\n",
              "6          #01jokowilagi      8\n",
              "7       #padatkaryatunai      8\n",
              "8        #jokowi2periode      7\n",
              "9                 #kabar      7\n",
              "10        #tppijawatimur      7\n",
              "11          #tppikalteng      6\n",
              "12        #indonesiamaju      6\n",
              "13             #prukades      6\n",
              "14      #01indonesiamaju      5\n",
              "15       #terimakasihpld      4\n",
              "16        #bukbermendesa      4\n",
              "17        #teranginegeri      4\n",
              "18     #sertifikasitanah      4\n",
              "19             #danadesa      4"
            ],
            "text/html": [
              "\n",
              "  <div id=\"df-cdd40748-6e1c-4088-b85e-97b1ca93a0a8\" class=\"colab-df-container\">\n",
              "    <div>\n",
              "<style scoped>\n",
              "    .dataframe tbody tr th:only-of-type {\n",
              "        vertical-align: middle;\n",
              "    }\n",
              "\n",
              "    .dataframe tbody tr th {\n",
              "        vertical-align: top;\n",
              "    }\n",
              "\n",
              "    .dataframe thead th {\n",
              "        text-align: right;\n",
              "    }\n",
              "</style>\n",
              "<table border=\"1\" class=\"dataframe\">\n",
              "  <thead>\n",
              "    <tr style=\"text-align: right;\">\n",
              "      <th></th>\n",
              "      <th>hashtag</th>\n",
              "      <th>count</th>\n",
              "    </tr>\n",
              "  </thead>\n",
              "  <tbody>\n",
              "    <tr>\n",
              "      <th>0</th>\n",
              "      <td>#hijrahbersamajokowi</td>\n",
              "      <td>18</td>\n",
              "    </tr>\n",
              "    <tr>\n",
              "      <th>1</th>\n",
              "      <td>#2019gantipresiden</td>\n",
              "      <td>13</td>\n",
              "    </tr>\n",
              "    <tr>\n",
              "      <th>2</th>\n",
              "      <td>#manfaatdanadesa</td>\n",
              "      <td>12</td>\n",
              "    </tr>\n",
              "    <tr>\n",
              "      <th>3</th>\n",
              "      <td>#saveibunuril</td>\n",
              "      <td>12</td>\n",
              "    </tr>\n",
              "    <tr>\n",
              "      <th>4</th>\n",
              "      <td>#jokowilagi</td>\n",
              "      <td>11</td>\n",
              "    </tr>\n",
              "    <tr>\n",
              "      <th>5</th>\n",
              "      <td>#2019tetapjokowi</td>\n",
              "      <td>10</td>\n",
              "    </tr>\n",
              "    <tr>\n",
              "      <th>6</th>\n",
              "      <td>#01jokowilagi</td>\n",
              "      <td>8</td>\n",
              "    </tr>\n",
              "    <tr>\n",
              "      <th>7</th>\n",
              "      <td>#padatkaryatunai</td>\n",
              "      <td>8</td>\n",
              "    </tr>\n",
              "    <tr>\n",
              "      <th>8</th>\n",
              "      <td>#jokowi2periode</td>\n",
              "      <td>7</td>\n",
              "    </tr>\n",
              "    <tr>\n",
              "      <th>9</th>\n",
              "      <td>#kabar</td>\n",
              "      <td>7</td>\n",
              "    </tr>\n",
              "    <tr>\n",
              "      <th>10</th>\n",
              "      <td>#tppijawatimur</td>\n",
              "      <td>7</td>\n",
              "    </tr>\n",
              "    <tr>\n",
              "      <th>11</th>\n",
              "      <td>#tppikalteng</td>\n",
              "      <td>6</td>\n",
              "    </tr>\n",
              "    <tr>\n",
              "      <th>12</th>\n",
              "      <td>#indonesiamaju</td>\n",
              "      <td>6</td>\n",
              "    </tr>\n",
              "    <tr>\n",
              "      <th>13</th>\n",
              "      <td>#prukades</td>\n",
              "      <td>6</td>\n",
              "    </tr>\n",
              "    <tr>\n",
              "      <th>14</th>\n",
              "      <td>#01indonesiamaju</td>\n",
              "      <td>5</td>\n",
              "    </tr>\n",
              "    <tr>\n",
              "      <th>15</th>\n",
              "      <td>#terimakasihpld</td>\n",
              "      <td>4</td>\n",
              "    </tr>\n",
              "    <tr>\n",
              "      <th>16</th>\n",
              "      <td>#bukbermendesa</td>\n",
              "      <td>4</td>\n",
              "    </tr>\n",
              "    <tr>\n",
              "      <th>17</th>\n",
              "      <td>#teranginegeri</td>\n",
              "      <td>4</td>\n",
              "    </tr>\n",
              "    <tr>\n",
              "      <th>18</th>\n",
              "      <td>#sertifikasitanah</td>\n",
              "      <td>4</td>\n",
              "    </tr>\n",
              "    <tr>\n",
              "      <th>19</th>\n",
              "      <td>#danadesa</td>\n",
              "      <td>4</td>\n",
              "    </tr>\n",
              "  </tbody>\n",
              "</table>\n",
              "</div>\n",
              "    <div class=\"colab-df-buttons\">\n",
              "\n",
              "  <div class=\"colab-df-container\">\n",
              "    <button class=\"colab-df-convert\" onclick=\"convertToInteractive('df-cdd40748-6e1c-4088-b85e-97b1ca93a0a8')\"\n",
              "            title=\"Convert this dataframe to an interactive table.\"\n",
              "            style=\"display:none;\">\n",
              "\n",
              "  <svg xmlns=\"http://www.w3.org/2000/svg\" height=\"24px\" viewBox=\"0 -960 960 960\">\n",
              "    <path d=\"M120-120v-720h720v720H120Zm60-500h600v-160H180v160Zm220 220h160v-160H400v160Zm0 220h160v-160H400v160ZM180-400h160v-160H180v160Zm440 0h160v-160H620v160ZM180-180h160v-160H180v160Zm440 0h160v-160H620v160Z\"/>\n",
              "  </svg>\n",
              "    </button>\n",
              "\n",
              "  <style>\n",
              "    .colab-df-container {\n",
              "      display:flex;\n",
              "      gap: 12px;\n",
              "    }\n",
              "\n",
              "    .colab-df-convert {\n",
              "      background-color: #E8F0FE;\n",
              "      border: none;\n",
              "      border-radius: 50%;\n",
              "      cursor: pointer;\n",
              "      display: none;\n",
              "      fill: #1967D2;\n",
              "      height: 32px;\n",
              "      padding: 0 0 0 0;\n",
              "      width: 32px;\n",
              "    }\n",
              "\n",
              "    .colab-df-convert:hover {\n",
              "      background-color: #E2EBFA;\n",
              "      box-shadow: 0px 1px 2px rgba(60, 64, 67, 0.3), 0px 1px 3px 1px rgba(60, 64, 67, 0.15);\n",
              "      fill: #174EA6;\n",
              "    }\n",
              "\n",
              "    .colab-df-buttons div {\n",
              "      margin-bottom: 4px;\n",
              "    }\n",
              "\n",
              "    [theme=dark] .colab-df-convert {\n",
              "      background-color: #3B4455;\n",
              "      fill: #D2E3FC;\n",
              "    }\n",
              "\n",
              "    [theme=dark] .colab-df-convert:hover {\n",
              "      background-color: #434B5C;\n",
              "      box-shadow: 0px 1px 3px 1px rgba(0, 0, 0, 0.15);\n",
              "      filter: drop-shadow(0px 1px 2px rgba(0, 0, 0, 0.3));\n",
              "      fill: #FFFFFF;\n",
              "    }\n",
              "  </style>\n",
              "\n",
              "    <script>\n",
              "      const buttonEl =\n",
              "        document.querySelector('#df-cdd40748-6e1c-4088-b85e-97b1ca93a0a8 button.colab-df-convert');\n",
              "      buttonEl.style.display =\n",
              "        google.colab.kernel.accessAllowed ? 'block' : 'none';\n",
              "\n",
              "      async function convertToInteractive(key) {\n",
              "        const element = document.querySelector('#df-cdd40748-6e1c-4088-b85e-97b1ca93a0a8');\n",
              "        const dataTable =\n",
              "          await google.colab.kernel.invokeFunction('convertToInteractive',\n",
              "                                                    [key], {});\n",
              "        if (!dataTable) return;\n",
              "\n",
              "        const docLinkHtml = 'Like what you see? Visit the ' +\n",
              "          '<a target=\"_blank\" href=https://colab.research.google.com/notebooks/data_table.ipynb>data table notebook</a>'\n",
              "          + ' to learn more about interactive tables.';\n",
              "        element.innerHTML = '';\n",
              "        dataTable['output_type'] = 'display_data';\n",
              "        await google.colab.output.renderOutput(dataTable, element);\n",
              "        const docLink = document.createElement('div');\n",
              "        docLink.innerHTML = docLinkHtml;\n",
              "        element.appendChild(docLink);\n",
              "      }\n",
              "    </script>\n",
              "  </div>\n",
              "\n",
              "\n",
              "<div id=\"df-a6b589c7-451f-4b38-b89e-a867b4b26eeb\">\n",
              "  <button class=\"colab-df-quickchart\" onclick=\"quickchart('df-a6b589c7-451f-4b38-b89e-a867b4b26eeb')\"\n",
              "            title=\"Suggest charts\"\n",
              "            style=\"display:none;\">\n",
              "\n",
              "<svg xmlns=\"http://www.w3.org/2000/svg\" height=\"24px\"viewBox=\"0 0 24 24\"\n",
              "     width=\"24px\">\n",
              "    <g>\n",
              "        <path d=\"M19 3H5c-1.1 0-2 .9-2 2v14c0 1.1.9 2 2 2h14c1.1 0 2-.9 2-2V5c0-1.1-.9-2-2-2zM9 17H7v-7h2v7zm4 0h-2V7h2v10zm4 0h-2v-4h2v4z\"/>\n",
              "    </g>\n",
              "</svg>\n",
              "  </button>\n",
              "\n",
              "<style>\n",
              "  .colab-df-quickchart {\n",
              "      --bg-color: #E8F0FE;\n",
              "      --fill-color: #1967D2;\n",
              "      --hover-bg-color: #E2EBFA;\n",
              "      --hover-fill-color: #174EA6;\n",
              "      --disabled-fill-color: #AAA;\n",
              "      --disabled-bg-color: #DDD;\n",
              "  }\n",
              "\n",
              "  [theme=dark] .colab-df-quickchart {\n",
              "      --bg-color: #3B4455;\n",
              "      --fill-color: #D2E3FC;\n",
              "      --hover-bg-color: #434B5C;\n",
              "      --hover-fill-color: #FFFFFF;\n",
              "      --disabled-bg-color: #3B4455;\n",
              "      --disabled-fill-color: #666;\n",
              "  }\n",
              "\n",
              "  .colab-df-quickchart {\n",
              "    background-color: var(--bg-color);\n",
              "    border: none;\n",
              "    border-radius: 50%;\n",
              "    cursor: pointer;\n",
              "    display: none;\n",
              "    fill: var(--fill-color);\n",
              "    height: 32px;\n",
              "    padding: 0;\n",
              "    width: 32px;\n",
              "  }\n",
              "\n",
              "  .colab-df-quickchart:hover {\n",
              "    background-color: var(--hover-bg-color);\n",
              "    box-shadow: 0 1px 2px rgba(60, 64, 67, 0.3), 0 1px 3px 1px rgba(60, 64, 67, 0.15);\n",
              "    fill: var(--button-hover-fill-color);\n",
              "  }\n",
              "\n",
              "  .colab-df-quickchart-complete:disabled,\n",
              "  .colab-df-quickchart-complete:disabled:hover {\n",
              "    background-color: var(--disabled-bg-color);\n",
              "    fill: var(--disabled-fill-color);\n",
              "    box-shadow: none;\n",
              "  }\n",
              "\n",
              "  .colab-df-spinner {\n",
              "    border: 2px solid var(--fill-color);\n",
              "    border-color: transparent;\n",
              "    border-bottom-color: var(--fill-color);\n",
              "    animation:\n",
              "      spin 1s steps(1) infinite;\n",
              "  }\n",
              "\n",
              "  @keyframes spin {\n",
              "    0% {\n",
              "      border-color: transparent;\n",
              "      border-bottom-color: var(--fill-color);\n",
              "      border-left-color: var(--fill-color);\n",
              "    }\n",
              "    20% {\n",
              "      border-color: transparent;\n",
              "      border-left-color: var(--fill-color);\n",
              "      border-top-color: var(--fill-color);\n",
              "    }\n",
              "    30% {\n",
              "      border-color: transparent;\n",
              "      border-left-color: var(--fill-color);\n",
              "      border-top-color: var(--fill-color);\n",
              "      border-right-color: var(--fill-color);\n",
              "    }\n",
              "    40% {\n",
              "      border-color: transparent;\n",
              "      border-right-color: var(--fill-color);\n",
              "      border-top-color: var(--fill-color);\n",
              "    }\n",
              "    60% {\n",
              "      border-color: transparent;\n",
              "      border-right-color: var(--fill-color);\n",
              "    }\n",
              "    80% {\n",
              "      border-color: transparent;\n",
              "      border-right-color: var(--fill-color);\n",
              "      border-bottom-color: var(--fill-color);\n",
              "    }\n",
              "    90% {\n",
              "      border-color: transparent;\n",
              "      border-bottom-color: var(--fill-color);\n",
              "    }\n",
              "  }\n",
              "</style>\n",
              "\n",
              "  <script>\n",
              "    async function quickchart(key) {\n",
              "      const quickchartButtonEl =\n",
              "        document.querySelector('#' + key + ' button');\n",
              "      quickchartButtonEl.disabled = true;  // To prevent multiple clicks.\n",
              "      quickchartButtonEl.classList.add('colab-df-spinner');\n",
              "      try {\n",
              "        const charts = await google.colab.kernel.invokeFunction(\n",
              "            'suggestCharts', [key], {});\n",
              "      } catch (error) {\n",
              "        console.error('Error during call to suggestCharts:', error);\n",
              "      }\n",
              "      quickchartButtonEl.classList.remove('colab-df-spinner');\n",
              "      quickchartButtonEl.classList.add('colab-df-quickchart-complete');\n",
              "    }\n",
              "    (() => {\n",
              "      let quickchartButtonEl =\n",
              "        document.querySelector('#df-a6b589c7-451f-4b38-b89e-a867b4b26eeb button');\n",
              "      quickchartButtonEl.style.display =\n",
              "        google.colab.kernel.accessAllowed ? 'block' : 'none';\n",
              "    })();\n",
              "  </script>\n",
              "</div>\n",
              "\n",
              "    </div>\n",
              "  </div>\n"
            ],
            "application/vnd.google.colaboratory.intrinsic+json": {
              "type": "dataframe",
              "variable_name": "df_tag",
              "summary": "{\n  \"name\": \"df_tag\",\n  \"rows\": 219,\n  \"fields\": [\n    {\n      \"column\": \"hashtag\",\n      \"properties\": {\n        \"dtype\": \"string\",\n        \"num_unique_values\": 219,\n        \"samples\": [\n          \"#pkbday\",\n          \"#ayoteruskerja\",\n          \"#kartinipkb\"\n        ],\n        \"semantic_type\": \"\",\n        \"description\": \"\"\n      }\n    },\n    {\n      \"column\": \"count\",\n      \"properties\": {\n        \"dtype\": \"number\",\n        \"std\": 2,\n        \"min\": 1,\n        \"max\": 18,\n        \"num_unique_values\": 13,\n        \"samples\": [\n          2,\n          4,\n          18\n        ],\n        \"semantic_type\": \"\",\n        \"description\": \"\"\n      }\n    }\n  ]\n}"
            }
          },
          "metadata": {},
          "execution_count": 85
        }
      ],
      "source": [
        "# hashtag count data\n",
        "df_tag = pd.DataFrame({'kategori': [x for t in HT['hashtags'] for x in t]}).value_counts().reset_index()\n",
        "df_tag.columns = ['hashtag', 'count']\n",
        "df_tag.head(20)"
      ]
    },
    {
      "cell_type": "code",
      "execution_count": null,
      "metadata": {
        "id": "dReci2kBPqyj"
      },
      "outputs": [],
      "source": [
        "# select the number of hashtags\n",
        "N = 25\n",
        "\n",
        "# horizontal bar plot\n",
        "fig = px.bar(df_tag[:N], y='hashtag', x='count',\n",
        "             text='count')\n",
        "\n",
        "# figure layout & size\n",
        "fig.update_layout(\n",
        "    title='Top {} Hashtags'.format(N),\n",
        "    xaxis_title='Number of Hashtags',\n",
        "    yaxis_title='Hashtag',\n",
        "    autosize=False,\n",
        "    width=1400,\n",
        "    height=800,\n",
        "    margin=dict(l=30, r=30, b=50, t=50),\n",
        "    bargap=0.5)\n",
        "\n",
        "fig.update_traces(textposition='outside')\n",
        "fig.show()"
      ]
    },
    {
      "cell_type": "markdown",
      "metadata": {
        "id": "JVOpGiKSGK_q"
      },
      "source": [
        "## WordCloud"
      ]
    },
    {
      "cell_type": "code",
      "execution_count": null,
      "metadata": {
        "id": "EzIgYsl0Piqp"
      },
      "outputs": [],
      "source": [
        "# load font\n",
        "url = \"https://github.com/SalikFillah/Sentiment-Analysis/raw/main/Comfortaa-Bold.ttf\"\n",
        "filename = wget.download(url)"
      ]
    },
    {
      "cell_type": "code",
      "source": [
        "# important\n",
        "final_data = louvain_allyear_com3[louvain_allyear_com3['year']==2018]\n",
        "final_data.head()"
      ],
      "metadata": {
        "id": "JHc5p-Q6y4PD",
        "colab": {
          "base_uri": "https://localhost:8080/",
          "height": 241
        },
        "outputId": "ba73ef43-fa8c-4319-ef4c-f02719aab6ee"
      },
      "execution_count": null,
      "outputs": [
        {
          "output_type": "execute_result",
          "data": {
            "text/plain": [
              "           screen_name                                              tweet  \\\n",
              "18106         Metro_TV  Cahaya Hati: Berpuasa dari Segi Hukum metrotvn...   \n",
              "18107  TJsecondoutdoor  Kelakuan pendukung pemerintah ya yg kaya gini ...   \n",
              "18108          KSPgoid  2. \\\"Saya ingin menyampaikan dukacita yang men...   \n",
              "18109     NurSyahbana9  ISLAM PEMAAF BUKAN PEMARAH\\n\\nNU: Tak Perlu Ja...   \n",
              "18110        ElisyaUgm  Harus siap menjadi pendamping @jokowi dan menj...   \n",
              "\n",
              "      created_at  year  id                                        clean_tweet  \n",
              "18106 2018-05-19  2018   3  cahaya hati berpuasa segi hukum nbw7qo3b k0z1u...  \n",
              "18107 2018-05-16  2018   3  kelakuan pendukung pemerintah kaya berbuat keb...  \n",
              "18108 2018-12-23  2018   3  dukacita mendalam korban provinsi banten seran...  \n",
              "18109 2018-04-03  2018   3  islam pemaaf pemarah jalur hukum sukmawati maa...  \n",
              "18110 2018-01-13  2018   3  pendamping penjaga ulama ahlussunnah sunah jamaah  "
            ],
            "text/html": [
              "\n",
              "  <div id=\"df-71eaacf2-5e54-4041-ab56-1da10e8435d8\" class=\"colab-df-container\">\n",
              "    <div>\n",
              "<style scoped>\n",
              "    .dataframe tbody tr th:only-of-type {\n",
              "        vertical-align: middle;\n",
              "    }\n",
              "\n",
              "    .dataframe tbody tr th {\n",
              "        vertical-align: top;\n",
              "    }\n",
              "\n",
              "    .dataframe thead th {\n",
              "        text-align: right;\n",
              "    }\n",
              "</style>\n",
              "<table border=\"1\" class=\"dataframe\">\n",
              "  <thead>\n",
              "    <tr style=\"text-align: right;\">\n",
              "      <th></th>\n",
              "      <th>screen_name</th>\n",
              "      <th>tweet</th>\n",
              "      <th>created_at</th>\n",
              "      <th>year</th>\n",
              "      <th>id</th>\n",
              "      <th>clean_tweet</th>\n",
              "    </tr>\n",
              "  </thead>\n",
              "  <tbody>\n",
              "    <tr>\n",
              "      <th>18106</th>\n",
              "      <td>Metro_TV</td>\n",
              "      <td>Cahaya Hati: Berpuasa dari Segi Hukum metrotvn...</td>\n",
              "      <td>2018-05-19</td>\n",
              "      <td>2018</td>\n",
              "      <td>3</td>\n",
              "      <td>cahaya hati berpuasa segi hukum nbw7qo3b k0z1u...</td>\n",
              "    </tr>\n",
              "    <tr>\n",
              "      <th>18107</th>\n",
              "      <td>TJsecondoutdoor</td>\n",
              "      <td>Kelakuan pendukung pemerintah ya yg kaya gini ...</td>\n",
              "      <td>2018-05-16</td>\n",
              "      <td>2018</td>\n",
              "      <td>3</td>\n",
              "      <td>kelakuan pendukung pemerintah kaya berbuat keb...</td>\n",
              "    </tr>\n",
              "    <tr>\n",
              "      <th>18108</th>\n",
              "      <td>KSPgoid</td>\n",
              "      <td>2. \\\"Saya ingin menyampaikan dukacita yang men...</td>\n",
              "      <td>2018-12-23</td>\n",
              "      <td>2018</td>\n",
              "      <td>3</td>\n",
              "      <td>dukacita mendalam korban provinsi banten seran...</td>\n",
              "    </tr>\n",
              "    <tr>\n",
              "      <th>18109</th>\n",
              "      <td>NurSyahbana9</td>\n",
              "      <td>ISLAM PEMAAF BUKAN PEMARAH\\n\\nNU: Tak Perlu Ja...</td>\n",
              "      <td>2018-04-03</td>\n",
              "      <td>2018</td>\n",
              "      <td>3</td>\n",
              "      <td>islam pemaaf pemarah jalur hukum sukmawati maa...</td>\n",
              "    </tr>\n",
              "    <tr>\n",
              "      <th>18110</th>\n",
              "      <td>ElisyaUgm</td>\n",
              "      <td>Harus siap menjadi pendamping @jokowi dan menj...</td>\n",
              "      <td>2018-01-13</td>\n",
              "      <td>2018</td>\n",
              "      <td>3</td>\n",
              "      <td>pendamping penjaga ulama ahlussunnah sunah jamaah</td>\n",
              "    </tr>\n",
              "  </tbody>\n",
              "</table>\n",
              "</div>\n",
              "    <div class=\"colab-df-buttons\">\n",
              "\n",
              "  <div class=\"colab-df-container\">\n",
              "    <button class=\"colab-df-convert\" onclick=\"convertToInteractive('df-71eaacf2-5e54-4041-ab56-1da10e8435d8')\"\n",
              "            title=\"Convert this dataframe to an interactive table.\"\n",
              "            style=\"display:none;\">\n",
              "\n",
              "  <svg xmlns=\"http://www.w3.org/2000/svg\" height=\"24px\" viewBox=\"0 -960 960 960\">\n",
              "    <path d=\"M120-120v-720h720v720H120Zm60-500h600v-160H180v160Zm220 220h160v-160H400v160Zm0 220h160v-160H400v160ZM180-400h160v-160H180v160Zm440 0h160v-160H620v160ZM180-180h160v-160H180v160Zm440 0h160v-160H620v160Z\"/>\n",
              "  </svg>\n",
              "    </button>\n",
              "\n",
              "  <style>\n",
              "    .colab-df-container {\n",
              "      display:flex;\n",
              "      gap: 12px;\n",
              "    }\n",
              "\n",
              "    .colab-df-convert {\n",
              "      background-color: #E8F0FE;\n",
              "      border: none;\n",
              "      border-radius: 50%;\n",
              "      cursor: pointer;\n",
              "      display: none;\n",
              "      fill: #1967D2;\n",
              "      height: 32px;\n",
              "      padding: 0 0 0 0;\n",
              "      width: 32px;\n",
              "    }\n",
              "\n",
              "    .colab-df-convert:hover {\n",
              "      background-color: #E2EBFA;\n",
              "      box-shadow: 0px 1px 2px rgba(60, 64, 67, 0.3), 0px 1px 3px 1px rgba(60, 64, 67, 0.15);\n",
              "      fill: #174EA6;\n",
              "    }\n",
              "\n",
              "    .colab-df-buttons div {\n",
              "      margin-bottom: 4px;\n",
              "    }\n",
              "\n",
              "    [theme=dark] .colab-df-convert {\n",
              "      background-color: #3B4455;\n",
              "      fill: #D2E3FC;\n",
              "    }\n",
              "\n",
              "    [theme=dark] .colab-df-convert:hover {\n",
              "      background-color: #434B5C;\n",
              "      box-shadow: 0px 1px 3px 1px rgba(0, 0, 0, 0.15);\n",
              "      filter: drop-shadow(0px 1px 2px rgba(0, 0, 0, 0.3));\n",
              "      fill: #FFFFFF;\n",
              "    }\n",
              "  </style>\n",
              "\n",
              "    <script>\n",
              "      const buttonEl =\n",
              "        document.querySelector('#df-71eaacf2-5e54-4041-ab56-1da10e8435d8 button.colab-df-convert');\n",
              "      buttonEl.style.display =\n",
              "        google.colab.kernel.accessAllowed ? 'block' : 'none';\n",
              "\n",
              "      async function convertToInteractive(key) {\n",
              "        const element = document.querySelector('#df-71eaacf2-5e54-4041-ab56-1da10e8435d8');\n",
              "        const dataTable =\n",
              "          await google.colab.kernel.invokeFunction('convertToInteractive',\n",
              "                                                    [key], {});\n",
              "        if (!dataTable) return;\n",
              "\n",
              "        const docLinkHtml = 'Like what you see? Visit the ' +\n",
              "          '<a target=\"_blank\" href=https://colab.research.google.com/notebooks/data_table.ipynb>data table notebook</a>'\n",
              "          + ' to learn more about interactive tables.';\n",
              "        element.innerHTML = '';\n",
              "        dataTable['output_type'] = 'display_data';\n",
              "        await google.colab.output.renderOutput(dataTable, element);\n",
              "        const docLink = document.createElement('div');\n",
              "        docLink.innerHTML = docLinkHtml;\n",
              "        element.appendChild(docLink);\n",
              "      }\n",
              "    </script>\n",
              "  </div>\n",
              "\n",
              "\n",
              "<div id=\"df-72ca1ba4-91e1-43d0-8e8c-ddc8071a6eea\">\n",
              "  <button class=\"colab-df-quickchart\" onclick=\"quickchart('df-72ca1ba4-91e1-43d0-8e8c-ddc8071a6eea')\"\n",
              "            title=\"Suggest charts\"\n",
              "            style=\"display:none;\">\n",
              "\n",
              "<svg xmlns=\"http://www.w3.org/2000/svg\" height=\"24px\"viewBox=\"0 0 24 24\"\n",
              "     width=\"24px\">\n",
              "    <g>\n",
              "        <path d=\"M19 3H5c-1.1 0-2 .9-2 2v14c0 1.1.9 2 2 2h14c1.1 0 2-.9 2-2V5c0-1.1-.9-2-2-2zM9 17H7v-7h2v7zm4 0h-2V7h2v10zm4 0h-2v-4h2v4z\"/>\n",
              "    </g>\n",
              "</svg>\n",
              "  </button>\n",
              "\n",
              "<style>\n",
              "  .colab-df-quickchart {\n",
              "      --bg-color: #E8F0FE;\n",
              "      --fill-color: #1967D2;\n",
              "      --hover-bg-color: #E2EBFA;\n",
              "      --hover-fill-color: #174EA6;\n",
              "      --disabled-fill-color: #AAA;\n",
              "      --disabled-bg-color: #DDD;\n",
              "  }\n",
              "\n",
              "  [theme=dark] .colab-df-quickchart {\n",
              "      --bg-color: #3B4455;\n",
              "      --fill-color: #D2E3FC;\n",
              "      --hover-bg-color: #434B5C;\n",
              "      --hover-fill-color: #FFFFFF;\n",
              "      --disabled-bg-color: #3B4455;\n",
              "      --disabled-fill-color: #666;\n",
              "  }\n",
              "\n",
              "  .colab-df-quickchart {\n",
              "    background-color: var(--bg-color);\n",
              "    border: none;\n",
              "    border-radius: 50%;\n",
              "    cursor: pointer;\n",
              "    display: none;\n",
              "    fill: var(--fill-color);\n",
              "    height: 32px;\n",
              "    padding: 0;\n",
              "    width: 32px;\n",
              "  }\n",
              "\n",
              "  .colab-df-quickchart:hover {\n",
              "    background-color: var(--hover-bg-color);\n",
              "    box-shadow: 0 1px 2px rgba(60, 64, 67, 0.3), 0 1px 3px 1px rgba(60, 64, 67, 0.15);\n",
              "    fill: var(--button-hover-fill-color);\n",
              "  }\n",
              "\n",
              "  .colab-df-quickchart-complete:disabled,\n",
              "  .colab-df-quickchart-complete:disabled:hover {\n",
              "    background-color: var(--disabled-bg-color);\n",
              "    fill: var(--disabled-fill-color);\n",
              "    box-shadow: none;\n",
              "  }\n",
              "\n",
              "  .colab-df-spinner {\n",
              "    border: 2px solid var(--fill-color);\n",
              "    border-color: transparent;\n",
              "    border-bottom-color: var(--fill-color);\n",
              "    animation:\n",
              "      spin 1s steps(1) infinite;\n",
              "  }\n",
              "\n",
              "  @keyframes spin {\n",
              "    0% {\n",
              "      border-color: transparent;\n",
              "      border-bottom-color: var(--fill-color);\n",
              "      border-left-color: var(--fill-color);\n",
              "    }\n",
              "    20% {\n",
              "      border-color: transparent;\n",
              "      border-left-color: var(--fill-color);\n",
              "      border-top-color: var(--fill-color);\n",
              "    }\n",
              "    30% {\n",
              "      border-color: transparent;\n",
              "      border-left-color: var(--fill-color);\n",
              "      border-top-color: var(--fill-color);\n",
              "      border-right-color: var(--fill-color);\n",
              "    }\n",
              "    40% {\n",
              "      border-color: transparent;\n",
              "      border-right-color: var(--fill-color);\n",
              "      border-top-color: var(--fill-color);\n",
              "    }\n",
              "    60% {\n",
              "      border-color: transparent;\n",
              "      border-right-color: var(--fill-color);\n",
              "    }\n",
              "    80% {\n",
              "      border-color: transparent;\n",
              "      border-right-color: var(--fill-color);\n",
              "      border-bottom-color: var(--fill-color);\n",
              "    }\n",
              "    90% {\n",
              "      border-color: transparent;\n",
              "      border-bottom-color: var(--fill-color);\n",
              "    }\n",
              "  }\n",
              "</style>\n",
              "\n",
              "  <script>\n",
              "    async function quickchart(key) {\n",
              "      const quickchartButtonEl =\n",
              "        document.querySelector('#' + key + ' button');\n",
              "      quickchartButtonEl.disabled = true;  // To prevent multiple clicks.\n",
              "      quickchartButtonEl.classList.add('colab-df-spinner');\n",
              "      try {\n",
              "        const charts = await google.colab.kernel.invokeFunction(\n",
              "            'suggestCharts', [key], {});\n",
              "      } catch (error) {\n",
              "        console.error('Error during call to suggestCharts:', error);\n",
              "      }\n",
              "      quickchartButtonEl.classList.remove('colab-df-spinner');\n",
              "      quickchartButtonEl.classList.add('colab-df-quickchart-complete');\n",
              "    }\n",
              "    (() => {\n",
              "      let quickchartButtonEl =\n",
              "        document.querySelector('#df-72ca1ba4-91e1-43d0-8e8c-ddc8071a6eea button');\n",
              "      quickchartButtonEl.style.display =\n",
              "        google.colab.kernel.accessAllowed ? 'block' : 'none';\n",
              "    })();\n",
              "  </script>\n",
              "</div>\n",
              "\n",
              "    </div>\n",
              "  </div>\n"
            ],
            "application/vnd.google.colaboratory.intrinsic+json": {
              "type": "dataframe",
              "variable_name": "final_data",
              "summary": "{\n  \"name\": \"final_data\",\n  \"rows\": 683,\n  \"fields\": [\n    {\n      \"column\": \"screen_name\",\n      \"properties\": {\n        \"dtype\": \"category\",\n        \"num_unique_values\": 270,\n        \"samples\": [\n          \"parnoora\",\n          \"Dianty_Yasmin1\",\n          \"WawanPurwandl\"\n        ],\n        \"semantic_type\": \"\",\n        \"description\": \"\"\n      }\n    },\n    {\n      \"column\": \"tweet\",\n      \"properties\": {\n        \"dtype\": \"string\",\n        \"num_unique_values\": 523,\n        \"samples\": [\n          \"PA212 mengklaim mngharamkan usung @jokowi Cawapres 2019 adlh sikap konyol, fitnah keji & tdk mewakili umat Islam.\\\\n\\\\nSbb MUI, NU & Muhammadiyah sbg representasi aspirasi umat tdk pernah membuat fatwa haram mengusung & mendukung JKW. Justru mayoritas umat dukung JKW 2 periode!\\\\n\\\\n*FA*\",\n          \"Semoga pak yai juga bisa membantu menjaga pak jokowi dari perbuatan mungkar twitter.com/luviku/status/...\",\n          \"Karena kriminal yg satu ini anak CINA, polisi dg enaknya bilang dia cuma bercanda..\\\\n\\\\nApalagi kalau anak CINA KOMUNIS, pasti langsung diajak makan2 ke istana!\\\\n\\\\nInilah wajah aparat penegak hukum di rezim jKw.\\\\n\\\\nTak heran, aspirasi #2019GantiPresiden terus melaju bagaikan Bola Salju! twitter.com/SocialnesiaID/...\"\n        ],\n        \"semantic_type\": \"\",\n        \"description\": \"\"\n      }\n    },\n    {\n      \"column\": \"created_at\",\n      \"properties\": {\n        \"dtype\": \"date\",\n        \"min\": \"2018-01-01 00:00:00\",\n        \"max\": \"2018-12-31 00:00:00\",\n        \"num_unique_values\": 253,\n        \"samples\": [\n          \"2018-12-16 00:00:00\",\n          \"2018-05-23 00:00:00\",\n          \"2018-01-15 00:00:00\"\n        ],\n        \"semantic_type\": \"\",\n        \"description\": \"\"\n      }\n    },\n    {\n      \"column\": \"year\",\n      \"properties\": {\n        \"dtype\": \"int32\",\n        \"num_unique_values\": 1,\n        \"samples\": [\n          2018\n        ],\n        \"semantic_type\": \"\",\n        \"description\": \"\"\n      }\n    },\n    {\n      \"column\": \"id\",\n      \"properties\": {\n        \"dtype\": \"number\",\n        \"std\": 0,\n        \"min\": 3,\n        \"max\": 3,\n        \"num_unique_values\": 1,\n        \"samples\": [\n          3\n        ],\n        \"semantic_type\": \"\",\n        \"description\": \"\"\n      }\n    },\n    {\n      \"column\": \"clean_tweet\",\n      \"properties\": {\n        \"dtype\": \"string\",\n        \"num_unique_values\": 521,\n        \"samples\": [\n          \"jualan surga jihad harta giliran pendukung capres sontoloyo menyebut titisan allah swt ig12zyokvj\"\n        ],\n        \"semantic_type\": \"\",\n        \"description\": \"\"\n      }\n    }\n  ]\n}"
            }
          },
          "metadata": {},
          "execution_count": 81
        }
      ]
    },
    {
      "cell_type": "code",
      "source": [
        "# store all tweet and tokenized them\n",
        "all_tweets = ' '.join(final_data['clean_tweet'])\n",
        "tokens = word_tokenize(all_tweets)\n",
        "\n",
        "# count the frequency\n",
        "word_freq = Counter(tokens)\n",
        "\n",
        "# display frequently occuring words\n",
        "most_common_words = word_freq.most_common(10)\n",
        "print(most_common_words)"
      ],
      "metadata": {
        "colab": {
          "base_uri": "https://localhost:8080/"
        },
        "id": "XyGUaEi_iQvj",
        "outputId": "3cb4e868-4f30-4e3b-97ed-5d902387526a"
      },
      "execution_count": null,
      "outputs": [
        {
          "output_type": "stream",
          "name": "stdout",
          "text": [
            "[('hukum', 296), ('presiden', 174), ('ukhuwah', 96), ('jokowi', 94), ('indonesia', 70), ('desa', 67), ('rakyat', 61), ('ulama', 56), ('islamiyah', 56), ('negara', 47)]\n"
          ]
        }
      ]
    },
    {
      "cell_type": "code",
      "execution_count": null,
      "metadata": {
        "id": "O7vTEbYsPi5j"
      },
      "outputs": [],
      "source": [
        "# displays the most words\n",
        "\n",
        "allWords = ' '.join( [twts for twts in final_data['clean_tweet']] )\n",
        "font = '/content/Comfortaa-Bold.ttf'\n",
        "wordCloud = WordCloud(background_color = \"white\",\n",
        "                      font_path = font,\n",
        "                      width = 1600,\n",
        "                      height = 900,\n",
        "                      max_words = 50,\n",
        "                      colormap = 'Spectral').generate(allWords)\n",
        "plt.figure(figsize = (16,8))\n",
        "plt.imshow(wordCloud, interpolation = 'bilinear')\n",
        "plt.axis('off')\n",
        "plt.show()"
      ]
    },
    {
      "cell_type": "markdown",
      "metadata": {
        "id": "vbGO8SdwVEEO"
      },
      "source": [
        "# **Visualization**\n",
        "**Gephi** adalah software open-source untuk memvisualisasikan dan menganalisis graf yang besar. Selain itu, **Gephi** juga dilengkapi dengan beberapa algoritma deteksi komunitas yang telah diimplementasikan sebelumnya."
      ]
    },
    {
      "cell_type": "code",
      "source": [
        "def contains_keywords(text, keywords):\n",
        "  return any(keyword in text for keyword in keywords)\n",
        "\n",
        "# keyword topik \"islam_umum\"\n",
        "keyword1 = ['telapak', 'kaki', 'ibu', 'sedekah', 'hadist', 'riwayat', 'bukhari', 'muslim', 'tirmidzi', 'khalid', 'basalamah', 'ahmad', 'zainuddin', 'abdul', 'somad', 'adi', 'hidayat', 'erwandi', 'tarmizi', 'salim', 'fillah']\n",
        "\n",
        "df_umum = all_louvain[all_louvain['clean_tweet'].apply(lambda text: contains_keywords(text, keyword1))]\n",
        "print('jumlah data topik islam_umum :', len(df_umum))\n",
        "\n",
        "# keyword topik \"islam_politik\"\n",
        "keyword2 = ['poligami', 'pemerintah', 'dewan', 'perwakilan', 'komisi', 'pemberantas', 'korupsi', 'politik', 'partai', 'keadilan', 'sejahtera', 'poligami', 'sby', 'prabowo', 'jokowi', 'ahok', 'debat', 'capres', 'narkotika', 'psikotropika', 'presiden', 'ibukota', 'hak', 'asasi']\n",
        "\n",
        "df_politik = all_louvain[all_louvain['clean_tweet'].apply(lambda text: contains_keywords(text, keyword2))]\n",
        "print('jumlah data topik islam_politik :', len(df_politik))\n",
        "\n",
        "# keyword topik \"islam_konservatisme\"\n",
        "keyword3 = ['khilafah', 'ahmadiyah', 'front', 'pembela', 'majelis', 'ulama', 'nahdatul', 'jaringan', 'liberal', 'sepilis', 'syiah', 'hti', 'hizbut', 'tahrir', 'ite', 'gnpf']\n",
        "\n",
        "df_konservatisme = all_louvain[all_louvain['clean_tweet'].apply(lambda text: contains_keywords(text, keyword3))]\n",
        "print('jumlah data topik islam_konservatisme :', len(df_konservatisme))"
      ],
      "metadata": {
        "colab": {
          "base_uri": "https://localhost:8080/"
        },
        "id": "eJYMCaRCsQ2Z",
        "outputId": "8fd7e29d-1a6e-4237-f78c-32ba2b0d88ce"
      },
      "execution_count": null,
      "outputs": [
        {
          "output_type": "stream",
          "name": "stdout",
          "text": [
            "jumlah data topik islam_umum : 12997\n",
            "jumlah data topik islam_politik : 12314\n",
            "jumlah data topik islam_konservatisme : 7550\n"
          ]
        }
      ]
    },
    {
      "cell_type": "code",
      "source": [
        "freq_umum = df_umum['year'].value_counts().sort_index().reset_index()\n",
        "freq_umum.columns = ['date', 'frequency']\n",
        "freq_umum['kategori'] = 'islam_umum'\n",
        "freq_umum\n",
        "\n",
        "freq_politik = df_politik['year'].value_counts().sort_index().reset_index()\n",
        "freq_politik.columns = ['date', 'frequency']\n",
        "freq_politik['kategori'] = 'islam_politik'\n",
        "freq_politik\n",
        "\n",
        "freq_kons = df_konservatisme['year'].value_counts().sort_index().reset_index()\n",
        "freq_kons.columns = ['date', 'frequency']\n",
        "freq_kons['kategori'] = 'islam_konservatif'\n",
        "freq_kons\n",
        "\n",
        "freq_islam = pd.concat([freq_umum, freq_politik, freq_kons], ignore_index=True)"
      ],
      "metadata": {
        "id": "b_hT2dUx82SS"
      },
      "execution_count": null,
      "outputs": []
    },
    {
      "cell_type": "code",
      "source": [
        "fig = px.line(freq_islam, x=\"date\", y=\"frequency\", color='kategori', symbol='kategori',\n",
        "              title='Frekuensi Tweet',\n",
        "              line_shape='spline')\n",
        "fig.update_layout(xaxis=dict(tickmode='linear',dtick='M12',tickformat=\"%Y\"),\n",
        "                  width=1000, height=600\n",
        "    )\n",
        "fig.show()"
      ],
      "metadata": {
        "colab": {
          "base_uri": "https://localhost:8080/",
          "height": 617
        },
        "id": "7P9iKh1u4AYY",
        "outputId": "4cf24060-9d68-4f7d-d74f-09741e05f469"
      },
      "execution_count": null,
      "outputs": [
        {
          "output_type": "display_data",
          "data": {
            "text/html": [
              "<html>\n",
              "<head><meta charset=\"utf-8\" /></head>\n",
              "<body>\n",
              "    <div>            <script src=\"https://cdnjs.cloudflare.com/ajax/libs/mathjax/2.7.5/MathJax.js?config=TeX-AMS-MML_SVG\"></script><script type=\"text/javascript\">if (window.MathJax && window.MathJax.Hub && window.MathJax.Hub.Config) {window.MathJax.Hub.Config({SVG: {font: \"STIX-Web\"}});}</script>                <script type=\"text/javascript\">window.PlotlyConfig = {MathJaxConfig: 'local'};</script>\n",
              "        <script charset=\"utf-8\" src=\"https://cdn.plot.ly/plotly-2.24.1.min.js\"></script>                <div id=\"cd6ead33-f4a1-4285-b308-8b57c0c7e998\" class=\"plotly-graph-div\" style=\"height:600px; width:1000px;\"></div>            <script type=\"text/javascript\">                                    window.PLOTLYENV=window.PLOTLYENV || {};                                    if (document.getElementById(\"cd6ead33-f4a1-4285-b308-8b57c0c7e998\")) {                    Plotly.newPlot(                        \"cd6ead33-f4a1-4285-b308-8b57c0c7e998\",                        [{\"hovertemplate\":\"kategori=islam_umum\\u003cbr\\u003edate=%{x}\\u003cbr\\u003efrequency=%{y}\\u003cextra\\u003e\\u003c\\u002fextra\\u003e\",\"legendgroup\":\"islam_umum\",\"line\":{\"color\":\"#636efa\",\"dash\":\"solid\",\"shape\":\"spline\"},\"marker\":{\"symbol\":\"circle\"},\"mode\":\"lines+markers\",\"name\":\"islam_umum\",\"orientation\":\"v\",\"showlegend\":true,\"x\":[2009,2010,2011,2012,2013,2014,2015,2016,2017,2018,2019],\"xaxis\":\"x\",\"y\":[28,570,1864,2457,3197,723,1385,773,1215,647,138],\"yaxis\":\"y\",\"type\":\"scatter\"},{\"hovertemplate\":\"kategori=islam_politik\\u003cbr\\u003edate=%{x}\\u003cbr\\u003efrequency=%{y}\\u003cextra\\u003e\\u003c\\u002fextra\\u003e\",\"legendgroup\":\"islam_politik\",\"line\":{\"color\":\"#EF553B\",\"dash\":\"solid\",\"shape\":\"spline\"},\"marker\":{\"symbol\":\"diamond\"},\"mode\":\"lines+markers\",\"name\":\"islam_politik\",\"orientation\":\"v\",\"showlegend\":true,\"x\":[2009,2010,2011,2012,2013,2014,2015,2016,2017,2018,2019],\"xaxis\":\"x\",\"y\":[26,503,1161,1053,1351,2278,1933,1183,1423,1187,216],\"yaxis\":\"y\",\"type\":\"scatter\"},{\"hovertemplate\":\"kategori=islam_konservatif\\u003cbr\\u003edate=%{x}\\u003cbr\\u003efrequency=%{y}\\u003cextra\\u003e\\u003c\\u002fextra\\u003e\",\"legendgroup\":\"islam_konservatif\",\"line\":{\"color\":\"#00cc96\",\"dash\":\"solid\",\"shape\":\"spline\"},\"marker\":{\"symbol\":\"square\"},\"mode\":\"lines+markers\",\"name\":\"islam_konservatif\",\"orientation\":\"v\",\"showlegend\":true,\"x\":[2009,2010,2011,2012,2013,2014,2015,2016,2017,2018,2019],\"xaxis\":\"x\",\"y\":[35,496,931,1246,764,519,1425,403,900,754,77],\"yaxis\":\"y\",\"type\":\"scatter\"}],                        {\"template\":{\"data\":{\"histogram2dcontour\":[{\"type\":\"histogram2dcontour\",\"colorbar\":{\"outlinewidth\":0,\"ticks\":\"\"},\"colorscale\":[[0.0,\"#0d0887\"],[0.1111111111111111,\"#46039f\"],[0.2222222222222222,\"#7201a8\"],[0.3333333333333333,\"#9c179e\"],[0.4444444444444444,\"#bd3786\"],[0.5555555555555556,\"#d8576b\"],[0.6666666666666666,\"#ed7953\"],[0.7777777777777778,\"#fb9f3a\"],[0.8888888888888888,\"#fdca26\"],[1.0,\"#f0f921\"]]}],\"choropleth\":[{\"type\":\"choropleth\",\"colorbar\":{\"outlinewidth\":0,\"ticks\":\"\"}}],\"histogram2d\":[{\"type\":\"histogram2d\",\"colorbar\":{\"outlinewidth\":0,\"ticks\":\"\"},\"colorscale\":[[0.0,\"#0d0887\"],[0.1111111111111111,\"#46039f\"],[0.2222222222222222,\"#7201a8\"],[0.3333333333333333,\"#9c179e\"],[0.4444444444444444,\"#bd3786\"],[0.5555555555555556,\"#d8576b\"],[0.6666666666666666,\"#ed7953\"],[0.7777777777777778,\"#fb9f3a\"],[0.8888888888888888,\"#fdca26\"],[1.0,\"#f0f921\"]]}],\"heatmap\":[{\"type\":\"heatmap\",\"colorbar\":{\"outlinewidth\":0,\"ticks\":\"\"},\"colorscale\":[[0.0,\"#0d0887\"],[0.1111111111111111,\"#46039f\"],[0.2222222222222222,\"#7201a8\"],[0.3333333333333333,\"#9c179e\"],[0.4444444444444444,\"#bd3786\"],[0.5555555555555556,\"#d8576b\"],[0.6666666666666666,\"#ed7953\"],[0.7777777777777778,\"#fb9f3a\"],[0.8888888888888888,\"#fdca26\"],[1.0,\"#f0f921\"]]}],\"heatmapgl\":[{\"type\":\"heatmapgl\",\"colorbar\":{\"outlinewidth\":0,\"ticks\":\"\"},\"colorscale\":[[0.0,\"#0d0887\"],[0.1111111111111111,\"#46039f\"],[0.2222222222222222,\"#7201a8\"],[0.3333333333333333,\"#9c179e\"],[0.4444444444444444,\"#bd3786\"],[0.5555555555555556,\"#d8576b\"],[0.6666666666666666,\"#ed7953\"],[0.7777777777777778,\"#fb9f3a\"],[0.8888888888888888,\"#fdca26\"],[1.0,\"#f0f921\"]]}],\"contourcarpet\":[{\"type\":\"contourcarpet\",\"colorbar\":{\"outlinewidth\":0,\"ticks\":\"\"}}],\"contour\":[{\"type\":\"contour\",\"colorbar\":{\"outlinewidth\":0,\"ticks\":\"\"},\"colorscale\":[[0.0,\"#0d0887\"],[0.1111111111111111,\"#46039f\"],[0.2222222222222222,\"#7201a8\"],[0.3333333333333333,\"#9c179e\"],[0.4444444444444444,\"#bd3786\"],[0.5555555555555556,\"#d8576b\"],[0.6666666666666666,\"#ed7953\"],[0.7777777777777778,\"#fb9f3a\"],[0.8888888888888888,\"#fdca26\"],[1.0,\"#f0f921\"]]}],\"surface\":[{\"type\":\"surface\",\"colorbar\":{\"outlinewidth\":0,\"ticks\":\"\"},\"colorscale\":[[0.0,\"#0d0887\"],[0.1111111111111111,\"#46039f\"],[0.2222222222222222,\"#7201a8\"],[0.3333333333333333,\"#9c179e\"],[0.4444444444444444,\"#bd3786\"],[0.5555555555555556,\"#d8576b\"],[0.6666666666666666,\"#ed7953\"],[0.7777777777777778,\"#fb9f3a\"],[0.8888888888888888,\"#fdca26\"],[1.0,\"#f0f921\"]]}],\"mesh3d\":[{\"type\":\"mesh3d\",\"colorbar\":{\"outlinewidth\":0,\"ticks\":\"\"}}],\"scatter\":[{\"fillpattern\":{\"fillmode\":\"overlay\",\"size\":10,\"solidity\":0.2},\"type\":\"scatter\"}],\"parcoords\":[{\"type\":\"parcoords\",\"line\":{\"colorbar\":{\"outlinewidth\":0,\"ticks\":\"\"}}}],\"scatterpolargl\":[{\"type\":\"scatterpolargl\",\"marker\":{\"colorbar\":{\"outlinewidth\":0,\"ticks\":\"\"}}}],\"bar\":[{\"error_x\":{\"color\":\"#2a3f5f\"},\"error_y\":{\"color\":\"#2a3f5f\"},\"marker\":{\"line\":{\"color\":\"#E5ECF6\",\"width\":0.5},\"pattern\":{\"fillmode\":\"overlay\",\"size\":10,\"solidity\":0.2}},\"type\":\"bar\"}],\"scattergeo\":[{\"type\":\"scattergeo\",\"marker\":{\"colorbar\":{\"outlinewidth\":0,\"ticks\":\"\"}}}],\"scatterpolar\":[{\"type\":\"scatterpolar\",\"marker\":{\"colorbar\":{\"outlinewidth\":0,\"ticks\":\"\"}}}],\"histogram\":[{\"marker\":{\"pattern\":{\"fillmode\":\"overlay\",\"size\":10,\"solidity\":0.2}},\"type\":\"histogram\"}],\"scattergl\":[{\"type\":\"scattergl\",\"marker\":{\"colorbar\":{\"outlinewidth\":0,\"ticks\":\"\"}}}],\"scatter3d\":[{\"type\":\"scatter3d\",\"line\":{\"colorbar\":{\"outlinewidth\":0,\"ticks\":\"\"}},\"marker\":{\"colorbar\":{\"outlinewidth\":0,\"ticks\":\"\"}}}],\"scattermapbox\":[{\"type\":\"scattermapbox\",\"marker\":{\"colorbar\":{\"outlinewidth\":0,\"ticks\":\"\"}}}],\"scatterternary\":[{\"type\":\"scatterternary\",\"marker\":{\"colorbar\":{\"outlinewidth\":0,\"ticks\":\"\"}}}],\"scattercarpet\":[{\"type\":\"scattercarpet\",\"marker\":{\"colorbar\":{\"outlinewidth\":0,\"ticks\":\"\"}}}],\"carpet\":[{\"aaxis\":{\"endlinecolor\":\"#2a3f5f\",\"gridcolor\":\"white\",\"linecolor\":\"white\",\"minorgridcolor\":\"white\",\"startlinecolor\":\"#2a3f5f\"},\"baxis\":{\"endlinecolor\":\"#2a3f5f\",\"gridcolor\":\"white\",\"linecolor\":\"white\",\"minorgridcolor\":\"white\",\"startlinecolor\":\"#2a3f5f\"},\"type\":\"carpet\"}],\"table\":[{\"cells\":{\"fill\":{\"color\":\"#EBF0F8\"},\"line\":{\"color\":\"white\"}},\"header\":{\"fill\":{\"color\":\"#C8D4E3\"},\"line\":{\"color\":\"white\"}},\"type\":\"table\"}],\"barpolar\":[{\"marker\":{\"line\":{\"color\":\"#E5ECF6\",\"width\":0.5},\"pattern\":{\"fillmode\":\"overlay\",\"size\":10,\"solidity\":0.2}},\"type\":\"barpolar\"}],\"pie\":[{\"automargin\":true,\"type\":\"pie\"}]},\"layout\":{\"autotypenumbers\":\"strict\",\"colorway\":[\"#636efa\",\"#EF553B\",\"#00cc96\",\"#ab63fa\",\"#FFA15A\",\"#19d3f3\",\"#FF6692\",\"#B6E880\",\"#FF97FF\",\"#FECB52\"],\"font\":{\"color\":\"#2a3f5f\"},\"hovermode\":\"closest\",\"hoverlabel\":{\"align\":\"left\"},\"paper_bgcolor\":\"white\",\"plot_bgcolor\":\"#E5ECF6\",\"polar\":{\"bgcolor\":\"#E5ECF6\",\"angularaxis\":{\"gridcolor\":\"white\",\"linecolor\":\"white\",\"ticks\":\"\"},\"radialaxis\":{\"gridcolor\":\"white\",\"linecolor\":\"white\",\"ticks\":\"\"}},\"ternary\":{\"bgcolor\":\"#E5ECF6\",\"aaxis\":{\"gridcolor\":\"white\",\"linecolor\":\"white\",\"ticks\":\"\"},\"baxis\":{\"gridcolor\":\"white\",\"linecolor\":\"white\",\"ticks\":\"\"},\"caxis\":{\"gridcolor\":\"white\",\"linecolor\":\"white\",\"ticks\":\"\"}},\"coloraxis\":{\"colorbar\":{\"outlinewidth\":0,\"ticks\":\"\"}},\"colorscale\":{\"sequential\":[[0.0,\"#0d0887\"],[0.1111111111111111,\"#46039f\"],[0.2222222222222222,\"#7201a8\"],[0.3333333333333333,\"#9c179e\"],[0.4444444444444444,\"#bd3786\"],[0.5555555555555556,\"#d8576b\"],[0.6666666666666666,\"#ed7953\"],[0.7777777777777778,\"#fb9f3a\"],[0.8888888888888888,\"#fdca26\"],[1.0,\"#f0f921\"]],\"sequentialminus\":[[0.0,\"#0d0887\"],[0.1111111111111111,\"#46039f\"],[0.2222222222222222,\"#7201a8\"],[0.3333333333333333,\"#9c179e\"],[0.4444444444444444,\"#bd3786\"],[0.5555555555555556,\"#d8576b\"],[0.6666666666666666,\"#ed7953\"],[0.7777777777777778,\"#fb9f3a\"],[0.8888888888888888,\"#fdca26\"],[1.0,\"#f0f921\"]],\"diverging\":[[0,\"#8e0152\"],[0.1,\"#c51b7d\"],[0.2,\"#de77ae\"],[0.3,\"#f1b6da\"],[0.4,\"#fde0ef\"],[0.5,\"#f7f7f7\"],[0.6,\"#e6f5d0\"],[0.7,\"#b8e186\"],[0.8,\"#7fbc41\"],[0.9,\"#4d9221\"],[1,\"#276419\"]]},\"xaxis\":{\"gridcolor\":\"white\",\"linecolor\":\"white\",\"ticks\":\"\",\"title\":{\"standoff\":15},\"zerolinecolor\":\"white\",\"automargin\":true,\"zerolinewidth\":2},\"yaxis\":{\"gridcolor\":\"white\",\"linecolor\":\"white\",\"ticks\":\"\",\"title\":{\"standoff\":15},\"zerolinecolor\":\"white\",\"automargin\":true,\"zerolinewidth\":2},\"scene\":{\"xaxis\":{\"backgroundcolor\":\"#E5ECF6\",\"gridcolor\":\"white\",\"linecolor\":\"white\",\"showbackground\":true,\"ticks\":\"\",\"zerolinecolor\":\"white\",\"gridwidth\":2},\"yaxis\":{\"backgroundcolor\":\"#E5ECF6\",\"gridcolor\":\"white\",\"linecolor\":\"white\",\"showbackground\":true,\"ticks\":\"\",\"zerolinecolor\":\"white\",\"gridwidth\":2},\"zaxis\":{\"backgroundcolor\":\"#E5ECF6\",\"gridcolor\":\"white\",\"linecolor\":\"white\",\"showbackground\":true,\"ticks\":\"\",\"zerolinecolor\":\"white\",\"gridwidth\":2}},\"shapedefaults\":{\"line\":{\"color\":\"#2a3f5f\"}},\"annotationdefaults\":{\"arrowcolor\":\"#2a3f5f\",\"arrowhead\":0,\"arrowwidth\":1},\"geo\":{\"bgcolor\":\"white\",\"landcolor\":\"#E5ECF6\",\"subunitcolor\":\"white\",\"showland\":true,\"showlakes\":true,\"lakecolor\":\"white\"},\"title\":{\"x\":0.05},\"mapbox\":{\"style\":\"light\"}}},\"xaxis\":{\"anchor\":\"y\",\"domain\":[0.0,1.0],\"title\":{\"text\":\"date\"},\"tickmode\":\"linear\",\"dtick\":\"M12\",\"tickformat\":\"%Y\"},\"yaxis\":{\"anchor\":\"x\",\"domain\":[0.0,1.0],\"title\":{\"text\":\"frequency\"}},\"legend\":{\"title\":{\"text\":\"kategori\"},\"tracegroupgap\":0},\"title\":{\"text\":\"Frekuensi Tweet\"},\"width\":1000,\"height\":600},                        {\"responsive\": true}                    ).then(function(){\n",
              "                            \n",
              "var gd = document.getElementById('cd6ead33-f4a1-4285-b308-8b57c0c7e998');\n",
              "var x = new MutationObserver(function (mutations, observer) {{\n",
              "        var display = window.getComputedStyle(gd).display;\n",
              "        if (!display || display === 'none') {{\n",
              "            console.log([gd, 'removed!']);\n",
              "            Plotly.purge(gd);\n",
              "            observer.disconnect();\n",
              "        }}\n",
              "}});\n",
              "\n",
              "// Listen for the removal of the full notebook cells\n",
              "var notebookContainer = gd.closest('#notebook-container');\n",
              "if (notebookContainer) {{\n",
              "    x.observe(notebookContainer, {childList: true});\n",
              "}}\n",
              "\n",
              "// Listen for the clearing of the current output cell\n",
              "var outputEl = gd.closest('.output');\n",
              "if (outputEl) {{\n",
              "    x.observe(outputEl, {childList: true});\n",
              "}}\n",
              "\n",
              "                        })                };                            </script>        </div>\n",
              "</body>\n",
              "</html>"
            ]
          },
          "metadata": {}
        }
      ]
    },
    {
      "cell_type": "markdown",
      "metadata": {
        "id": "vdVdCpJKHS3I"
      },
      "source": [
        "# **Notebook**\n",
        "\n",
        "\n",
        "\n"
      ]
    },
    {
      "cell_type": "markdown",
      "metadata": {
        "id": "MbpVDRstJF2S"
      },
      "source": [
        "variabel yang tidak terdefinisi dalam cell, namun ada pada sistem :\n",
        "1.   **df_2009** s.d. **df_2019**\n",
        "2.   **mention_2009** s.d. **mention_2019**\n",
        "3.   **mentioned_2009** s.d. **mentioned_2019**\n",
        "4.   **graph_2009** s.d. **graph_2019**\n",
        "5.   **louvain_2019** s.d. **louvain_2019**\n",
        "6.   **labelpro_2009** s.d. **labelpro_2019**\n",
        "7.   **infomap_2009** s.d. **infomap_2019**\n",
        "8.   **louvain_2009_com1** s.d. **louvain_2019_com3**\n",
        "9.   **labelpro_2009_com1** s.d. **labelpro_2019_com3**\n",
        "10.  **infomap_2009_com1** s.d. **infomap_2019_com3**\n",
        "11. **louvain bigram** (berlaku juga sebaliknya untuk **trigram**)\n",
        "- **louvain1_bigram_2009** s.d. **louvain1_bigram_2019**\n",
        "- **louvain2_bigram_2009** s.d. **louvain2_bigram_2019**\n",
        "- **louvain3_bigram_2009** s.d. **louvain3_bigram_2019**\n",
        "12. **label propagation bigram** (berlaku juga sebaliknya untuk **trigram**)\n",
        "- **labelpro1_bigram_2009** s.d. **labelpro1_bigram_2019**\n",
        "- **labelpro2_bigram_2009** s.d. **labelpro2_bigram_2019**\n",
        "- **labelpro3_bigram_2009** s.d. **labelpro3_bigram_2019**\n",
        "13. **infomap bigram** (berlaku juga sebaliknya untuk **trigram**)\n",
        "- **infomap1_bigram_2009** s.d. **infomap1_bigram_2019**\n",
        "- **infomap2_bigram_2009** s.d. **infomap2_bigram_2019**\n",
        "- **infomap3_bigram_2009** s.d. **infomap3_bigram_2019**\n",
        "\n",
        "\n"
      ]
    },
    {
      "cell_type": "markdown",
      "metadata": {
        "id": "jVl0C4UOJA69"
      },
      "source": [
        "## *Code Bin*"
      ]
    },
    {
      "cell_type": "code",
      "execution_count": null,
      "metadata": {
        "colab": {
          "base_uri": "https://localhost:8080/",
          "height": 17
        },
        "id": "G5XPyF158HoZ",
        "outputId": "5caa4fbc-b574-49ac-874f-d25a9dcb0263"
      },
      "outputs": [
        {
          "output_type": "display_data",
          "data": {
            "text/plain": [
              "<IPython.core.display.Javascript object>"
            ],
            "application/javascript": [
              "\n",
              "    async function download(id, filename, size) {\n",
              "      if (!google.colab.kernel.accessAllowed) {\n",
              "        return;\n",
              "      }\n",
              "      const div = document.createElement('div');\n",
              "      const label = document.createElement('label');\n",
              "      label.textContent = `Downloading \"${filename}\": `;\n",
              "      div.appendChild(label);\n",
              "      const progress = document.createElement('progress');\n",
              "      progress.max = size;\n",
              "      div.appendChild(progress);\n",
              "      document.body.appendChild(div);\n",
              "\n",
              "      const buffers = [];\n",
              "      let downloaded = 0;\n",
              "\n",
              "      const channel = await google.colab.kernel.comms.open(id);\n",
              "      // Send a message to notify the kernel that we're ready.\n",
              "      channel.send({})\n",
              "\n",
              "      for await (const message of channel.messages) {\n",
              "        // Send a message to notify the kernel that we're ready.\n",
              "        channel.send({})\n",
              "        if (message.buffers) {\n",
              "          for (const buffer of message.buffers) {\n",
              "            buffers.push(buffer);\n",
              "            downloaded += buffer.byteLength;\n",
              "            progress.value = downloaded;\n",
              "          }\n",
              "        }\n",
              "      }\n",
              "      const blob = new Blob(buffers, {type: 'application/binary'});\n",
              "      const a = document.createElement('a');\n",
              "      a.href = window.URL.createObjectURL(blob);\n",
              "      a.download = filename;\n",
              "      div.appendChild(a);\n",
              "      a.click();\n",
              "      div.remove();\n",
              "    }\n",
              "  "
            ]
          },
          "metadata": {}
        },
        {
          "output_type": "display_data",
          "data": {
            "text/plain": [
              "<IPython.core.display.Javascript object>"
            ],
            "application/javascript": [
              "download(\"download_0e593208-816d-4b6a-a56f-004515504dba\", \"graph_2018.gexf\", 320997)"
            ]
          },
          "metadata": {}
        }
      ],
      "source": [
        "# save to gexf file\n",
        "gexf_file = \"graph_2018.gexf\"#\n",
        "nx.write_gexf(graph_2018, gexf_file)\n",
        "\n",
        "# save to csv file\n",
        "#all_louvain.to_csv('Top3_Komunitas_Louvain_Setiap_Tahun.csv', index=False)\n",
        "\n",
        "# download the data\n",
        "from google.colab import files\n",
        "#files.download('graph_2009.gexf')\n",
        "#files.download('Top3_Komunitas_Louvain_Setiap_Tahun.csv')\n",
        "files.download('graph_2018.gexf')"
      ]
    },
    {
      "cell_type": "code",
      "execution_count": null,
      "metadata": {
        "id": "EwodOw2c3pG7"
      },
      "outputs": [],
      "source": [
        "# view the iteration\n",
        "#data['clean_tweet'] = ''\n",
        "#for idx, post in tqdm(data.iterrows()):\n",
        "  #data[idx, 'clean_tweet'] = preprocess(post.tweet)"
      ]
    }
  ],
  "metadata": {
    "colab": {
      "collapsed_sections": [
        "CfGX0jJxQXYF",
        "wemoYIqVOWlP",
        "qx9HaSxjSV82",
        "DCqzD6YyUUWg",
        "lQZ-L5_0TOPu",
        "wQQ9PK67AmBo",
        "NrdO14s0FCtx",
        "q6ktlHWyFgl_",
        "u7UZQJhCGJVk",
        "4H-LJJg-Uy9I",
        "hBNfo1eVFV0-",
        "B3xkKE8iGMya",
        "dfdufa_GU5ns",
        "o1WlWtFyVXWQ",
        "kDWOj0X-sHd7",
        "nBQsj58Fvtfz",
        "ZpWLYmnwv06g",
        "8ABHnb6CZtaf",
        "4JBRIcZZGIQi",
        "JVOpGiKSGK_q",
        "vbGO8SdwVEEO"
      ],
      "provenance": []
    },
    "kernelspec": {
      "display_name": "Python 3",
      "name": "python3"
    },
    "language_info": {
      "name": "python"
    }
  },
  "nbformat": 4,
  "nbformat_minor": 0
}